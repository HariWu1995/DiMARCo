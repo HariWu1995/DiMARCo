{
 "cells": [
  {
   "cell_type": "markdown",
   "metadata": {},
   "source": [
    "<center>\n",
    "    <img src=\"https://i.postimg.cc/26RtyM0s/3221asdf.jpg\" width=690>\n",
    "</center>"
   ]
  },
  {
   "cell_type": "markdown",
   "metadata": {},
   "source": [
    "# <div style=\"color: white; border: lightgreen solid; font-weight: bold; font-size: 120%; text-align: center; padding: 12.0px; background: black\">0. ENVIRONMENT INITIALIZATION & FUNCTION DEFINITION</div>"
   ]
  },
  {
   "cell_type": "markdown",
   "metadata": {},
   "source": [
    "# Environment"
   ]
  },
  {
   "cell_type": "code",
   "execution_count": 1,
   "metadata": {},
   "outputs": [],
   "source": [
    "# !pip install -q pandas \"plotly>=5\" \"ipywidgets>=7.6\" \n",
    "# !pip install -q wradlib\n",
    "\n",
    "# !pip install opencv-contrib-python\n",
    "# !pip install spatial-correlation-sampler --no-build-isolation"
   ]
  },
  {
   "cell_type": "code",
   "execution_count": 2,
   "metadata": {},
   "outputs": [],
   "source": [
    "import sys\n",
    "sys.path.append('../src')"
   ]
  },
  {
   "cell_type": "code",
   "execution_count": 3,
   "metadata": {},
   "outputs": [],
   "source": [
    "import os\n",
    "import json\n",
    "\n",
    "from copy import deepcopy\n",
    "from glob import glob\n",
    "from pathlib import Path\n",
    "from subprocess import Popen, PIPE, STDOUT\n",
    "\n",
    "import pandas as pd\n",
    "import numpy as np\n",
    "import cv2\n",
    "\n",
    "from PIL import Image\n",
    "\n",
    "import plotly.express as px\n",
    "import plotly.graph_objects as go"
   ]
  },
  {
   "cell_type": "code",
   "execution_count": 4,
   "metadata": {},
   "outputs": [
    {
     "data": {
      "image/png": "[encoded data removed]",
      "text/plain": [
       "<Figure size 750x150 with 1 Axes>"
      ]
     },
     "metadata": {},
     "output_type": "display_data"
    }
   ],
   "source": [
    "from arckit.vis import test_color\n",
    "\n",
    "test_color()"
   ]
  },
  {
   "cell_type": "markdown",
   "metadata": {},
   "source": [
    "# Functions"
   ]
  },
  {
   "cell_type": "markdown",
   "metadata": {},
   "source": [
    "## IO Functions"
   ]
  },
  {
   "cell_type": "code",
   "execution_count": 5,
   "metadata": {},
   "outputs": [],
   "source": [
    "def load_json(file_path: Path or str):\n",
    "    if not isinstance(file_path, str):\n",
    "        file_path = str(file_path)\n",
    "    with open(file_path) as f:\n",
    "        data = json.load(f)\n",
    "    return data"
   ]
  },
  {
   "cell_type": "markdown",
   "metadata": {},
   "source": [
    "## Visual Functions"
   ]
  },
  {
   "cell_type": "code",
   "execution_count": 6,
   "metadata": {},
   "outputs": [],
   "source": [
    "from motion.algorithms import _calculate_optical_flow\n",
    "from motion.vis_utils import visualize_dense_flow"
   ]
  },
  {
   "cell_type": "code",
   "execution_count": 7,
   "metadata": {},
   "outputs": [],
   "source": [
    "import torch\n",
    "import torch.nn as nn\n",
    "import torch.nn.functional as F\n",
    "\n",
    "device = \"cuda\"\n",
    "dtype = torch.float32\n",
    "\n",
    "from spatial_correlation_sampler import SpatialCorrelationSampler, spatial_correlation_sample"
   ]
  },
  {
   "cell_type": "markdown",
   "metadata": {},
   "source": [
    "# <div style=\"color: white; border: lightgreen solid; font-weight: bold; font-size: 120%; text-align: center; padding: 12.0px; background: black\">1. DATA LOADING</div>"
   ]
  },
  {
   "cell_type": "code",
   "execution_count": 8,
   "metadata": {},
   "outputs": [],
   "source": [
    "dataset_dir = Path('../data/competition')\n",
    "# dataset_dir = Path('/kaggle/input/arc-prize-2024/')\n",
    "\n",
    "# train_challenges = load_json(dataset_dir / 'arc-agi_training_challenges.json')\n",
    "# train_solutions  = load_json(dataset_dir / 'arc-agi_training_solutions.json')\n",
    "\n",
    "# eval_challenges = load_json(dataset_dir / 'arc-agi_evaluation_challenges.json')\n",
    "# eval_solutions  = load_json(dataset_dir / 'arc-agi_evaluation_solutions.json')\n",
    "\n",
    "# test_challenges = load_json(dataset_dir / 'arc-agi_test_challenges.json')\n",
    "\n",
    "# sample_submission.json"
   ]
  },
  {
   "cell_type": "code",
   "execution_count": 9,
   "metadata": {},
   "outputs": [],
   "source": [
    "import arckit\n",
    "\n",
    "train_set, eval_set = arckit.load_data()"
   ]
  },
  {
   "cell_type": "code",
   "execution_count": null,
   "metadata": {},
   "outputs": [],
   "source": []
  },
  {
   "cell_type": "code",
   "execution_count": null,
   "metadata": {},
   "outputs": [],
   "source": []
  },
  {
   "cell_type": "markdown",
   "metadata": {},
   "source": [
    "# <div  style=\"color:white; border:lightgreen solid;  font-weight:bold; font-size:120%; text-align:center;padding:12.0px; background:black\">2. DATA INSIGHTS</div>"
   ]
  },
  {
   "cell_type": "markdown",
   "metadata": {},
   "source": [
    "# Grid-Size "
   ]
  },
  {
   "cell_type": "code",
   "execution_count": 10,
   "metadata": {},
   "outputs": [
    {
     "data": {
      "text/html": [
       "<div>\n",
       "<style scoped>\n",
       "    .dataframe tbody tr th:only-of-type {\n",
       "        vertical-align: middle;\n",
       "    }\n",
       "\n",
       "    .dataframe tbody tr th {\n",
       "        vertical-align: top;\n",
       "    }\n",
       "\n",
       "    .dataframe thead th {\n",
       "        text-align: right;\n",
       "    }\n",
       "</style>\n",
       "<table border=\"1\" class=\"dataframe\">\n",
       "  <thead>\n",
       "    <tr style=\"text-align: right;\">\n",
       "      <th></th>\n",
       "      <th>105</th>\n",
       "      <th>113</th>\n",
       "      <th>400</th>\n",
       "      <th>476</th>\n",
       "      <th>397</th>\n",
       "      <th>294</th>\n",
       "      <th>210</th>\n",
       "      <th>18</th>\n",
       "      <th>55</th>\n",
       "      <th>102</th>\n",
       "      <th>...</th>\n",
       "      <th>564</th>\n",
       "      <th>632</th>\n",
       "      <th>659</th>\n",
       "      <th>666</th>\n",
       "      <th>680</th>\n",
       "      <th>708</th>\n",
       "      <th>741</th>\n",
       "      <th>780</th>\n",
       "      <th>789</th>\n",
       "      <th>791</th>\n",
       "    </tr>\n",
       "  </thead>\n",
       "  <tbody>\n",
       "    <tr>\n",
       "      <th>set</th>\n",
       "      <td>train</td>\n",
       "      <td>train</td>\n",
       "      <td>eval</td>\n",
       "      <td>eval</td>\n",
       "      <td>train</td>\n",
       "      <td>train</td>\n",
       "      <td>train</td>\n",
       "      <td>train</td>\n",
       "      <td>train</td>\n",
       "      <td>train</td>\n",
       "      <td>...</td>\n",
       "      <td>eval</td>\n",
       "      <td>eval</td>\n",
       "      <td>eval</td>\n",
       "      <td>eval</td>\n",
       "      <td>eval</td>\n",
       "      <td>eval</td>\n",
       "      <td>eval</td>\n",
       "      <td>eval</td>\n",
       "      <td>eval</td>\n",
       "      <td>eval</td>\n",
       "    </tr>\n",
       "    <tr>\n",
       "      <th>task_id</th>\n",
       "      <td>46442a0e</td>\n",
       "      <td>49d1d64f</td>\n",
       "      <td>00576224</td>\n",
       "      <td>310f3251</td>\n",
       "      <td>feca6190</td>\n",
       "      <td>bbc9ae5d</td>\n",
       "      <td>8d5021e8</td>\n",
       "      <td>10fcaaa3</td>\n",
       "      <td>27a28665</td>\n",
       "      <td>44f52bb0</td>\n",
       "      <td>...</td>\n",
       "      <td>696d4842</td>\n",
       "      <td>981571dc</td>\n",
       "      <td>ac0c5833</td>\n",
       "      <td>af22c60d</td>\n",
       "      <td>b9630600</td>\n",
       "      <td>ca8f78db</td>\n",
       "      <td>e1d2900e</td>\n",
       "      <td>f3b10344</td>\n",
       "      <td>f8be4b64</td>\n",
       "      <td>f9d67f8b</td>\n",
       "    </tr>\n",
       "    <tr>\n",
       "      <th>size_in</th>\n",
       "      <td>4</td>\n",
       "      <td>4</td>\n",
       "      <td>4</td>\n",
       "      <td>4</td>\n",
       "      <td>5</td>\n",
       "      <td>6</td>\n",
       "      <td>6</td>\n",
       "      <td>8</td>\n",
       "      <td>9</td>\n",
       "      <td>9</td>\n",
       "      <td>...</td>\n",
       "      <td>900</td>\n",
       "      <td>900</td>\n",
       "      <td>900</td>\n",
       "      <td>900</td>\n",
       "      <td>900</td>\n",
       "      <td>900</td>\n",
       "      <td>900</td>\n",
       "      <td>900</td>\n",
       "      <td>900</td>\n",
       "      <td>900</td>\n",
       "    </tr>\n",
       "    <tr>\n",
       "      <th>size_out</th>\n",
       "      <td>16</td>\n",
       "      <td>16</td>\n",
       "      <td>36</td>\n",
       "      <td>36</td>\n",
       "      <td>100</td>\n",
       "      <td>18</td>\n",
       "      <td>36</td>\n",
       "      <td>32</td>\n",
       "      <td>1</td>\n",
       "      <td>1</td>\n",
       "      <td>...</td>\n",
       "      <td>900</td>\n",
       "      <td>900</td>\n",
       "      <td>900</td>\n",
       "      <td>900</td>\n",
       "      <td>900</td>\n",
       "      <td>900</td>\n",
       "      <td>900</td>\n",
       "      <td>900</td>\n",
       "      <td>900</td>\n",
       "      <td>900</td>\n",
       "    </tr>\n",
       "    <tr>\n",
       "      <th>comparison</th>\n",
       "      <td>expand</td>\n",
       "      <td>expand</td>\n",
       "      <td>expand</td>\n",
       "      <td>expand</td>\n",
       "      <td>expand</td>\n",
       "      <td>expand</td>\n",
       "      <td>expand</td>\n",
       "      <td>expand</td>\n",
       "      <td>extract</td>\n",
       "      <td>extract</td>\n",
       "      <td>...</td>\n",
       "      <td>still</td>\n",
       "      <td>still</td>\n",
       "      <td>still</td>\n",
       "      <td>still</td>\n",
       "      <td>still</td>\n",
       "      <td>still</td>\n",
       "      <td>still</td>\n",
       "      <td>still</td>\n",
       "      <td>still</td>\n",
       "      <td>still</td>\n",
       "    </tr>\n",
       "  </tbody>\n",
       "</table>\n",
       "<p>5 rows × 800 columns</p>\n",
       "</div>"
      ],
      "text/plain": [
       "                 105       113       400       476       397       294  \\\n",
       "set            train     train      eval      eval     train     train   \n",
       "task_id     46442a0e  49d1d64f  00576224  310f3251  feca6190  bbc9ae5d   \n",
       "size_in            4         4         4         4         5         6   \n",
       "size_out          16        16        36        36       100        18   \n",
       "comparison    expand    expand    expand    expand    expand    expand   \n",
       "\n",
       "                 210       18        55        102  ...       564       632  \\\n",
       "set            train     train     train     train  ...      eval      eval   \n",
       "task_id     8d5021e8  10fcaaa3  27a28665  44f52bb0  ...  696d4842  981571dc   \n",
       "size_in            6         8         9         9  ...       900       900   \n",
       "size_out          36        32         1         1  ...       900       900   \n",
       "comparison    expand    expand   extract   extract  ...     still     still   \n",
       "\n",
       "                 659       666       680       708       741       780  \\\n",
       "set             eval      eval      eval      eval      eval      eval   \n",
       "task_id     ac0c5833  af22c60d  b9630600  ca8f78db  e1d2900e  f3b10344   \n",
       "size_in          900       900       900       900       900       900   \n",
       "size_out         900       900       900       900       900       900   \n",
       "comparison     still     still     still     still     still     still   \n",
       "\n",
       "                 789       791  \n",
       "set             eval      eval  \n",
       "task_id     f8be4b64  f9d67f8b  \n",
       "size_in          900       900  \n",
       "size_out         900       900  \n",
       "comparison     still     still  \n",
       "\n",
       "[5 rows x 800 columns]"
      ]
     },
     "metadata": {},
     "output_type": "display_data"
    },
    {
     "data": {
      "text/html": [
       "<div>\n",
       "<style scoped>\n",
       "    .dataframe tbody tr th:only-of-type {\n",
       "        vertical-align: middle;\n",
       "    }\n",
       "\n",
       "    .dataframe tbody tr th {\n",
       "        vertical-align: top;\n",
       "    }\n",
       "\n",
       "    .dataframe thead th {\n",
       "        text-align: right;\n",
       "    }\n",
       "</style>\n",
       "<table border=\"1\" class=\"dataframe\">\n",
       "  <thead>\n",
       "    <tr style=\"text-align: right;\">\n",
       "      <th></th>\n",
       "      <th>count</th>\n",
       "      <th>mean</th>\n",
       "      <th>std</th>\n",
       "      <th>min</th>\n",
       "      <th>25%</th>\n",
       "      <th>50%</th>\n",
       "      <th>75%</th>\n",
       "      <th>max</th>\n",
       "    </tr>\n",
       "  </thead>\n",
       "  <tbody>\n",
       "    <tr>\n",
       "      <th>size_in</th>\n",
       "      <td>800.0</td>\n",
       "      <td>192.95875</td>\n",
       "      <td>204.784504</td>\n",
       "      <td>4.0</td>\n",
       "      <td>49.0</td>\n",
       "      <td>110.0</td>\n",
       "      <td>247.0</td>\n",
       "      <td>900.0</td>\n",
       "    </tr>\n",
       "    <tr>\n",
       "      <th>size_out</th>\n",
       "      <td>800.0</td>\n",
       "      <td>156.16625</td>\n",
       "      <td>192.006163</td>\n",
       "      <td>1.0</td>\n",
       "      <td>25.0</td>\n",
       "      <td>100.0</td>\n",
       "      <td>208.0</td>\n",
       "      <td>900.0</td>\n",
       "    </tr>\n",
       "  </tbody>\n",
       "</table>\n",
       "</div>"
      ],
      "text/plain": [
       "          count       mean         std  min   25%    50%    75%    max\n",
       "size_in   800.0  192.95875  204.784504  4.0  49.0  110.0  247.0  900.0\n",
       "size_out  800.0  156.16625  192.006163  1.0  25.0  100.0  208.0  900.0"
      ]
     },
     "metadata": {},
     "output_type": "display_data"
    }
   ],
   "source": [
    "GridSizeDF = pd.DataFrame(columns=['set','task_id','size_in','size_out'])\n",
    "\n",
    "row = 0\n",
    "for s, subset in [('train', train_set), ('eval', eval_set)]:\n",
    "    # if s == 'eval':\n",
    "    #     continue\n",
    "    for task in subset:\n",
    "        I, O = task.train[0]\n",
    "        GridSizeDF.loc[row] = [s, task.id, I.size, O.size]\n",
    "        row += 1\n",
    "\n",
    "        if (len(I.shape) != 2) or (len(O.shape) != 2):\n",
    "            print(task)\n",
    "\n",
    "GridSizeDF['comparison'] = (GridSizeDF['size_in'] - GridSizeDF['size_out']).apply(\n",
    "    lambda x: 'expand' if x < 0 else ('extract' if x > 0 else 'still')\n",
    ")\n",
    "\n",
    "display(GridSizeDF.sort_values(by=['size_in','size_out'], ascending=True).T)\n",
    "display(GridSizeDF[['size_in','size_out']].describe().T)"
   ]
  },
  {
   "cell_type": "code",
   "execution_count": 24,
   "metadata": {},
   "outputs": [],
   "source": [
    "COMP_COLORS = {\n",
    "    'still': 'darkslategray', \n",
    "    'expand': 'red',\n",
    "    'extract': 'green',\n",
    "}"
   ]
  },
  {
   "cell_type": "code",
   "execution_count": 26,
   "metadata": {},
   "outputs": [
    {
     "data": {
      "application/vnd.plotly.v1+json": {
       "config": {
        "plotlyServerURL": "https://plot.ly"
       },
       "data": [
        {
         "marker": {
          "color": [
           "red",
           "green",
           "darkslategray"
          ]
         },
         "text": [
          72,
          196,
          532
         ],
         "textposition": "inside",
         "type": "bar",
         "x": [
          "expand",
          "extract",
          "still"
         ],
         "y": [
          72,
          196,
          532
         ]
        }
       ],
       "layout": {
        "autosize": false,
        "height": 400,
        "template": {
         "data": {
          "bar": [
           {
            "error_x": {
             "color": "#2a3f5f"
            },
            "error_y": {
             "color": "#2a3f5f"
            },
            "marker": {
             "line": {
              "color": "#E5ECF6",
              "width": 0.5
             },
             "pattern": {
              "fillmode": "overlay",
              "size": 10,
              "solidity": 0.2
             }
            },
            "type": "bar"
           }
          ],
          "barpolar": [
           {
            "marker": {
             "line": {
              "color": "#E5ECF6",
              "width": 0.5
             },
             "pattern": {
              "fillmode": "overlay",
              "size": 10,
              "solidity": 0.2
             }
            },
            "type": "barpolar"
           }
          ],
          "carpet": [
           {
            "aaxis": {
             "endlinecolor": "#2a3f5f",
             "gridcolor": "white",
             "linecolor": "white",
             "minorgridcolor": "white",
             "startlinecolor": "#2a3f5f"
            },
            "baxis": {
             "endlinecolor": "#2a3f5f",
             "gridcolor": "white",
             "linecolor": "white",
             "minorgridcolor": "white",
             "startlinecolor": "#2a3f5f"
            },
            "type": "carpet"
           }
          ],
          "choropleth": [
           {
            "colorbar": {
             "outlinewidth": 0,
             "ticks": ""
            },
            "type": "choropleth"
           }
          ],
          "contour": [
           {
            "colorbar": {
             "outlinewidth": 0,
             "ticks": ""
            },
            "colorscale": [
             [
              0,
              "#0d0887"
             ],
             [
              0.1111111111111111,
              "#46039f"
             ],
             [
              0.2222222222222222,
              "#7201a8"
             ],
             [
              0.3333333333333333,
              "#9c179e"
             ],
             [
              0.4444444444444444,
              "#bd3786"
             ],
             [
              0.5555555555555556,
              "#d8576b"
             ],
             [
              0.6666666666666666,
              "#ed7953"
             ],
             [
              0.7777777777777778,
              "#fb9f3a"
             ],
             [
              0.8888888888888888,
              "#fdca26"
             ],
             [
              1,
              "#f0f921"
             ]
            ],
            "type": "contour"
           }
          ],
          "contourcarpet": [
           {
            "colorbar": {
             "outlinewidth": 0,
             "ticks": ""
            },
            "type": "contourcarpet"
           }
          ],
          "heatmap": [
           {
            "colorbar": {
             "outlinewidth": 0,
             "ticks": ""
            },
            "colorscale": [
             [
              0,
              "#0d0887"
             ],
             [
              0.1111111111111111,
              "#46039f"
             ],
             [
              0.2222222222222222,
              "#7201a8"
             ],
             [
              0.3333333333333333,
              "#9c179e"
             ],
             [
              0.4444444444444444,
              "#bd3786"
             ],
             [
              0.5555555555555556,
              "#d8576b"
             ],
             [
              0.6666666666666666,
              "#ed7953"
             ],
             [
              0.7777777777777778,
              "#fb9f3a"
             ],
             [
              0.8888888888888888,
              "#fdca26"
             ],
             [
              1,
              "#f0f921"
             ]
            ],
            "type": "heatmap"
           }
          ],
          "heatmapgl": [
           {
            "colorbar": {
             "outlinewidth": 0,
             "ticks": ""
            },
            "colorscale": [
             [
              0,
              "#0d0887"
             ],
             [
              0.1111111111111111,
              "#46039f"
             ],
             [
              0.2222222222222222,
              "#7201a8"
             ],
             [
              0.3333333333333333,
              "#9c179e"
             ],
             [
              0.4444444444444444,
              "#bd3786"
             ],
             [
              0.5555555555555556,
              "#d8576b"
             ],
             [
              0.6666666666666666,
              "#ed7953"
             ],
             [
              0.7777777777777778,
              "#fb9f3a"
             ],
             [
              0.8888888888888888,
              "#fdca26"
             ],
             [
              1,
              "#f0f921"
             ]
            ],
            "type": "heatmapgl"
           }
          ],
          "histogram": [
           {
            "marker": {
             "pattern": {
              "fillmode": "overlay",
              "size": 10,
              "solidity": 0.2
             }
            },
            "type": "histogram"
           }
          ],
          "histogram2d": [
           {
            "colorbar": {
             "outlinewidth": 0,
             "ticks": ""
            },
            "colorscale": [
             [
              0,
              "#0d0887"
             ],
             [
              0.1111111111111111,
              "#46039f"
             ],
             [
              0.2222222222222222,
              "#7201a8"
             ],
             [
              0.3333333333333333,
              "#9c179e"
             ],
             [
              0.4444444444444444,
              "#bd3786"
             ],
             [
              0.5555555555555556,
              "#d8576b"
             ],
             [
              0.6666666666666666,
              "#ed7953"
             ],
             [
              0.7777777777777778,
              "#fb9f3a"
             ],
             [
              0.8888888888888888,
              "#fdca26"
             ],
             [
              1,
              "#f0f921"
             ]
            ],
            "type": "histogram2d"
           }
          ],
          "histogram2dcontour": [
           {
            "colorbar": {
             "outlinewidth": 0,
             "ticks": ""
            },
            "colorscale": [
             [
              0,
              "#0d0887"
             ],
             [
              0.1111111111111111,
              "#46039f"
             ],
             [
              0.2222222222222222,
              "#7201a8"
             ],
             [
              0.3333333333333333,
              "#9c179e"
             ],
             [
              0.4444444444444444,
              "#bd3786"
             ],
             [
              0.5555555555555556,
              "#d8576b"
             ],
             [
              0.6666666666666666,
              "#ed7953"
             ],
             [
              0.7777777777777778,
              "#fb9f3a"
             ],
             [
              0.8888888888888888,
              "#fdca26"
             ],
             [
              1,
              "#f0f921"
             ]
            ],
            "type": "histogram2dcontour"
           }
          ],
          "mesh3d": [
           {
            "colorbar": {
             "outlinewidth": 0,
             "ticks": ""
            },
            "type": "mesh3d"
           }
          ],
          "parcoords": [
           {
            "line": {
             "colorbar": {
              "outlinewidth": 0,
              "ticks": ""
             }
            },
            "type": "parcoords"
           }
          ],
          "pie": [
           {
            "automargin": true,
            "type": "pie"
           }
          ],
          "scatter": [
           {
            "fillpattern": {
             "fillmode": "overlay",
             "size": 10,
             "solidity": 0.2
            },
            "type": "scatter"
           }
          ],
          "scatter3d": [
           {
            "line": {
             "colorbar": {
              "outlinewidth": 0,
              "ticks": ""
             }
            },
            "marker": {
             "colorbar": {
              "outlinewidth": 0,
              "ticks": ""
             }
            },
            "type": "scatter3d"
           }
          ],
          "scattercarpet": [
           {
            "marker": {
             "colorbar": {
              "outlinewidth": 0,
              "ticks": ""
             }
            },
            "type": "scattercarpet"
           }
          ],
          "scattergeo": [
           {
            "marker": {
             "colorbar": {
              "outlinewidth": 0,
              "ticks": ""
             }
            },
            "type": "scattergeo"
           }
          ],
          "scattergl": [
           {
            "marker": {
             "colorbar": {
              "outlinewidth": 0,
              "ticks": ""
             }
            },
            "type": "scattergl"
           }
          ],
          "scattermapbox": [
           {
            "marker": {
             "colorbar": {
              "outlinewidth": 0,
              "ticks": ""
             }
            },
            "type": "scattermapbox"
           }
          ],
          "scatterpolar": [
           {
            "marker": {
             "colorbar": {
              "outlinewidth": 0,
              "ticks": ""
             }
            },
            "type": "scatterpolar"
           }
          ],
          "scatterpolargl": [
           {
            "marker": {
             "colorbar": {
              "outlinewidth": 0,
              "ticks": ""
             }
            },
            "type": "scatterpolargl"
           }
          ],
          "scatterternary": [
           {
            "marker": {
             "colorbar": {
              "outlinewidth": 0,
              "ticks": ""
             }
            },
            "type": "scatterternary"
           }
          ],
          "surface": [
           {
            "colorbar": {
             "outlinewidth": 0,
             "ticks": ""
            },
            "colorscale": [
             [
              0,
              "#0d0887"
             ],
             [
              0.1111111111111111,
              "#46039f"
             ],
             [
              0.2222222222222222,
              "#7201a8"
             ],
             [
              0.3333333333333333,
              "#9c179e"
             ],
             [
              0.4444444444444444,
              "#bd3786"
             ],
             [
              0.5555555555555556,
              "#d8576b"
             ],
             [
              0.6666666666666666,
              "#ed7953"
             ],
             [
              0.7777777777777778,
              "#fb9f3a"
             ],
             [
              0.8888888888888888,
              "#fdca26"
             ],
             [
              1,
              "#f0f921"
             ]
            ],
            "type": "surface"
           }
          ],
          "table": [
           {
            "cells": {
             "fill": {
              "color": "#EBF0F8"
             },
             "line": {
              "color": "white"
             }
            },
            "header": {
             "fill": {
              "color": "#C8D4E3"
             },
             "line": {
              "color": "white"
             }
            },
            "type": "table"
           }
          ]
         },
         "layout": {
          "annotationdefaults": {
           "arrowcolor": "#2a3f5f",
           "arrowhead": 0,
           "arrowwidth": 1
          },
          "autotypenumbers": "strict",
          "coloraxis": {
           "colorbar": {
            "outlinewidth": 0,
            "ticks": ""
           }
          },
          "colorscale": {
           "diverging": [
            [
             0,
             "#8e0152"
            ],
            [
             0.1,
             "#c51b7d"
            ],
            [
             0.2,
             "#de77ae"
            ],
            [
             0.3,
             "#f1b6da"
            ],
            [
             0.4,
             "#fde0ef"
            ],
            [
             0.5,
             "#f7f7f7"
            ],
            [
             0.6,
             "#e6f5d0"
            ],
            [
             0.7,
             "#b8e186"
            ],
            [
             0.8,
             "#7fbc41"
            ],
            [
             0.9,
             "#4d9221"
            ],
            [
             1,
             "#276419"
            ]
           ],
           "sequential": [
            [
             0,
             "#0d0887"
            ],
            [
             0.1111111111111111,
             "#46039f"
            ],
            [
             0.2222222222222222,
             "#7201a8"
            ],
            [
             0.3333333333333333,
             "#9c179e"
            ],
            [
             0.4444444444444444,
             "#bd3786"
            ],
            [
             0.5555555555555556,
             "#d8576b"
            ],
            [
             0.6666666666666666,
             "#ed7953"
            ],
            [
             0.7777777777777778,
             "#fb9f3a"
            ],
            [
             0.8888888888888888,
             "#fdca26"
            ],
            [
             1,
             "#f0f921"
            ]
           ],
           "sequentialminus": [
            [
             0,
             "#0d0887"
            ],
            [
             0.1111111111111111,
             "#46039f"
            ],
            [
             0.2222222222222222,
             "#7201a8"
            ],
            [
             0.3333333333333333,
             "#9c179e"
            ],
            [
             0.4444444444444444,
             "#bd3786"
            ],
            [
             0.5555555555555556,
             "#d8576b"
            ],
            [
             0.6666666666666666,
             "#ed7953"
            ],
            [
             0.7777777777777778,
             "#fb9f3a"
            ],
            [
             0.8888888888888888,
             "#fdca26"
            ],
            [
             1,
             "#f0f921"
            ]
           ]
          },
          "colorway": [
           "#636efa",
           "#EF553B",
           "#00cc96",
           "#ab63fa",
           "#FFA15A",
           "#19d3f3",
           "#FF6692",
           "#B6E880",
           "#FF97FF",
           "#FECB52"
          ],
          "font": {
           "color": "#2a3f5f"
          },
          "geo": {
           "bgcolor": "white",
           "lakecolor": "white",
           "landcolor": "#E5ECF6",
           "showlakes": true,
           "showland": true,
           "subunitcolor": "white"
          },
          "hoverlabel": {
           "align": "left"
          },
          "hovermode": "closest",
          "mapbox": {
           "style": "light"
          },
          "paper_bgcolor": "white",
          "plot_bgcolor": "#E5ECF6",
          "polar": {
           "angularaxis": {
            "gridcolor": "white",
            "linecolor": "white",
            "ticks": ""
           },
           "bgcolor": "#E5ECF6",
           "radialaxis": {
            "gridcolor": "white",
            "linecolor": "white",
            "ticks": ""
           }
          },
          "scene": {
           "xaxis": {
            "backgroundcolor": "#E5ECF6",
            "gridcolor": "white",
            "gridwidth": 2,
            "linecolor": "white",
            "showbackground": true,
            "ticks": "",
            "zerolinecolor": "white"
           },
           "yaxis": {
            "backgroundcolor": "#E5ECF6",
            "gridcolor": "white",
            "gridwidth": 2,
            "linecolor": "white",
            "showbackground": true,
            "ticks": "",
            "zerolinecolor": "white"
           },
           "zaxis": {
            "backgroundcolor": "#E5ECF6",
            "gridcolor": "white",
            "gridwidth": 2,
            "linecolor": "white",
            "showbackground": true,
            "ticks": "",
            "zerolinecolor": "white"
           }
          },
          "shapedefaults": {
           "line": {
            "color": "#2a3f5f"
           }
          },
          "ternary": {
           "aaxis": {
            "gridcolor": "white",
            "linecolor": "white",
            "ticks": ""
           },
           "baxis": {
            "gridcolor": "white",
            "linecolor": "white",
            "ticks": ""
           },
           "bgcolor": "#E5ECF6",
           "caxis": {
            "gridcolor": "white",
            "linecolor": "white",
            "ticks": ""
           }
          },
          "title": {
           "x": 0.05
          },
          "xaxis": {
           "automargin": true,
           "gridcolor": "white",
           "linecolor": "white",
           "ticks": "",
           "title": {
            "standoff": 15
           },
           "zerolinecolor": "white",
           "zerolinewidth": 2
          },
          "yaxis": {
           "automargin": true,
           "gridcolor": "white",
           "linecolor": "white",
           "ticks": "",
           "title": {
            "standoff": 15
           },
           "zerolinecolor": "white",
           "zerolinewidth": 2
          }
         }
        },
        "width": 690,
        "xaxis": {
         "autorange": true,
         "range": [
          -0.5,
          2.5
         ],
         "type": "category"
        },
        "yaxis": {
         "autorange": true,
         "range": [
          0,
          560
         ],
         "type": "linear"
        }
       }
      },
      "image/png": "[encoded data removed]",
      "text/html": [
       "<div>                            <div id=\"64e055cc-0e51-4373-95ce-868387266eeb\" class=\"plotly-graph-div\" style=\"height:400px; width:690px;\"></div>            <script type=\"text/javascript\">                require([\"plotly\"], function(Plotly) {                    window.PLOTLYENV=window.PLOTLYENV || {};                                    if (document.getElementById(\"64e055cc-0e51-4373-95ce-868387266eeb\")) {                    Plotly.newPlot(                        \"64e055cc-0e51-4373-95ce-868387266eeb\",                        [{\"marker\":{\"color\":[\"red\",\"green\",\"darkslategray\"]},\"text\":[72.0,196.0,532.0],\"textposition\":\"inside\",\"x\":[\"expand\",\"extract\",\"still\"],\"y\":[72,196,532],\"type\":\"bar\"}],                        {\"template\":{\"data\":{\"histogram2dcontour\":[{\"type\":\"histogram2dcontour\",\"colorbar\":{\"outlinewidth\":0,\"ticks\":\"\"},\"colorscale\":[[0.0,\"#0d0887\"],[0.1111111111111111,\"#46039f\"],[0.2222222222222222,\"#7201a8\"],[0.3333333333333333,\"#9c179e\"],[0.4444444444444444,\"#bd3786\"],[0.5555555555555556,\"#d8576b\"],[0.6666666666666666,\"#ed7953\"],[0.7777777777777778,\"#fb9f3a\"],[0.8888888888888888,\"#fdca26\"],[1.0,\"#f0f921\"]]}],\"choropleth\":[{\"type\":\"choropleth\",\"colorbar\":{\"outlinewidth\":0,\"ticks\":\"\"}}],\"histogram2d\":[{\"type\":\"histogram2d\",\"colorbar\":{\"outlinewidth\":0,\"ticks\":\"\"},\"colorscale\":[[0.0,\"#0d0887\"],[0.1111111111111111,\"#46039f\"],[0.2222222222222222,\"#7201a8\"],[0.3333333333333333,\"#9c179e\"],[0.4444444444444444,\"#bd3786\"],[0.5555555555555556,\"#d8576b\"],[0.6666666666666666,\"#ed7953\"],[0.7777777777777778,\"#fb9f3a\"],[0.8888888888888888,\"#fdca26\"],[1.0,\"#f0f921\"]]}],\"heatmap\":[{\"type\":\"heatmap\",\"colorbar\":{\"outlinewidth\":0,\"ticks\":\"\"},\"colorscale\":[[0.0,\"#0d0887\"],[0.1111111111111111,\"#46039f\"],[0.2222222222222222,\"#7201a8\"],[0.3333333333333333,\"#9c179e\"],[0.4444444444444444,\"#bd3786\"],[0.5555555555555556,\"#d8576b\"],[0.6666666666666666,\"#ed7953\"],[0.7777777777777778,\"#fb9f3a\"],[0.8888888888888888,\"#fdca26\"],[1.0,\"#f0f921\"]]}],\"heatmapgl\":[{\"type\":\"heatmapgl\",\"colorbar\":{\"outlinewidth\":0,\"ticks\":\"\"},\"colorscale\":[[0.0,\"#0d0887\"],[0.1111111111111111,\"#46039f\"],[0.2222222222222222,\"#7201a8\"],[0.3333333333333333,\"#9c179e\"],[0.4444444444444444,\"#bd3786\"],[0.5555555555555556,\"#d8576b\"],[0.6666666666666666,\"#ed7953\"],[0.7777777777777778,\"#fb9f3a\"],[0.8888888888888888,\"#fdca26\"],[1.0,\"#f0f921\"]]}],\"contourcarpet\":[{\"type\":\"contourcarpet\",\"colorbar\":{\"outlinewidth\":0,\"ticks\":\"\"}}],\"contour\":[{\"type\":\"contour\",\"colorbar\":{\"outlinewidth\":0,\"ticks\":\"\"},\"colorscale\":[[0.0,\"#0d0887\"],[0.1111111111111111,\"#46039f\"],[0.2222222222222222,\"#7201a8\"],[0.3333333333333333,\"#9c179e\"],[0.4444444444444444,\"#bd3786\"],[0.5555555555555556,\"#d8576b\"],[0.6666666666666666,\"#ed7953\"],[0.7777777777777778,\"#fb9f3a\"],[0.8888888888888888,\"#fdca26\"],[1.0,\"#f0f921\"]]}],\"surface\":[{\"type\":\"surface\",\"colorbar\":{\"outlinewidth\":0,\"ticks\":\"\"},\"colorscale\":[[0.0,\"#0d0887\"],[0.1111111111111111,\"#46039f\"],[0.2222222222222222,\"#7201a8\"],[0.3333333333333333,\"#9c179e\"],[0.4444444444444444,\"#bd3786\"],[0.5555555555555556,\"#d8576b\"],[0.6666666666666666,\"#ed7953\"],[0.7777777777777778,\"#fb9f3a\"],[0.8888888888888888,\"#fdca26\"],[1.0,\"#f0f921\"]]}],\"mesh3d\":[{\"type\":\"mesh3d\",\"colorbar\":{\"outlinewidth\":0,\"ticks\":\"\"}}],\"scatter\":[{\"fillpattern\":{\"fillmode\":\"overlay\",\"size\":10,\"solidity\":0.2},\"type\":\"scatter\"}],\"parcoords\":[{\"type\":\"parcoords\",\"line\":{\"colorbar\":{\"outlinewidth\":0,\"ticks\":\"\"}}}],\"scatterpolargl\":[{\"type\":\"scatterpolargl\",\"marker\":{\"colorbar\":{\"outlinewidth\":0,\"ticks\":\"\"}}}],\"bar\":[{\"error_x\":{\"color\":\"#2a3f5f\"},\"error_y\":{\"color\":\"#2a3f5f\"},\"marker\":{\"line\":{\"color\":\"#E5ECF6\",\"width\":0.5},\"pattern\":{\"fillmode\":\"overlay\",\"size\":10,\"solidity\":0.2}},\"type\":\"bar\"}],\"scattergeo\":[{\"type\":\"scattergeo\",\"marker\":{\"colorbar\":{\"outlinewidth\":0,\"ticks\":\"\"}}}],\"scatterpolar\":[{\"type\":\"scatterpolar\",\"marker\":{\"colorbar\":{\"outlinewidth\":0,\"ticks\":\"\"}}}],\"histogram\":[{\"marker\":{\"pattern\":{\"fillmode\":\"overlay\",\"size\":10,\"solidity\":0.2}},\"type\":\"histogram\"}],\"scattergl\":[{\"type\":\"scattergl\",\"marker\":{\"colorbar\":{\"outlinewidth\":0,\"ticks\":\"\"}}}],\"scatter3d\":[{\"type\":\"scatter3d\",\"line\":{\"colorbar\":{\"outlinewidth\":0,\"ticks\":\"\"}},\"marker\":{\"colorbar\":{\"outlinewidth\":0,\"ticks\":\"\"}}}],\"scattermapbox\":[{\"type\":\"scattermapbox\",\"marker\":{\"colorbar\":{\"outlinewidth\":0,\"ticks\":\"\"}}}],\"scatterternary\":[{\"type\":\"scatterternary\",\"marker\":{\"colorbar\":{\"outlinewidth\":0,\"ticks\":\"\"}}}],\"scattercarpet\":[{\"type\":\"scattercarpet\",\"marker\":{\"colorbar\":{\"outlinewidth\":0,\"ticks\":\"\"}}}],\"carpet\":[{\"aaxis\":{\"endlinecolor\":\"#2a3f5f\",\"gridcolor\":\"white\",\"linecolor\":\"white\",\"minorgridcolor\":\"white\",\"startlinecolor\":\"#2a3f5f\"},\"baxis\":{\"endlinecolor\":\"#2a3f5f\",\"gridcolor\":\"white\",\"linecolor\":\"white\",\"minorgridcolor\":\"white\",\"startlinecolor\":\"#2a3f5f\"},\"type\":\"carpet\"}],\"table\":[{\"cells\":{\"fill\":{\"color\":\"#EBF0F8\"},\"line\":{\"color\":\"white\"}},\"header\":{\"fill\":{\"color\":\"#C8D4E3\"},\"line\":{\"color\":\"white\"}},\"type\":\"table\"}],\"barpolar\":[{\"marker\":{\"line\":{\"color\":\"#E5ECF6\",\"width\":0.5},\"pattern\":{\"fillmode\":\"overlay\",\"size\":10,\"solidity\":0.2}},\"type\":\"barpolar\"}],\"pie\":[{\"automargin\":true,\"type\":\"pie\"}]},\"layout\":{\"autotypenumbers\":\"strict\",\"colorway\":[\"#636efa\",\"#EF553B\",\"#00cc96\",\"#ab63fa\",\"#FFA15A\",\"#19d3f3\",\"#FF6692\",\"#B6E880\",\"#FF97FF\",\"#FECB52\"],\"font\":{\"color\":\"#2a3f5f\"},\"hovermode\":\"closest\",\"hoverlabel\":{\"align\":\"left\"},\"paper_bgcolor\":\"white\",\"plot_bgcolor\":\"#E5ECF6\",\"polar\":{\"bgcolor\":\"#E5ECF6\",\"angularaxis\":{\"gridcolor\":\"white\",\"linecolor\":\"white\",\"ticks\":\"\"},\"radialaxis\":{\"gridcolor\":\"white\",\"linecolor\":\"white\",\"ticks\":\"\"}},\"ternary\":{\"bgcolor\":\"#E5ECF6\",\"aaxis\":{\"gridcolor\":\"white\",\"linecolor\":\"white\",\"ticks\":\"\"},\"baxis\":{\"gridcolor\":\"white\",\"linecolor\":\"white\",\"ticks\":\"\"},\"caxis\":{\"gridcolor\":\"white\",\"linecolor\":\"white\",\"ticks\":\"\"}},\"coloraxis\":{\"colorbar\":{\"outlinewidth\":0,\"ticks\":\"\"}},\"colorscale\":{\"sequential\":[[0.0,\"#0d0887\"],[0.1111111111111111,\"#46039f\"],[0.2222222222222222,\"#7201a8\"],[0.3333333333333333,\"#9c179e\"],[0.4444444444444444,\"#bd3786\"],[0.5555555555555556,\"#d8576b\"],[0.6666666666666666,\"#ed7953\"],[0.7777777777777778,\"#fb9f3a\"],[0.8888888888888888,\"#fdca26\"],[1.0,\"#f0f921\"]],\"sequentialminus\":[[0.0,\"#0d0887\"],[0.1111111111111111,\"#46039f\"],[0.2222222222222222,\"#7201a8\"],[0.3333333333333333,\"#9c179e\"],[0.4444444444444444,\"#bd3786\"],[0.5555555555555556,\"#d8576b\"],[0.6666666666666666,\"#ed7953\"],[0.7777777777777778,\"#fb9f3a\"],[0.8888888888888888,\"#fdca26\"],[1.0,\"#f0f921\"]],\"diverging\":[[0,\"#8e0152\"],[0.1,\"#c51b7d\"],[0.2,\"#de77ae\"],[0.3,\"#f1b6da\"],[0.4,\"#fde0ef\"],[0.5,\"#f7f7f7\"],[0.6,\"#e6f5d0\"],[0.7,\"#b8e186\"],[0.8,\"#7fbc41\"],[0.9,\"#4d9221\"],[1,\"#276419\"]]},\"xaxis\":{\"gridcolor\":\"white\",\"linecolor\":\"white\",\"ticks\":\"\",\"title\":{\"standoff\":15},\"zerolinecolor\":\"white\",\"automargin\":true,\"zerolinewidth\":2},\"yaxis\":{\"gridcolor\":\"white\",\"linecolor\":\"white\",\"ticks\":\"\",\"title\":{\"standoff\":15},\"zerolinecolor\":\"white\",\"automargin\":true,\"zerolinewidth\":2},\"scene\":{\"xaxis\":{\"backgroundcolor\":\"#E5ECF6\",\"gridcolor\":\"white\",\"linecolor\":\"white\",\"showbackground\":true,\"ticks\":\"\",\"zerolinecolor\":\"white\",\"gridwidth\":2},\"yaxis\":{\"backgroundcolor\":\"#E5ECF6\",\"gridcolor\":\"white\",\"linecolor\":\"white\",\"showbackground\":true,\"ticks\":\"\",\"zerolinecolor\":\"white\",\"gridwidth\":2},\"zaxis\":{\"backgroundcolor\":\"#E5ECF6\",\"gridcolor\":\"white\",\"linecolor\":\"white\",\"showbackground\":true,\"ticks\":\"\",\"zerolinecolor\":\"white\",\"gridwidth\":2}},\"shapedefaults\":{\"line\":{\"color\":\"#2a3f5f\"}},\"annotationdefaults\":{\"arrowcolor\":\"#2a3f5f\",\"arrowhead\":0,\"arrowwidth\":1},\"geo\":{\"bgcolor\":\"white\",\"landcolor\":\"#E5ECF6\",\"subunitcolor\":\"white\",\"showland\":true,\"showlakes\":true,\"lakecolor\":\"white\"},\"title\":{\"x\":0.05},\"mapbox\":{\"style\":\"light\"}}},\"autosize\":false,\"width\":690,\"height\":400},                        {\"responsive\": true}                    ).then(function(){\n",
       "                            \n",
       "var gd = document.getElementById('64e055cc-0e51-4373-95ce-868387266eeb');\n",
       "var x = new MutationObserver(function (mutations, observer) {{\n",
       "        var display = window.getComputedStyle(gd).display;\n",
       "        if (!display || display === 'none') {{\n",
       "            console.log([gd, 'removed!']);\n",
       "            Plotly.purge(gd);\n",
       "            observer.disconnect();\n",
       "        }}\n",
       "}});\n",
       "\n",
       "// Listen for the removal of the full notebook cells\n",
       "var notebookContainer = gd.closest('#notebook-container');\n",
       "if (notebookContainer) {{\n",
       "    x.observe(notebookContainer, {childList: true});\n",
       "}}\n",
       "\n",
       "// Listen for the clearing of the current output cell\n",
       "var outputEl = gd.closest('.output');\n",
       "if (outputEl) {{\n",
       "    x.observe(outputEl, {childList: true});\n",
       "}}\n",
       "\n",
       "                        })                };                });            </script>        </div>"
      ]
     },
     "metadata": {},
     "output_type": "display_data"
    }
   ],
   "source": [
    "# Meta-Statistics\n",
    "GridStatsMetaDF = GridSizeDF.groupby(['comparison']).agg({'task_id': 'count'})\\\n",
    "                                         .rename(columns={'task_id': 'count'}).reset_index(drop=False)\n",
    "GridStatsMetaDF['color'] = GridStatsMetaDF['comparison'].replace(COMP_COLORS)\n",
    "# display(GridStatsMetaDF)\n",
    "\n",
    "fig = go.Figure()\n",
    "fig.add_trace(\n",
    "        go.Bar(x=GridStatsMetaDF['comparison'],\n",
    "               y=GridStatsMetaDF['count'],\n",
    "            text=GridStatsMetaDF['count'], textposition='inside',\n",
    "    marker_color=GridStatsMetaDF['color'],\n",
    "))\n",
    "fig.update_layout(autosize=False, width=690, height=400, )\n",
    "fig.show()"
   ]
  },
  {
   "cell_type": "code",
   "execution_count": 32,
   "metadata": {},
   "outputs": [
    {
     "data": {
      "application/vnd.plotly.v1+json": {
       "config": {
        "plotlyServerURL": "https://plot.ly"
       },
       "data": [
        {
         "marker": {
          "color": [
           "red",
           "red",
           "red",
           "red",
           "red",
           "red",
           "green",
           "green",
           "green",
           "darkslategray",
           "red",
           "red",
           "red",
           "red",
           "red",
           "red",
           "red",
           "darkslategray",
           "red",
           "red",
           "red",
           "darkslategray",
           "darkslategray",
           "red",
           "red",
           "red",
           "green",
           "darkslategray",
           "red",
           "red",
           "darkslategray",
           "green",
           "darkslategray",
           "red",
           "green",
           "green",
           "green",
           "darkslategray",
           "red",
           "green",
           "green",
           "darkslategray",
           "green",
           "green",
           "darkslategray",
           "red",
           "green",
           "darkslategray",
           "darkslategray",
           "green",
           "green",
           "darkslategray",
           "green",
           "green",
           "green",
           "green",
           "darkslategray",
           "red",
           "darkslategray",
           "darkslategray",
           "green",
           "green",
           "green",
           "darkslategray",
           "green",
           "green",
           "darkslategray",
           "darkslategray",
           "red",
           "red",
           "green",
           "green",
           "darkslategray",
           "darkslategray",
           "green",
           "green",
           "green",
           "darkslategray",
           "darkslategray",
           "red",
           "darkslategray",
           "red",
           "green",
           "green",
           "darkslategray",
           "green",
           "darkslategray",
           "darkslategray",
           "green",
           "green",
           "darkslategray",
           "green",
           "darkslategray",
           "red",
           "darkslategray",
           "green",
           "green",
           "green",
           "green",
           "green",
           "green",
           "green",
           "green",
           "darkslategray",
           "darkslategray",
           "darkslategray",
           "green",
           "green",
           "darkslategray",
           "green",
           "darkslategray",
           "green",
           "darkslategray",
           "darkslategray",
           "green",
           "green",
           "green",
           "darkslategray",
           "green",
           "green",
           "green",
           "green",
           "green",
           "green",
           "darkslategray",
           "red",
           "green",
           "darkslategray",
           "green",
           "darkslategray",
           "green",
           "darkslategray",
           "darkslategray",
           "darkslategray",
           "green",
           "green",
           "darkslategray",
           "green",
           "green",
           "green",
           "green",
           "darkslategray",
           "darkslategray",
           "green",
           "darkslategray",
           "green",
           "darkslategray",
           "darkslategray",
           "darkslategray",
           "green",
           "green",
           "green",
           "green",
           "darkslategray",
           "green",
           "darkslategray",
           "darkslategray",
           "darkslategray",
           "green",
           "green",
           "green",
           "green",
           "darkslategray",
           "green",
           "darkslategray",
           "darkslategray",
           "green",
           "green",
           "green",
           "green",
           "green",
           "green",
           "green",
           "darkslategray",
           "darkslategray",
           "darkslategray",
           "darkslategray",
           "darkslategray",
           "darkslategray",
           "green",
           "darkslategray",
           "green",
           "green",
           "green",
           "darkslategray",
           "green",
           "green",
           "green",
           "darkslategray",
           "darkslategray",
           "darkslategray",
           "darkslategray",
           "darkslategray",
           "green",
           "green",
           "darkslategray",
           "darkslategray",
           "green",
           "green",
           "green",
           "green",
           "darkslategray",
           "green",
           "darkslategray",
           "green",
           "green",
           "green",
           "green",
           "darkslategray",
           "darkslategray",
           "darkslategray",
           "darkslategray",
           "green",
           "darkslategray",
           "darkslategray",
           "green",
           "green",
           "darkslategray",
           "darkslategray",
           "green",
           "darkslategray",
           "green",
           "green",
           "green",
           "darkslategray",
           "darkslategray",
           "green",
           "darkslategray",
           "green",
           "darkslategray",
           "darkslategray",
           "green",
           "darkslategray",
           "green",
           "green",
           "darkslategray",
           "darkslategray",
           "green",
           "green",
           "darkslategray",
           "darkslategray",
           "darkslategray",
           "darkslategray",
           "darkslategray",
           "green",
           "green",
           "darkslategray",
           "darkslategray",
           "green",
           "green",
           "darkslategray",
           "darkslategray",
           "green",
           "green",
           "darkslategray",
           "green",
           "darkslategray",
           "green",
           "darkslategray",
           "darkslategray",
           "green",
           "green",
           "green",
           "darkslategray",
           "darkslategray",
           "darkslategray",
           "darkslategray",
           "green",
           "darkslategray",
           "darkslategray",
           "green",
           "green",
           "green",
           "darkslategray",
           "green",
           "green",
           "darkslategray",
           "green",
           "green",
           "darkslategray",
           "green",
           "darkslategray",
           "darkslategray",
           "green",
           "darkslategray",
           "green",
           "green",
           "green",
           "green",
           "darkslategray",
           "darkslategray",
           "darkslategray",
           "green",
           "green",
           "darkslategray",
           "green",
           "green",
           "green",
           "green",
           "darkslategray",
           "darkslategray",
           "green",
           "darkslategray",
           "green",
           "green",
           "darkslategray",
           "darkslategray",
           "green",
           "darkslategray",
           "darkslategray",
           "darkslategray",
           "darkslategray",
           "darkslategray",
           "green",
           "darkslategray",
           "green",
           "green",
           "green",
           "green",
           "darkslategray"
          ],
          "size": [
           3.566165626622601,
           3.566165626622601,
           2.25,
           2.25,
           2.25,
           2.25,
           3.566165626622601,
           2.25,
           2.25,
           11.040503840119166,
           2.25,
           5.816165626622601,
           2.25,
           9,
           9.196791392813264,
           2.25,
           3.566165626622601,
           3.566165626622601,
           2.25,
           3.566165626622601,
           2.25,
           2.25,
           5.816165626622601,
           2.25,
           2.25,
           2.25,
           3.566165626622601,
           2.25,
           2.25,
           2.25,
           3.566165626622601,
           3.566165626622601,
           2.25,
           2.25,
           2.25,
           5.224338213496565,
           4.5,
           7.474338213496565,
           5.224338213496565,
           4.5,
           3.566165626622601,
           2.25,
           2.25,
           2.25,
           5.816165626622601,
           2.25,
           4.5,
           2.25,
           3.566165626622601,
           3.566165626622601,
           2.25,
           4.5,
           2.25,
           5.224338213496565,
           5.224338213496565,
           2.25,
           8.0661656266226,
           3.566165626622601,
           2.25,
           3.566165626622601,
           2.25,
           2.25,
           3.566165626622601,
           2.25,
           2.25,
           5.224338213496565,
           7.783721141933919,
           2.25,
           2.25,
           2.25,
           2.25,
           2.25,
           2.25,
           2.25,
           2.25,
           2.25,
           2.25,
           2.25,
           4.5,
           2.25,
           4.5,
           2.25,
           3.566165626622601,
           2.25,
           6.31654857462961,
           3.566165626622601,
           2.25,
           2.25,
           2.25,
           2.25,
           3.566165626622601,
           2.25,
           3.566165626622601,
           2.25,
           4.5,
           2.25,
           2.25,
           4.5,
           2.25,
           2.25,
           2.25,
           2.25,
           2.25,
           9,
           2.25,
           2.25,
           2.25,
           2.25,
           4.5,
           2.25,
           3.566165626622601,
           2.25,
           2.25,
           2.25,
           2.25,
           2.25,
           2.25,
           4.5,
           2.25,
           2.25,
           5.816165626622601,
           2.25,
           2.25,
           2.25,
           14.782175118744632,
           2.25,
           2.25,
           2.25,
           2.25,
           3.566165626622601,
           2.25,
           3.566165626622601,
           3.566165626622601,
           2.25,
           2.25,
           2.25,
           6.31654857462961,
           2.25,
           3.566165626622601,
           2.25,
           2.25,
           7.783721141933919,
           3.566165626622601,
           3.566165626622601,
           4.5,
           2.25,
           3.566165626622601,
           2.25,
           5.224338213496565,
           2.25,
           2.25,
           2.25,
           2.25,
           8.790503840119166,
           2.25,
           5.816165626622601,
           2.25,
           2.25,
           2.25,
           2.25,
           2.25,
           2.25,
           5.816165626622601,
           2.25,
           2.25,
           4.5,
           2.25,
           2.25,
           2.25,
           2.25,
           2.25,
           2.25,
           2.25,
           9.724338213496566,
           2.25,
           3.566165626622601,
           2.25,
           4.5,
           2.25,
           2.25,
           3.566165626622601,
           2.25,
           3.566165626622601,
           2.25,
           2.25,
           2.25,
           2.25,
           2.25,
           6.31654857462961,
           2.25,
           2.25,
           2.25,
           3.566165626622601,
           2.25,
           2.25,
           2.25,
           2.25,
           2.25,
           2.25,
           2.25,
           3.566165626622601,
           3.566165626622601,
           2.25,
           2.25,
           2.25,
           3.566165626622601,
           2.25,
           2.25,
           10.575989365817456,
           6.31654857462961,
           2.25,
           2.25,
           2.25,
           4.5,
           2.25,
           2.25,
           2.25,
           6.75,
           2.25,
           2.25,
           2.25,
           3.566165626622601,
           4.5,
           2.25,
           7.783721141933919,
           3.566165626622601,
           2.25,
           2.25,
           2.25,
           4.5,
           2.25,
           2.25,
           2.25,
           2.25,
           2.25,
           5.224338213496565,
           2.25,
           2.25,
           2.25,
           4.5,
           2.25,
           2.25,
           5.816165626622601,
           3.566165626622601,
           2.25,
           2.25,
           5.224338213496565,
           3.566165626622601,
           2.25,
           2.25,
           7.132331253245202,
           2.25,
           2.25,
           2.25,
           2.25,
           2.25,
           2.25,
           2.25,
           2.25,
           2.25,
           2.25,
           2.25,
           2.25,
           8.566548574629609,
           2.25,
           2.25,
           2.25,
           2.25,
           2.25,
           2.25,
           2.25,
           2.25,
           2.25,
           6.75,
           2.25,
           2.25,
           2.25,
           2.25,
           2.25,
           3.566165626622601,
           2.25,
           5.816165626622601,
           2.25,
           2.25,
           2.25,
           2.25,
           2.25,
           2.25,
           2.25,
           7.132331253245202,
           2.25,
           2.25,
           2.25,
           2.25,
           2.25,
           2.25,
           2.25,
           2.25,
           2.25,
           4.5,
           4.5,
           2.25,
           3.566165626622601,
           2.25,
           2.25,
           3.566165626622601,
           4.5,
           2.25,
           2.25,
           3.566165626622601,
           2.25,
           2.25,
           2.25,
           2.25,
           3.566165626622601,
           2.25,
           2.25,
           2.25,
           2.25,
           9.882714201252211
          ]
         },
         "mode": "markers",
         "showlegend": false,
         "text": [
          2,
          2,
          1,
          1,
          1,
          1,
          2,
          1,
          1,
          29,
          1,
          5,
          1,
          15,
          16,
          1,
          2,
          2,
          1,
          2,
          1,
          1,
          5,
          1,
          1,
          1,
          2,
          1,
          1,
          1,
          2,
          2,
          1,
          1,
          1,
          4,
          3,
          9,
          4,
          3,
          2,
          1,
          1,
          1,
          5,
          1,
          3,
          1,
          2,
          2,
          1,
          3,
          1,
          4,
          4,
          1,
          11,
          2,
          1,
          2,
          1,
          1,
          2,
          1,
          1,
          4,
          10,
          1,
          1,
          1,
          1,
          1,
          1,
          1,
          1,
          1,
          1,
          1,
          3,
          1,
          3,
          1,
          2,
          1,
          6,
          2,
          1,
          1,
          1,
          1,
          2,
          1,
          2,
          1,
          3,
          1,
          1,
          3,
          1,
          1,
          1,
          1,
          1,
          15,
          1,
          1,
          1,
          1,
          3,
          1,
          2,
          1,
          1,
          1,
          1,
          1,
          1,
          3,
          1,
          1,
          5,
          1,
          1,
          1,
          94,
          1,
          1,
          1,
          1,
          2,
          1,
          2,
          2,
          1,
          1,
          1,
          6,
          1,
          2,
          1,
          1,
          10,
          2,
          2,
          3,
          1,
          2,
          1,
          4,
          1,
          1,
          1,
          1,
          14,
          1,
          5,
          1,
          1,
          1,
          1,
          1,
          1,
          5,
          1,
          1,
          3,
          1,
          1,
          1,
          1,
          1,
          1,
          1,
          19,
          1,
          2,
          1,
          3,
          1,
          1,
          2,
          1,
          2,
          1,
          1,
          1,
          1,
          1,
          6,
          1,
          1,
          1,
          2,
          1,
          1,
          1,
          1,
          1,
          1,
          1,
          2,
          2,
          1,
          1,
          1,
          2,
          1,
          1,
          25,
          6,
          1,
          1,
          1,
          3,
          1,
          1,
          1,
          7,
          1,
          1,
          1,
          2,
          3,
          1,
          10,
          2,
          1,
          1,
          1,
          3,
          1,
          1,
          1,
          1,
          1,
          4,
          1,
          1,
          1,
          3,
          1,
          1,
          5,
          2,
          1,
          1,
          4,
          2,
          1,
          1,
          8,
          1,
          1,
          1,
          1,
          1,
          1,
          1,
          1,
          1,
          1,
          1,
          1,
          13,
          1,
          1,
          1,
          1,
          1,
          1,
          1,
          1,
          1,
          7,
          1,
          1,
          1,
          1,
          1,
          2,
          1,
          5,
          1,
          1,
          1,
          1,
          1,
          1,
          1,
          8,
          1,
          1,
          1,
          1,
          1,
          1,
          1,
          1,
          1,
          3,
          3,
          1,
          2,
          1,
          1,
          2,
          3,
          1,
          1,
          2,
          1,
          1,
          1,
          1,
          2,
          1,
          1,
          1,
          1,
          20
         ],
         "type": "scatter",
         "x": [
          4,
          4,
          5,
          6,
          6,
          8,
          9,
          9,
          9,
          9,
          9,
          9,
          9,
          9,
          9,
          9,
          9,
          12,
          12,
          12,
          13,
          15,
          16,
          16,
          16,
          16,
          18,
          18,
          18,
          18,
          20,
          21,
          24,
          24,
          25,
          25,
          25,
          25,
          25,
          27,
          27,
          27,
          28,
          30,
          30,
          30,
          32,
          32,
          33,
          35,
          35,
          35,
          36,
          36,
          36,
          36,
          36,
          36,
          40,
          42,
          45,
          45,
          45,
          45,
          48,
          49,
          49,
          50,
          50,
          51,
          52,
          54,
          54,
          55,
          56,
          56,
          56,
          56,
          60,
          60,
          63,
          63,
          64,
          64,
          64,
          65,
          65,
          70,
          72,
          75,
          75,
          76,
          77,
          78,
          80,
          81,
          81,
          81,
          81,
          81,
          81,
          81,
          81,
          81,
          87,
          88,
          90,
          90,
          90,
          91,
          91,
          96,
          96,
          98,
          99,
          99,
          99,
          99,
          100,
          100,
          100,
          100,
          100,
          100,
          100,
          100,
          105,
          105,
          108,
          108,
          110,
          110,
          117,
          119,
          120,
          120,
          120,
          121,
          121,
          121,
          121,
          121,
          126,
          130,
          130,
          132,
          132,
          136,
          140,
          143,
          144,
          144,
          144,
          144,
          150,
          150,
          152,
          153,
          154,
          154,
          156,
          156,
          156,
          160,
          160,
          168,
          169,
          169,
          169,
          169,
          169,
          169,
          169,
          169,
          170,
          176,
          180,
          182,
          187,
          190,
          192,
          195,
          195,
          195,
          195,
          196,
          196,
          196,
          196,
          198,
          200,
          204,
          208,
          210,
          210,
          210,
          216,
          221,
          221,
          221,
          221,
          221,
          224,
          224,
          225,
          225,
          225,
          225,
          225,
          228,
          234,
          238,
          240,
          240,
          242,
          247,
          247,
          247,
          250,
          252,
          252,
          256,
          256,
          256,
          256,
          264,
          270,
          270,
          272,
          285,
          286,
          288,
          288,
          289,
          289,
          289,
          299,
          306,
          306,
          306,
          312,
          320,
          323,
          324,
          336,
          342,
          342,
          352,
          360,
          361,
          361,
          374,
          378,
          378,
          380,
          391,
          391,
          396,
          396,
          399,
          400,
          400,
          400,
          400,
          414,
          418,
          425,
          437,
          437,
          440,
          441,
          441,
          441,
          441,
          456,
          460,
          468,
          480,
          483,
          483,
          484,
          484,
          506,
          510,
          525,
          529,
          529,
          529,
          529,
          529,
          532,
          550,
          567,
          575,
          575,
          576,
          576,
          576,
          576,
          576,
          600,
          621,
          621,
          624,
          625,
          625,
          644,
          667,
          672,
          729,
          754,
          784,
          810,
          841,
          841,
          900,
          900,
          900,
          900,
          900
         ],
         "y": [
          16,
          36,
          100,
          18,
          36,
          32,
          1,
          2,
          3,
          9,
          15,
          18,
          25,
          36,
          81,
          144,
          225,
          12,
          24,
          48,
          169,
          15,
          16,
          64,
          80,
          256,
          9,
          18,
          27,
          81,
          20,
          9,
          24,
          56,
          1,
          4,
          9,
          25,
          100,
          9,
          21,
          27,
          12,
          15,
          30,
          60,
          16,
          32,
          33,
          9,
          15,
          35,
          4,
          9,
          16,
          25,
          36,
          144,
          40,
          42,
          1,
          9,
          20,
          45,
          24,
          9,
          49,
          50,
          100,
          153,
          24,
          24,
          54,
          55,
          9,
          16,
          28,
          56,
          60,
          100,
          63,
          225,
          16,
          18,
          64,
          30,
          65,
          70,
          18,
          25,
          75,
          16,
          77,
          324,
          80,
          4,
          5,
          9,
          16,
          18,
          25,
          36,
          48,
          81,
          87,
          88,
          20,
          40,
          90,
          12,
          91,
          1,
          96,
          98,
          20,
          22,
          63,
          99,
          4,
          8,
          9,
          15,
          20,
          25,
          100,
          400,
          49,
          105,
          32,
          108,
          25,
          110,
          117,
          119,
          16,
          60,
          120,
          4,
          9,
          55,
          100,
          121,
          126,
          12,
          130,
          25,
          132,
          136,
          140,
          33,
          3,
          4,
          16,
          144,
          32,
          150,
          152,
          153,
          25,
          27,
          16,
          36,
          156,
          16,
          160,
          168,
          3,
          9,
          16,
          36,
          48,
          49,
          64,
          169,
          170,
          176,
          180,
          182,
          187,
          6,
          192,
          1,
          4,
          39,
          195,
          9,
          81,
          100,
          196,
          198,
          200,
          204,
          208,
          48,
          100,
          210,
          216,
          1,
          20,
          27,
          49,
          221,
          3,
          224,
          8,
          9,
          18,
          135,
          225,
          228,
          234,
          238,
          36,
          240,
          242,
          9,
          42,
          247,
          250,
          25,
          252,
          9,
          16,
          25,
          256,
          264,
          36,
          270,
          9,
          285,
          286,
          81,
          288,
          25,
          126,
          289,
          299,
          32,
          128,
          306,
          312,
          320,
          323,
          324,
          20,
          20,
          342,
          352,
          88,
          16,
          361,
          374,
          25,
          64,
          380,
          42,
          391,
          132,
          396,
          399,
          4,
          9,
          30,
          400,
          414,
          418,
          425,
          90,
          437,
          440,
          9,
          12,
          100,
          441,
          153,
          81,
          468,
          9,
          48,
          483,
          180,
          484,
          506,
          255,
          525,
          16,
          25,
          49,
          56,
          529,
          532,
          550,
          9,
          21,
          575,
          9,
          25,
          40,
          49,
          576,
          600,
          25,
          621,
          1,
          24,
          625,
          644,
          25,
          672,
          729,
          754,
          784,
          810,
          9,
          841,
          9,
          15,
          16,
          48,
          900
         ]
        },
        {
         "mode": "text",
         "text": [
          "Tiny",
          "Small",
          "Medium",
          "Large"
         ],
         "type": "scatter",
         "x": [
          20,
          70,
          225,
          950
         ],
         "y": [
          44,
          144,
          666,
          1269
         ]
        }
       ],
       "layout": {
        "autosize": false,
        "height": 500,
        "shapes": [
         {
          "line": {
           "color": "MediumSlateBlue",
           "width": 1
          },
          "type": "rect",
          "x0": 9,
          "x1": 36,
          "y0": 9,
          "y1": 36
         },
         {
          "line": {
           "color": "RoyalBlue",
           "width": 1
          },
          "type": "rect",
          "x0": 49,
          "x1": 121,
          "y0": 49,
          "y1": 121
         },
         {
          "line": {
           "color": "BlueViolet",
           "width": 1
          },
          "type": "rect",
          "x0": 144,
          "x1": 576,
          "y0": 144,
          "y1": 576
         },
         {
          "line": {
           "color": "MidnightBlue",
           "width": 1
          },
          "type": "rect",
          "x0": 625,
          "x1": 1089,
          "y0": 625,
          "y1": 1089
         }
        ],
        "template": {
         "data": {
          "bar": [
           {
            "error_x": {
             "color": "#2a3f5f"
            },
            "error_y": {
             "color": "#2a3f5f"
            },
            "marker": {
             "line": {
              "color": "#E5ECF6",
              "width": 0.5
             },
             "pattern": {
              "fillmode": "overlay",
              "size": 10,
              "solidity": 0.2
             }
            },
            "type": "bar"
           }
          ],
          "barpolar": [
           {
            "marker": {
             "line": {
              "color": "#E5ECF6",
              "width": 0.5
             },
             "pattern": {
              "fillmode": "overlay",
              "size": 10,
              "solidity": 0.2
             }
            },
            "type": "barpolar"
           }
          ],
          "carpet": [
           {
            "aaxis": {
             "endlinecolor": "#2a3f5f",
             "gridcolor": "white",
             "linecolor": "white",
             "minorgridcolor": "white",
             "startlinecolor": "#2a3f5f"
            },
            "baxis": {
             "endlinecolor": "#2a3f5f",
             "gridcolor": "white",
             "linecolor": "white",
             "minorgridcolor": "white",
             "startlinecolor": "#2a3f5f"
            },
            "type": "carpet"
           }
          ],
          "choropleth": [
           {
            "colorbar": {
             "outlinewidth": 0,
             "ticks": ""
            },
            "type": "choropleth"
           }
          ],
          "contour": [
           {
            "colorbar": {
             "outlinewidth": 0,
             "ticks": ""
            },
            "colorscale": [
             [
              0,
              "#0d0887"
             ],
             [
              0.1111111111111111,
              "#46039f"
             ],
             [
              0.2222222222222222,
              "#7201a8"
             ],
             [
              0.3333333333333333,
              "#9c179e"
             ],
             [
              0.4444444444444444,
              "#bd3786"
             ],
             [
              0.5555555555555556,
              "#d8576b"
             ],
             [
              0.6666666666666666,
              "#ed7953"
             ],
             [
              0.7777777777777778,
              "#fb9f3a"
             ],
             [
              0.8888888888888888,
              "#fdca26"
             ],
             [
              1,
              "#f0f921"
             ]
            ],
            "type": "contour"
           }
          ],
          "contourcarpet": [
           {
            "colorbar": {
             "outlinewidth": 0,
             "ticks": ""
            },
            "type": "contourcarpet"
           }
          ],
          "heatmap": [
           {
            "colorbar": {
             "outlinewidth": 0,
             "ticks": ""
            },
            "colorscale": [
             [
              0,
              "#0d0887"
             ],
             [
              0.1111111111111111,
              "#46039f"
             ],
             [
              0.2222222222222222,
              "#7201a8"
             ],
             [
              0.3333333333333333,
              "#9c179e"
             ],
             [
              0.4444444444444444,
              "#bd3786"
             ],
             [
              0.5555555555555556,
              "#d8576b"
             ],
             [
              0.6666666666666666,
              "#ed7953"
             ],
             [
              0.7777777777777778,
              "#fb9f3a"
             ],
             [
              0.8888888888888888,
              "#fdca26"
             ],
             [
              1,
              "#f0f921"
             ]
            ],
            "type": "heatmap"
           }
          ],
          "heatmapgl": [
           {
            "colorbar": {
             "outlinewidth": 0,
             "ticks": ""
            },
            "colorscale": [
             [
              0,
              "#0d0887"
             ],
             [
              0.1111111111111111,
              "#46039f"
             ],
             [
              0.2222222222222222,
              "#7201a8"
             ],
             [
              0.3333333333333333,
              "#9c179e"
             ],
             [
              0.4444444444444444,
              "#bd3786"
             ],
             [
              0.5555555555555556,
              "#d8576b"
             ],
             [
              0.6666666666666666,
              "#ed7953"
             ],
             [
              0.7777777777777778,
              "#fb9f3a"
             ],
             [
              0.8888888888888888,
              "#fdca26"
             ],
             [
              1,
              "#f0f921"
             ]
            ],
            "type": "heatmapgl"
           }
          ],
          "histogram": [
           {
            "marker": {
             "pattern": {
              "fillmode": "overlay",
              "size": 10,
              "solidity": 0.2
             }
            },
            "type": "histogram"
           }
          ],
          "histogram2d": [
           {
            "colorbar": {
             "outlinewidth": 0,
             "ticks": ""
            },
            "colorscale": [
             [
              0,
              "#0d0887"
             ],
             [
              0.1111111111111111,
              "#46039f"
             ],
             [
              0.2222222222222222,
              "#7201a8"
             ],
             [
              0.3333333333333333,
              "#9c179e"
             ],
             [
              0.4444444444444444,
              "#bd3786"
             ],
             [
              0.5555555555555556,
              "#d8576b"
             ],
             [
              0.6666666666666666,
              "#ed7953"
             ],
             [
              0.7777777777777778,
              "#fb9f3a"
             ],
             [
              0.8888888888888888,
              "#fdca26"
             ],
             [
              1,
              "#f0f921"
             ]
            ],
            "type": "histogram2d"
           }
          ],
          "histogram2dcontour": [
           {
            "colorbar": {
             "outlinewidth": 0,
             "ticks": ""
            },
            "colorscale": [
             [
              0,
              "#0d0887"
             ],
             [
              0.1111111111111111,
              "#46039f"
             ],
             [
              0.2222222222222222,
              "#7201a8"
             ],
             [
              0.3333333333333333,
              "#9c179e"
             ],
             [
              0.4444444444444444,
              "#bd3786"
             ],
             [
              0.5555555555555556,
              "#d8576b"
             ],
             [
              0.6666666666666666,
              "#ed7953"
             ],
             [
              0.7777777777777778,
              "#fb9f3a"
             ],
             [
              0.8888888888888888,
              "#fdca26"
             ],
             [
              1,
              "#f0f921"
             ]
            ],
            "type": "histogram2dcontour"
           }
          ],
          "mesh3d": [
           {
            "colorbar": {
             "outlinewidth": 0,
             "ticks": ""
            },
            "type": "mesh3d"
           }
          ],
          "parcoords": [
           {
            "line": {
             "colorbar": {
              "outlinewidth": 0,
              "ticks": ""
             }
            },
            "type": "parcoords"
           }
          ],
          "pie": [
           {
            "automargin": true,
            "type": "pie"
           }
          ],
          "scatter": [
           {
            "fillpattern": {
             "fillmode": "overlay",
             "size": 10,
             "solidity": 0.2
            },
            "type": "scatter"
           }
          ],
          "scatter3d": [
           {
            "line": {
             "colorbar": {
              "outlinewidth": 0,
              "ticks": ""
             }
            },
            "marker": {
             "colorbar": {
              "outlinewidth": 0,
              "ticks": ""
             }
            },
            "type": "scatter3d"
           }
          ],
          "scattercarpet": [
           {
            "marker": {
             "colorbar": {
              "outlinewidth": 0,
              "ticks": ""
             }
            },
            "type": "scattercarpet"
           }
          ],
          "scattergeo": [
           {
            "marker": {
             "colorbar": {
              "outlinewidth": 0,
              "ticks": ""
             }
            },
            "type": "scattergeo"
           }
          ],
          "scattergl": [
           {
            "marker": {
             "colorbar": {
              "outlinewidth": 0,
              "ticks": ""
             }
            },
            "type": "scattergl"
           }
          ],
          "scattermapbox": [
           {
            "marker": {
             "colorbar": {
              "outlinewidth": 0,
              "ticks": ""
             }
            },
            "type": "scattermapbox"
           }
          ],
          "scatterpolar": [
           {
            "marker": {
             "colorbar": {
              "outlinewidth": 0,
              "ticks": ""
             }
            },
            "type": "scatterpolar"
           }
          ],
          "scatterpolargl": [
           {
            "marker": {
             "colorbar": {
              "outlinewidth": 0,
              "ticks": ""
             }
            },
            "type": "scatterpolargl"
           }
          ],
          "scatterternary": [
           {
            "marker": {
             "colorbar": {
              "outlinewidth": 0,
              "ticks": ""
             }
            },
            "type": "scatterternary"
           }
          ],
          "surface": [
           {
            "colorbar": {
             "outlinewidth": 0,
             "ticks": ""
            },
            "colorscale": [
             [
              0,
              "#0d0887"
             ],
             [
              0.1111111111111111,
              "#46039f"
             ],
             [
              0.2222222222222222,
              "#7201a8"
             ],
             [
              0.3333333333333333,
              "#9c179e"
             ],
             [
              0.4444444444444444,
              "#bd3786"
             ],
             [
              0.5555555555555556,
              "#d8576b"
             ],
             [
              0.6666666666666666,
              "#ed7953"
             ],
             [
              0.7777777777777778,
              "#fb9f3a"
             ],
             [
              0.8888888888888888,
              "#fdca26"
             ],
             [
              1,
              "#f0f921"
             ]
            ],
            "type": "surface"
           }
          ],
          "table": [
           {
            "cells": {
             "fill": {
              "color": "#EBF0F8"
             },
             "line": {
              "color": "white"
             }
            },
            "header": {
             "fill": {
              "color": "#C8D4E3"
             },
             "line": {
              "color": "white"
             }
            },
            "type": "table"
           }
          ]
         },
         "layout": {
          "annotationdefaults": {
           "arrowcolor": "#2a3f5f",
           "arrowhead": 0,
           "arrowwidth": 1
          },
          "autotypenumbers": "strict",
          "coloraxis": {
           "colorbar": {
            "outlinewidth": 0,
            "ticks": ""
           }
          },
          "colorscale": {
           "diverging": [
            [
             0,
             "#8e0152"
            ],
            [
             0.1,
             "#c51b7d"
            ],
            [
             0.2,
             "#de77ae"
            ],
            [
             0.3,
             "#f1b6da"
            ],
            [
             0.4,
             "#fde0ef"
            ],
            [
             0.5,
             "#f7f7f7"
            ],
            [
             0.6,
             "#e6f5d0"
            ],
            [
             0.7,
             "#b8e186"
            ],
            [
             0.8,
             "#7fbc41"
            ],
            [
             0.9,
             "#4d9221"
            ],
            [
             1,
             "#276419"
            ]
           ],
           "sequential": [
            [
             0,
             "#0d0887"
            ],
            [
             0.1111111111111111,
             "#46039f"
            ],
            [
             0.2222222222222222,
             "#7201a8"
            ],
            [
             0.3333333333333333,
             "#9c179e"
            ],
            [
             0.4444444444444444,
             "#bd3786"
            ],
            [
             0.5555555555555556,
             "#d8576b"
            ],
            [
             0.6666666666666666,
             "#ed7953"
            ],
            [
             0.7777777777777778,
             "#fb9f3a"
            ],
            [
             0.8888888888888888,
             "#fdca26"
            ],
            [
             1,
             "#f0f921"
            ]
           ],
           "sequentialminus": [
            [
             0,
             "#0d0887"
            ],
            [
             0.1111111111111111,
             "#46039f"
            ],
            [
             0.2222222222222222,
             "#7201a8"
            ],
            [
             0.3333333333333333,
             "#9c179e"
            ],
            [
             0.4444444444444444,
             "#bd3786"
            ],
            [
             0.5555555555555556,
             "#d8576b"
            ],
            [
             0.6666666666666666,
             "#ed7953"
            ],
            [
             0.7777777777777778,
             "#fb9f3a"
            ],
            [
             0.8888888888888888,
             "#fdca26"
            ],
            [
             1,
             "#f0f921"
            ]
           ]
          },
          "colorway": [
           "#636efa",
           "#EF553B",
           "#00cc96",
           "#ab63fa",
           "#FFA15A",
           "#19d3f3",
           "#FF6692",
           "#B6E880",
           "#FF97FF",
           "#FECB52"
          ],
          "font": {
           "color": "#2a3f5f"
          },
          "geo": {
           "bgcolor": "white",
           "lakecolor": "white",
           "landcolor": "#E5ECF6",
           "showlakes": true,
           "showland": true,
           "subunitcolor": "white"
          },
          "hoverlabel": {
           "align": "left"
          },
          "hovermode": "closest",
          "mapbox": {
           "style": "light"
          },
          "paper_bgcolor": "white",
          "plot_bgcolor": "#E5ECF6",
          "polar": {
           "angularaxis": {
            "gridcolor": "white",
            "linecolor": "white",
            "ticks": ""
           },
           "bgcolor": "#E5ECF6",
           "radialaxis": {
            "gridcolor": "white",
            "linecolor": "white",
            "ticks": ""
           }
          },
          "scene": {
           "xaxis": {
            "backgroundcolor": "#E5ECF6",
            "gridcolor": "white",
            "gridwidth": 2,
            "linecolor": "white",
            "showbackground": true,
            "ticks": "",
            "zerolinecolor": "white"
           },
           "yaxis": {
            "backgroundcolor": "#E5ECF6",
            "gridcolor": "white",
            "gridwidth": 2,
            "linecolor": "white",
            "showbackground": true,
            "ticks": "",
            "zerolinecolor": "white"
           },
           "zaxis": {
            "backgroundcolor": "#E5ECF6",
            "gridcolor": "white",
            "gridwidth": 2,
            "linecolor": "white",
            "showbackground": true,
            "ticks": "",
            "zerolinecolor": "white"
           }
          },
          "shapedefaults": {
           "line": {
            "color": "#2a3f5f"
           }
          },
          "ternary": {
           "aaxis": {
            "gridcolor": "white",
            "linecolor": "white",
            "ticks": ""
           },
           "baxis": {
            "gridcolor": "white",
            "linecolor": "white",
            "ticks": ""
           },
           "bgcolor": "#E5ECF6",
           "caxis": {
            "gridcolor": "white",
            "linecolor": "white",
            "ticks": ""
           }
          },
          "title": {
           "x": 0.05
          },
          "xaxis": {
           "automargin": true,
           "gridcolor": "white",
           "linecolor": "white",
           "ticks": "",
           "title": {
            "standoff": 15
           },
           "zerolinecolor": "white",
           "zerolinewidth": 2
          },
          "yaxis": {
           "automargin": true,
           "gridcolor": "white",
           "linecolor": "white",
           "ticks": "",
           "title": {
            "standoff": 15
           },
           "zerolinecolor": "white",
           "zerolinewidth": 2
          }
         }
        },
        "width": 690,
        "xaxis": {
         "range": [
          0.25,
          3.3
         ],
         "title": {
          "text": "size-in"
         },
         "type": "log"
        },
        "yaxis": {
         "range": [
          0.25,
          3.3
         ],
         "title": {
          "text": "size-out"
         },
         "type": "log"
        }
       }
      },
      "image/png": "[encoded data removed]",
      "text/html": [
       "<div>                            <div id=\"6c8e1dcf-d4e3-4bb2-bbfb-d88b15a8f8bf\" class=\"plotly-graph-div\" style=\"height:500px; width:690px;\"></div>            <script type=\"text/javascript\">                require([\"plotly\"], function(Plotly) {                    window.PLOTLYENV=window.PLOTLYENV || {};                                    if (document.getElementById(\"6c8e1dcf-d4e3-4bb2-bbfb-d88b15a8f8bf\")) {                    Plotly.newPlot(                        \"6c8e1dcf-d4e3-4bb2-bbfb-d88b15a8f8bf\",                        [{\"marker\":{\"color\":[\"red\",\"red\",\"red\",\"red\",\"red\",\"red\",\"green\",\"green\",\"green\",\"darkslategray\",\"red\",\"red\",\"red\",\"red\",\"red\",\"red\",\"red\",\"darkslategray\",\"red\",\"red\",\"red\",\"darkslategray\",\"darkslategray\",\"red\",\"red\",\"red\",\"green\",\"darkslategray\",\"red\",\"red\",\"darkslategray\",\"green\",\"darkslategray\",\"red\",\"green\",\"green\",\"green\",\"darkslategray\",\"red\",\"green\",\"green\",\"darkslategray\",\"green\",\"green\",\"darkslategray\",\"red\",\"green\",\"darkslategray\",\"darkslategray\",\"green\",\"green\",\"darkslategray\",\"green\",\"green\",\"green\",\"green\",\"darkslategray\",\"red\",\"darkslategray\",\"darkslategray\",\"green\",\"green\",\"green\",\"darkslategray\",\"green\",\"green\",\"darkslategray\",\"darkslategray\",\"red\",\"red\",\"green\",\"green\",\"darkslategray\",\"darkslategray\",\"green\",\"green\",\"green\",\"darkslategray\",\"darkslategray\",\"red\",\"darkslategray\",\"red\",\"green\",\"green\",\"darkslategray\",\"green\",\"darkslategray\",\"darkslategray\",\"green\",\"green\",\"darkslategray\",\"green\",\"darkslategray\",\"red\",\"darkslategray\",\"green\",\"green\",\"green\",\"green\",\"green\",\"green\",\"green\",\"green\",\"darkslategray\",\"darkslategray\",\"darkslategray\",\"green\",\"green\",\"darkslategray\",\"green\",\"darkslategray\",\"green\",\"darkslategray\",\"darkslategray\",\"green\",\"green\",\"green\",\"darkslategray\",\"green\",\"green\",\"green\",\"green\",\"green\",\"green\",\"darkslategray\",\"red\",\"green\",\"darkslategray\",\"green\",\"darkslategray\",\"green\",\"darkslategray\",\"darkslategray\",\"darkslategray\",\"green\",\"green\",\"darkslategray\",\"green\",\"green\",\"green\",\"green\",\"darkslategray\",\"darkslategray\",\"green\",\"darkslategray\",\"green\",\"darkslategray\",\"darkslategray\",\"darkslategray\",\"green\",\"green\",\"green\",\"green\",\"darkslategray\",\"green\",\"darkslategray\",\"darkslategray\",\"darkslategray\",\"green\",\"green\",\"green\",\"green\",\"darkslategray\",\"green\",\"darkslategray\",\"darkslategray\",\"green\",\"green\",\"green\",\"green\",\"green\",\"green\",\"green\",\"darkslategray\",\"darkslategray\",\"darkslategray\",\"darkslategray\",\"darkslategray\",\"darkslategray\",\"green\",\"darkslategray\",\"green\",\"green\",\"green\",\"darkslategray\",\"green\",\"green\",\"green\",\"darkslategray\",\"darkslategray\",\"darkslategray\",\"darkslategray\",\"darkslategray\",\"green\",\"green\",\"darkslategray\",\"darkslategray\",\"green\",\"green\",\"green\",\"green\",\"darkslategray\",\"green\",\"darkslategray\",\"green\",\"green\",\"green\",\"green\",\"darkslategray\",\"darkslategray\",\"darkslategray\",\"darkslategray\",\"green\",\"darkslategray\",\"darkslategray\",\"green\",\"green\",\"darkslategray\",\"darkslategray\",\"green\",\"darkslategray\",\"green\",\"green\",\"green\",\"darkslategray\",\"darkslategray\",\"green\",\"darkslategray\",\"green\",\"darkslategray\",\"darkslategray\",\"green\",\"darkslategray\",\"green\",\"green\",\"darkslategray\",\"darkslategray\",\"green\",\"green\",\"darkslategray\",\"darkslategray\",\"darkslategray\",\"darkslategray\",\"darkslategray\",\"green\",\"green\",\"darkslategray\",\"darkslategray\",\"green\",\"green\",\"darkslategray\",\"darkslategray\",\"green\",\"green\",\"darkslategray\",\"green\",\"darkslategray\",\"green\",\"darkslategray\",\"darkslategray\",\"green\",\"green\",\"green\",\"darkslategray\",\"darkslategray\",\"darkslategray\",\"darkslategray\",\"green\",\"darkslategray\",\"darkslategray\",\"green\",\"green\",\"green\",\"darkslategray\",\"green\",\"green\",\"darkslategray\",\"green\",\"green\",\"darkslategray\",\"green\",\"darkslategray\",\"darkslategray\",\"green\",\"darkslategray\",\"green\",\"green\",\"green\",\"green\",\"darkslategray\",\"darkslategray\",\"darkslategray\",\"green\",\"green\",\"darkslategray\",\"green\",\"green\",\"green\",\"green\",\"darkslategray\",\"darkslategray\",\"green\",\"darkslategray\",\"green\",\"green\",\"darkslategray\",\"darkslategray\",\"green\",\"darkslategray\",\"darkslategray\",\"darkslategray\",\"darkslategray\",\"darkslategray\",\"green\",\"darkslategray\",\"green\",\"green\",\"green\",\"green\",\"darkslategray\"],\"size\":[3.566165626622601,3.566165626622601,2.25,2.25,2.25,2.25,3.566165626622601,2.25,2.25,11.040503840119166,2.25,5.816165626622601,2.25,9.0,9.196791392813264,2.25,3.566165626622601,3.566165626622601,2.25,3.566165626622601,2.25,2.25,5.816165626622601,2.25,2.25,2.25,3.566165626622601,2.25,2.25,2.25,3.566165626622601,3.566165626622601,2.25,2.25,2.25,5.224338213496565,4.5,7.474338213496565,5.224338213496565,4.5,3.566165626622601,2.25,2.25,2.25,5.816165626622601,2.25,4.5,2.25,3.566165626622601,3.566165626622601,2.25,4.5,2.25,5.224338213496565,5.224338213496565,2.25,8.0661656266226,3.566165626622601,2.25,3.566165626622601,2.25,2.25,3.566165626622601,2.25,2.25,5.224338213496565,7.783721141933919,2.25,2.25,2.25,2.25,2.25,2.25,2.25,2.25,2.25,2.25,2.25,4.5,2.25,4.5,2.25,3.566165626622601,2.25,6.31654857462961,3.566165626622601,2.25,2.25,2.25,2.25,3.566165626622601,2.25,3.566165626622601,2.25,4.5,2.25,2.25,4.5,2.25,2.25,2.25,2.25,2.25,9.0,2.25,2.25,2.25,2.25,4.5,2.25,3.566165626622601,2.25,2.25,2.25,2.25,2.25,2.25,4.5,2.25,2.25,5.816165626622601,2.25,2.25,2.25,14.782175118744632,2.25,2.25,2.25,2.25,3.566165626622601,2.25,3.566165626622601,3.566165626622601,2.25,2.25,2.25,6.31654857462961,2.25,3.566165626622601,2.25,2.25,7.783721141933919,3.566165626622601,3.566165626622601,4.5,2.25,3.566165626622601,2.25,5.224338213496565,2.25,2.25,2.25,2.25,8.790503840119166,2.25,5.816165626622601,2.25,2.25,2.25,2.25,2.25,2.25,5.816165626622601,2.25,2.25,4.5,2.25,2.25,2.25,2.25,2.25,2.25,2.25,9.724338213496566,2.25,3.566165626622601,2.25,4.5,2.25,2.25,3.566165626622601,2.25,3.566165626622601,2.25,2.25,2.25,2.25,2.25,6.31654857462961,2.25,2.25,2.25,3.566165626622601,2.25,2.25,2.25,2.25,2.25,2.25,2.25,3.566165626622601,3.566165626622601,2.25,2.25,2.25,3.566165626622601,2.25,2.25,10.575989365817456,6.31654857462961,2.25,2.25,2.25,4.5,2.25,2.25,2.25,6.75,2.25,2.25,2.25,3.566165626622601,4.5,2.25,7.783721141933919,3.566165626622601,2.25,2.25,2.25,4.5,2.25,2.25,2.25,2.25,2.25,5.224338213496565,2.25,2.25,2.25,4.5,2.25,2.25,5.816165626622601,3.566165626622601,2.25,2.25,5.224338213496565,3.566165626622601,2.25,2.25,7.132331253245202,2.25,2.25,2.25,2.25,2.25,2.25,2.25,2.25,2.25,2.25,2.25,2.25,8.566548574629609,2.25,2.25,2.25,2.25,2.25,2.25,2.25,2.25,2.25,6.75,2.25,2.25,2.25,2.25,2.25,3.566165626622601,2.25,5.816165626622601,2.25,2.25,2.25,2.25,2.25,2.25,2.25,7.132331253245202,2.25,2.25,2.25,2.25,2.25,2.25,2.25,2.25,2.25,4.5,4.5,2.25,3.566165626622601,2.25,2.25,3.566165626622601,4.5,2.25,2.25,3.566165626622601,2.25,2.25,2.25,2.25,3.566165626622601,2.25,2.25,2.25,2.25,9.882714201252211]},\"mode\":\"markers\",\"showlegend\":false,\"text\":[2.0,2.0,1.0,1.0,1.0,1.0,2.0,1.0,1.0,29.0,1.0,5.0,1.0,15.0,16.0,1.0,2.0,2.0,1.0,2.0,1.0,1.0,5.0,1.0,1.0,1.0,2.0,1.0,1.0,1.0,2.0,2.0,1.0,1.0,1.0,4.0,3.0,9.0,4.0,3.0,2.0,1.0,1.0,1.0,5.0,1.0,3.0,1.0,2.0,2.0,1.0,3.0,1.0,4.0,4.0,1.0,11.0,2.0,1.0,2.0,1.0,1.0,2.0,1.0,1.0,4.0,10.0,1.0,1.0,1.0,1.0,1.0,1.0,1.0,1.0,1.0,1.0,1.0,3.0,1.0,3.0,1.0,2.0,1.0,6.0,2.0,1.0,1.0,1.0,1.0,2.0,1.0,2.0,1.0,3.0,1.0,1.0,3.0,1.0,1.0,1.0,1.0,1.0,15.0,1.0,1.0,1.0,1.0,3.0,1.0,2.0,1.0,1.0,1.0,1.0,1.0,1.0,3.0,1.0,1.0,5.0,1.0,1.0,1.0,94.0,1.0,1.0,1.0,1.0,2.0,1.0,2.0,2.0,1.0,1.0,1.0,6.0,1.0,2.0,1.0,1.0,10.0,2.0,2.0,3.0,1.0,2.0,1.0,4.0,1.0,1.0,1.0,1.0,14.0,1.0,5.0,1.0,1.0,1.0,1.0,1.0,1.0,5.0,1.0,1.0,3.0,1.0,1.0,1.0,1.0,1.0,1.0,1.0,19.0,1.0,2.0,1.0,3.0,1.0,1.0,2.0,1.0,2.0,1.0,1.0,1.0,1.0,1.0,6.0,1.0,1.0,1.0,2.0,1.0,1.0,1.0,1.0,1.0,1.0,1.0,2.0,2.0,1.0,1.0,1.0,2.0,1.0,1.0,25.0,6.0,1.0,1.0,1.0,3.0,1.0,1.0,1.0,7.0,1.0,1.0,1.0,2.0,3.0,1.0,10.0,2.0,1.0,1.0,1.0,3.0,1.0,1.0,1.0,1.0,1.0,4.0,1.0,1.0,1.0,3.0,1.0,1.0,5.0,2.0,1.0,1.0,4.0,2.0,1.0,1.0,8.0,1.0,1.0,1.0,1.0,1.0,1.0,1.0,1.0,1.0,1.0,1.0,1.0,13.0,1.0,1.0,1.0,1.0,1.0,1.0,1.0,1.0,1.0,7.0,1.0,1.0,1.0,1.0,1.0,2.0,1.0,5.0,1.0,1.0,1.0,1.0,1.0,1.0,1.0,8.0,1.0,1.0,1.0,1.0,1.0,1.0,1.0,1.0,1.0,3.0,3.0,1.0,2.0,1.0,1.0,2.0,3.0,1.0,1.0,2.0,1.0,1.0,1.0,1.0,2.0,1.0,1.0,1.0,1.0,20.0],\"x\":[4,4,5,6,6,8,9,9,9,9,9,9,9,9,9,9,9,12,12,12,13,15,16,16,16,16,18,18,18,18,20,21,24,24,25,25,25,25,25,27,27,27,28,30,30,30,32,32,33,35,35,35,36,36,36,36,36,36,40,42,45,45,45,45,48,49,49,50,50,51,52,54,54,55,56,56,56,56,60,60,63,63,64,64,64,65,65,70,72,75,75,76,77,78,80,81,81,81,81,81,81,81,81,81,87,88,90,90,90,91,91,96,96,98,99,99,99,99,100,100,100,100,100,100,100,100,105,105,108,108,110,110,117,119,120,120,120,121,121,121,121,121,126,130,130,132,132,136,140,143,144,144,144,144,150,150,152,153,154,154,156,156,156,160,160,168,169,169,169,169,169,169,169,169,170,176,180,182,187,190,192,195,195,195,195,196,196,196,196,198,200,204,208,210,210,210,216,221,221,221,221,221,224,224,225,225,225,225,225,228,234,238,240,240,242,247,247,247,250,252,252,256,256,256,256,264,270,270,272,285,286,288,288,289,289,289,299,306,306,306,312,320,323,324,336,342,342,352,360,361,361,374,378,378,380,391,391,396,396,399,400,400,400,400,414,418,425,437,437,440,441,441,441,441,456,460,468,480,483,483,484,484,506,510,525,529,529,529,529,529,532,550,567,575,575,576,576,576,576,576,600,621,621,624,625,625,644,667,672,729,754,784,810,841,841,900,900,900,900,900],\"y\":[16,36,100,18,36,32,1,2,3,9,15,18,25,36,81,144,225,12,24,48,169,15,16,64,80,256,9,18,27,81,20,9,24,56,1,4,9,25,100,9,21,27,12,15,30,60,16,32,33,9,15,35,4,9,16,25,36,144,40,42,1,9,20,45,24,9,49,50,100,153,24,24,54,55,9,16,28,56,60,100,63,225,16,18,64,30,65,70,18,25,75,16,77,324,80,4,5,9,16,18,25,36,48,81,87,88,20,40,90,12,91,1,96,98,20,22,63,99,4,8,9,15,20,25,100,400,49,105,32,108,25,110,117,119,16,60,120,4,9,55,100,121,126,12,130,25,132,136,140,33,3,4,16,144,32,150,152,153,25,27,16,36,156,16,160,168,3,9,16,36,48,49,64,169,170,176,180,182,187,6,192,1,4,39,195,9,81,100,196,198,200,204,208,48,100,210,216,1,20,27,49,221,3,224,8,9,18,135,225,228,234,238,36,240,242,9,42,247,250,25,252,9,16,25,256,264,36,270,9,285,286,81,288,25,126,289,299,32,128,306,312,320,323,324,20,20,342,352,88,16,361,374,25,64,380,42,391,132,396,399,4,9,30,400,414,418,425,90,437,440,9,12,100,441,153,81,468,9,48,483,180,484,506,255,525,16,25,49,56,529,532,550,9,21,575,9,25,40,49,576,600,25,621,1,24,625,644,25,672,729,754,784,810,9,841,9,15,16,48,900],\"type\":\"scatter\"},{\"mode\":\"text\",\"text\":[\"Tiny\",\"Small\",\"Medium\",\"Large\"],\"x\":[20,70,225,950],\"y\":[44,144,666,1269],\"type\":\"scatter\"}],                        {\"template\":{\"data\":{\"histogram2dcontour\":[{\"type\":\"histogram2dcontour\",\"colorbar\":{\"outlinewidth\":0,\"ticks\":\"\"},\"colorscale\":[[0.0,\"#0d0887\"],[0.1111111111111111,\"#46039f\"],[0.2222222222222222,\"#7201a8\"],[0.3333333333333333,\"#9c179e\"],[0.4444444444444444,\"#bd3786\"],[0.5555555555555556,\"#d8576b\"],[0.6666666666666666,\"#ed7953\"],[0.7777777777777778,\"#fb9f3a\"],[0.8888888888888888,\"#fdca26\"],[1.0,\"#f0f921\"]]}],\"choropleth\":[{\"type\":\"choropleth\",\"colorbar\":{\"outlinewidth\":0,\"ticks\":\"\"}}],\"histogram2d\":[{\"type\":\"histogram2d\",\"colorbar\":{\"outlinewidth\":0,\"ticks\":\"\"},\"colorscale\":[[0.0,\"#0d0887\"],[0.1111111111111111,\"#46039f\"],[0.2222222222222222,\"#7201a8\"],[0.3333333333333333,\"#9c179e\"],[0.4444444444444444,\"#bd3786\"],[0.5555555555555556,\"#d8576b\"],[0.6666666666666666,\"#ed7953\"],[0.7777777777777778,\"#fb9f3a\"],[0.8888888888888888,\"#fdca26\"],[1.0,\"#f0f921\"]]}],\"heatmap\":[{\"type\":\"heatmap\",\"colorbar\":{\"outlinewidth\":0,\"ticks\":\"\"},\"colorscale\":[[0.0,\"#0d0887\"],[0.1111111111111111,\"#46039f\"],[0.2222222222222222,\"#7201a8\"],[0.3333333333333333,\"#9c179e\"],[0.4444444444444444,\"#bd3786\"],[0.5555555555555556,\"#d8576b\"],[0.6666666666666666,\"#ed7953\"],[0.7777777777777778,\"#fb9f3a\"],[0.8888888888888888,\"#fdca26\"],[1.0,\"#f0f921\"]]}],\"heatmapgl\":[{\"type\":\"heatmapgl\",\"colorbar\":{\"outlinewidth\":0,\"ticks\":\"\"},\"colorscale\":[[0.0,\"#0d0887\"],[0.1111111111111111,\"#46039f\"],[0.2222222222222222,\"#7201a8\"],[0.3333333333333333,\"#9c179e\"],[0.4444444444444444,\"#bd3786\"],[0.5555555555555556,\"#d8576b\"],[0.6666666666666666,\"#ed7953\"],[0.7777777777777778,\"#fb9f3a\"],[0.8888888888888888,\"#fdca26\"],[1.0,\"#f0f921\"]]}],\"contourcarpet\":[{\"type\":\"contourcarpet\",\"colorbar\":{\"outlinewidth\":0,\"ticks\":\"\"}}],\"contour\":[{\"type\":\"contour\",\"colorbar\":{\"outlinewidth\":0,\"ticks\":\"\"},\"colorscale\":[[0.0,\"#0d0887\"],[0.1111111111111111,\"#46039f\"],[0.2222222222222222,\"#7201a8\"],[0.3333333333333333,\"#9c179e\"],[0.4444444444444444,\"#bd3786\"],[0.5555555555555556,\"#d8576b\"],[0.6666666666666666,\"#ed7953\"],[0.7777777777777778,\"#fb9f3a\"],[0.8888888888888888,\"#fdca26\"],[1.0,\"#f0f921\"]]}],\"surface\":[{\"type\":\"surface\",\"colorbar\":{\"outlinewidth\":0,\"ticks\":\"\"},\"colorscale\":[[0.0,\"#0d0887\"],[0.1111111111111111,\"#46039f\"],[0.2222222222222222,\"#7201a8\"],[0.3333333333333333,\"#9c179e\"],[0.4444444444444444,\"#bd3786\"],[0.5555555555555556,\"#d8576b\"],[0.6666666666666666,\"#ed7953\"],[0.7777777777777778,\"#fb9f3a\"],[0.8888888888888888,\"#fdca26\"],[1.0,\"#f0f921\"]]}],\"mesh3d\":[{\"type\":\"mesh3d\",\"colorbar\":{\"outlinewidth\":0,\"ticks\":\"\"}}],\"scatter\":[{\"fillpattern\":{\"fillmode\":\"overlay\",\"size\":10,\"solidity\":0.2},\"type\":\"scatter\"}],\"parcoords\":[{\"type\":\"parcoords\",\"line\":{\"colorbar\":{\"outlinewidth\":0,\"ticks\":\"\"}}}],\"scatterpolargl\":[{\"type\":\"scatterpolargl\",\"marker\":{\"colorbar\":{\"outlinewidth\":0,\"ticks\":\"\"}}}],\"bar\":[{\"error_x\":{\"color\":\"#2a3f5f\"},\"error_y\":{\"color\":\"#2a3f5f\"},\"marker\":{\"line\":{\"color\":\"#E5ECF6\",\"width\":0.5},\"pattern\":{\"fillmode\":\"overlay\",\"size\":10,\"solidity\":0.2}},\"type\":\"bar\"}],\"scattergeo\":[{\"type\":\"scattergeo\",\"marker\":{\"colorbar\":{\"outlinewidth\":0,\"ticks\":\"\"}}}],\"scatterpolar\":[{\"type\":\"scatterpolar\",\"marker\":{\"colorbar\":{\"outlinewidth\":0,\"ticks\":\"\"}}}],\"histogram\":[{\"marker\":{\"pattern\":{\"fillmode\":\"overlay\",\"size\":10,\"solidity\":0.2}},\"type\":\"histogram\"}],\"scattergl\":[{\"type\":\"scattergl\",\"marker\":{\"colorbar\":{\"outlinewidth\":0,\"ticks\":\"\"}}}],\"scatter3d\":[{\"type\":\"scatter3d\",\"line\":{\"colorbar\":{\"outlinewidth\":0,\"ticks\":\"\"}},\"marker\":{\"colorbar\":{\"outlinewidth\":0,\"ticks\":\"\"}}}],\"scattermapbox\":[{\"type\":\"scattermapbox\",\"marker\":{\"colorbar\":{\"outlinewidth\":0,\"ticks\":\"\"}}}],\"scatterternary\":[{\"type\":\"scatterternary\",\"marker\":{\"colorbar\":{\"outlinewidth\":0,\"ticks\":\"\"}}}],\"scattercarpet\":[{\"type\":\"scattercarpet\",\"marker\":{\"colorbar\":{\"outlinewidth\":0,\"ticks\":\"\"}}}],\"carpet\":[{\"aaxis\":{\"endlinecolor\":\"#2a3f5f\",\"gridcolor\":\"white\",\"linecolor\":\"white\",\"minorgridcolor\":\"white\",\"startlinecolor\":\"#2a3f5f\"},\"baxis\":{\"endlinecolor\":\"#2a3f5f\",\"gridcolor\":\"white\",\"linecolor\":\"white\",\"minorgridcolor\":\"white\",\"startlinecolor\":\"#2a3f5f\"},\"type\":\"carpet\"}],\"table\":[{\"cells\":{\"fill\":{\"color\":\"#EBF0F8\"},\"line\":{\"color\":\"white\"}},\"header\":{\"fill\":{\"color\":\"#C8D4E3\"},\"line\":{\"color\":\"white\"}},\"type\":\"table\"}],\"barpolar\":[{\"marker\":{\"line\":{\"color\":\"#E5ECF6\",\"width\":0.5},\"pattern\":{\"fillmode\":\"overlay\",\"size\":10,\"solidity\":0.2}},\"type\":\"barpolar\"}],\"pie\":[{\"automargin\":true,\"type\":\"pie\"}]},\"layout\":{\"autotypenumbers\":\"strict\",\"colorway\":[\"#636efa\",\"#EF553B\",\"#00cc96\",\"#ab63fa\",\"#FFA15A\",\"#19d3f3\",\"#FF6692\",\"#B6E880\",\"#FF97FF\",\"#FECB52\"],\"font\":{\"color\":\"#2a3f5f\"},\"hovermode\":\"closest\",\"hoverlabel\":{\"align\":\"left\"},\"paper_bgcolor\":\"white\",\"plot_bgcolor\":\"#E5ECF6\",\"polar\":{\"bgcolor\":\"#E5ECF6\",\"angularaxis\":{\"gridcolor\":\"white\",\"linecolor\":\"white\",\"ticks\":\"\"},\"radialaxis\":{\"gridcolor\":\"white\",\"linecolor\":\"white\",\"ticks\":\"\"}},\"ternary\":{\"bgcolor\":\"#E5ECF6\",\"aaxis\":{\"gridcolor\":\"white\",\"linecolor\":\"white\",\"ticks\":\"\"},\"baxis\":{\"gridcolor\":\"white\",\"linecolor\":\"white\",\"ticks\":\"\"},\"caxis\":{\"gridcolor\":\"white\",\"linecolor\":\"white\",\"ticks\":\"\"}},\"coloraxis\":{\"colorbar\":{\"outlinewidth\":0,\"ticks\":\"\"}},\"colorscale\":{\"sequential\":[[0.0,\"#0d0887\"],[0.1111111111111111,\"#46039f\"],[0.2222222222222222,\"#7201a8\"],[0.3333333333333333,\"#9c179e\"],[0.4444444444444444,\"#bd3786\"],[0.5555555555555556,\"#d8576b\"],[0.6666666666666666,\"#ed7953\"],[0.7777777777777778,\"#fb9f3a\"],[0.8888888888888888,\"#fdca26\"],[1.0,\"#f0f921\"]],\"sequentialminus\":[[0.0,\"#0d0887\"],[0.1111111111111111,\"#46039f\"],[0.2222222222222222,\"#7201a8\"],[0.3333333333333333,\"#9c179e\"],[0.4444444444444444,\"#bd3786\"],[0.5555555555555556,\"#d8576b\"],[0.6666666666666666,\"#ed7953\"],[0.7777777777777778,\"#fb9f3a\"],[0.8888888888888888,\"#fdca26\"],[1.0,\"#f0f921\"]],\"diverging\":[[0,\"#8e0152\"],[0.1,\"#c51b7d\"],[0.2,\"#de77ae\"],[0.3,\"#f1b6da\"],[0.4,\"#fde0ef\"],[0.5,\"#f7f7f7\"],[0.6,\"#e6f5d0\"],[0.7,\"#b8e186\"],[0.8,\"#7fbc41\"],[0.9,\"#4d9221\"],[1,\"#276419\"]]},\"xaxis\":{\"gridcolor\":\"white\",\"linecolor\":\"white\",\"ticks\":\"\",\"title\":{\"standoff\":15},\"zerolinecolor\":\"white\",\"automargin\":true,\"zerolinewidth\":2},\"yaxis\":{\"gridcolor\":\"white\",\"linecolor\":\"white\",\"ticks\":\"\",\"title\":{\"standoff\":15},\"zerolinecolor\":\"white\",\"automargin\":true,\"zerolinewidth\":2},\"scene\":{\"xaxis\":{\"backgroundcolor\":\"#E5ECF6\",\"gridcolor\":\"white\",\"linecolor\":\"white\",\"showbackground\":true,\"ticks\":\"\",\"zerolinecolor\":\"white\",\"gridwidth\":2},\"yaxis\":{\"backgroundcolor\":\"#E5ECF6\",\"gridcolor\":\"white\",\"linecolor\":\"white\",\"showbackground\":true,\"ticks\":\"\",\"zerolinecolor\":\"white\",\"gridwidth\":2},\"zaxis\":{\"backgroundcolor\":\"#E5ECF6\",\"gridcolor\":\"white\",\"linecolor\":\"white\",\"showbackground\":true,\"ticks\":\"\",\"zerolinecolor\":\"white\",\"gridwidth\":2}},\"shapedefaults\":{\"line\":{\"color\":\"#2a3f5f\"}},\"annotationdefaults\":{\"arrowcolor\":\"#2a3f5f\",\"arrowhead\":0,\"arrowwidth\":1},\"geo\":{\"bgcolor\":\"white\",\"landcolor\":\"#E5ECF6\",\"subunitcolor\":\"white\",\"showland\":true,\"showlakes\":true,\"lakecolor\":\"white\"},\"title\":{\"x\":0.05},\"mapbox\":{\"style\":\"light\"}}},\"xaxis\":{\"title\":{\"text\":\"size-in\"},\"type\":\"log\",\"range\":[0.25,3.3]},\"yaxis\":{\"title\":{\"text\":\"size-out\"},\"type\":\"log\",\"range\":[0.25,3.3]},\"width\":690,\"height\":500,\"autosize\":false,\"shapes\":[{\"line\":{\"color\":\"MediumSlateBlue\",\"width\":1},\"type\":\"rect\",\"x0\":9,\"x1\":36,\"y0\":9,\"y1\":36},{\"line\":{\"color\":\"RoyalBlue\",\"width\":1},\"type\":\"rect\",\"x0\":49,\"x1\":121,\"y0\":49,\"y1\":121},{\"line\":{\"color\":\"BlueViolet\",\"width\":1},\"type\":\"rect\",\"x0\":144,\"x1\":576,\"y0\":144,\"y1\":576},{\"line\":{\"color\":\"MidnightBlue\",\"width\":1},\"type\":\"rect\",\"x0\":625,\"x1\":1089,\"y0\":625,\"y1\":1089}]},                        {\"responsive\": true}                    ).then(function(){\n",
       "                            \n",
       "var gd = document.getElementById('6c8e1dcf-d4e3-4bb2-bbfb-d88b15a8f8bf');\n",
       "var x = new MutationObserver(function (mutations, observer) {{\n",
       "        var display = window.getComputedStyle(gd).display;\n",
       "        if (!display || display === 'none') {{\n",
       "            console.log([gd, 'removed!']);\n",
       "            Plotly.purge(gd);\n",
       "            observer.disconnect();\n",
       "        }}\n",
       "}});\n",
       "\n",
       "// Listen for the removal of the full notebook cells\n",
       "var notebookContainer = gd.closest('#notebook-container');\n",
       "if (notebookContainer) {{\n",
       "    x.observe(notebookContainer, {childList: true});\n",
       "}}\n",
       "\n",
       "// Listen for the clearing of the current output cell\n",
       "var outputEl = gd.closest('.output');\n",
       "if (outputEl) {{\n",
       "    x.observe(outputEl, {childList: true});\n",
       "}}\n",
       "\n",
       "                        })                };                });            </script>        </div>"
      ]
     },
     "metadata": {},
     "output_type": "display_data"
    },
    {
     "data": {
      "application/vnd.plotly.v1+json": {
       "config": {
        "plotlyServerURL": "https://plot.ly"
       },
       "data": [
        {
         "fill": "toself",
         "marker": {
          "color": "rgba(64, 0, 0, .1)"
         },
         "mode": "lines",
         "name": "Extraction",
         "type": "scatter",
         "x": [
          3,
          333,
          3,
          3
         ],
         "y": [
          4,
          444,
          444,
          4
         ]
        },
        {
         "fill": "toself",
         "marker": {
          "color": "rgba(0, 16, 0, .1)"
         },
         "mode": "lines",
         "name": "Expansion",
         "type": "scatter",
         "x": [
          3,
          999,
          999,
          3
         ],
         "y": [
          2,
          666,
          2,
          2
         ]
        },
        {
         "mode": "text",
         "text": [
          "<b>Extraction</b>",
          "<b>Expansion</b>"
         ],
         "textfont": {
          "color": "yellow"
         },
         "type": "scatter",
         "x": [
          7,
          500
         ],
         "y": [
          350,
          2.5
         ]
        },
        {
         "marker": {
          "color": [
           "red",
           "red",
           "red",
           "red",
           "red",
           "red",
           "green",
           "green",
           "green",
           "darkslategray",
           "red",
           "red",
           "red",
           "red",
           "red",
           "red",
           "red",
           "darkslategray",
           "red",
           "red",
           "red",
           "darkslategray",
           "darkslategray",
           "red",
           "red",
           "red",
           "green",
           "darkslategray",
           "red",
           "red",
           "darkslategray",
           "green",
           "darkslategray",
           "red",
           "green",
           "green",
           "green",
           "darkslategray",
           "red",
           "green",
           "green",
           "darkslategray",
           "green",
           "green",
           "darkslategray",
           "red",
           "green",
           "darkslategray",
           "darkslategray",
           "green",
           "green",
           "darkslategray",
           "green",
           "green",
           "green",
           "green",
           "darkslategray",
           "red",
           "darkslategray",
           "darkslategray",
           "green",
           "green",
           "green",
           "darkslategray",
           "green",
           "green",
           "darkslategray",
           "darkslategray",
           "red",
           "red",
           "green",
           "green",
           "darkslategray",
           "darkslategray",
           "green",
           "green",
           "green",
           "darkslategray",
           "darkslategray",
           "red",
           "darkslategray",
           "red",
           "green",
           "green",
           "darkslategray",
           "green",
           "darkslategray",
           "darkslategray",
           "green",
           "green",
           "darkslategray",
           "green",
           "darkslategray",
           "red",
           "darkslategray",
           "green",
           "green",
           "green",
           "green",
           "green",
           "green",
           "green",
           "green",
           "darkslategray",
           "darkslategray",
           "darkslategray",
           "green",
           "green",
           "darkslategray",
           "green",
           "darkslategray",
           "green",
           "darkslategray",
           "darkslategray",
           "green",
           "green",
           "green",
           "darkslategray",
           "green",
           "green",
           "green",
           "green",
           "green",
           "green",
           "darkslategray",
           "red",
           "green",
           "darkslategray",
           "green",
           "darkslategray",
           "green",
           "darkslategray",
           "darkslategray",
           "darkslategray",
           "green",
           "green",
           "darkslategray",
           "green",
           "green",
           "green",
           "green",
           "darkslategray",
           "darkslategray",
           "green",
           "darkslategray",
           "green",
           "darkslategray",
           "darkslategray",
           "darkslategray",
           "green",
           "green",
           "green",
           "green",
           "darkslategray",
           "green",
           "darkslategray",
           "darkslategray",
           "darkslategray",
           "green",
           "green",
           "green",
           "green",
           "darkslategray",
           "green",
           "darkslategray",
           "darkslategray",
           "green",
           "green",
           "green",
           "green",
           "green",
           "green",
           "green",
           "darkslategray",
           "darkslategray",
           "darkslategray",
           "darkslategray",
           "darkslategray",
           "darkslategray",
           "green",
           "darkslategray",
           "green",
           "green",
           "green",
           "darkslategray",
           "green",
           "green",
           "green",
           "darkslategray",
           "darkslategray",
           "darkslategray",
           "darkslategray",
           "darkslategray",
           "green",
           "green",
           "darkslategray",
           "darkslategray",
           "green",
           "green",
           "green",
           "green",
           "darkslategray",
           "green",
           "darkslategray",
           "green",
           "green",
           "green",
           "green",
           "darkslategray",
           "darkslategray",
           "darkslategray",
           "darkslategray",
           "green",
           "darkslategray",
           "darkslategray",
           "green",
           "green",
           "darkslategray",
           "darkslategray",
           "green",
           "darkslategray",
           "green",
           "green",
           "green",
           "darkslategray",
           "darkslategray",
           "green",
           "darkslategray",
           "green",
           "darkslategray",
           "darkslategray",
           "green",
           "darkslategray",
           "green",
           "green",
           "darkslategray",
           "darkslategray",
           "green",
           "green",
           "darkslategray",
           "darkslategray",
           "darkslategray",
           "darkslategray",
           "darkslategray",
           "green",
           "green",
           "darkslategray",
           "darkslategray",
           "green",
           "green",
           "darkslategray",
           "darkslategray",
           "green",
           "green",
           "darkslategray",
           "green",
           "darkslategray",
           "green",
           "darkslategray",
           "darkslategray",
           "green",
           "green",
           "green",
           "darkslategray",
           "darkslategray",
           "darkslategray",
           "darkslategray",
           "green",
           "darkslategray",
           "darkslategray",
           "green",
           "green",
           "green",
           "darkslategray",
           "green",
           "green",
           "darkslategray",
           "green",
           "green",
           "darkslategray",
           "green",
           "darkslategray",
           "darkslategray",
           "green",
           "darkslategray",
           "green",
           "green",
           "green",
           "green",
           "darkslategray",
           "darkslategray",
           "darkslategray",
           "green",
           "green",
           "darkslategray",
           "green",
           "green",
           "green",
           "green",
           "darkslategray",
           "darkslategray",
           "green",
           "darkslategray",
           "green",
           "green",
           "darkslategray",
           "darkslategray",
           "green",
           "darkslategray",
           "darkslategray",
           "darkslategray",
           "darkslategray",
           "darkslategray",
           "green",
           "darkslategray",
           "green",
           "green",
           "green",
           "green",
           "darkslategray"
          ],
          "size": [
           3.566165626622601,
           3.566165626622601,
           2.25,
           2.25,
           2.25,
           2.25,
           3.566165626622601,
           2.25,
           2.25,
           11.040503840119166,
           2.25,
           5.816165626622601,
           2.25,
           9,
           9.196791392813264,
           2.25,
           3.566165626622601,
           3.566165626622601,
           2.25,
           3.566165626622601,
           2.25,
           2.25,
           5.816165626622601,
           2.25,
           2.25,
           2.25,
           3.566165626622601,
           2.25,
           2.25,
           2.25,
           3.566165626622601,
           3.566165626622601,
           2.25,
           2.25,
           2.25,
           5.224338213496565,
           4.5,
           7.474338213496565,
           5.224338213496565,
           4.5,
           3.566165626622601,
           2.25,
           2.25,
           2.25,
           5.816165626622601,
           2.25,
           4.5,
           2.25,
           3.566165626622601,
           3.566165626622601,
           2.25,
           4.5,
           2.25,
           5.224338213496565,
           5.224338213496565,
           2.25,
           8.0661656266226,
           3.566165626622601,
           2.25,
           3.566165626622601,
           2.25,
           2.25,
           3.566165626622601,
           2.25,
           2.25,
           5.224338213496565,
           7.783721141933919,
           2.25,
           2.25,
           2.25,
           2.25,
           2.25,
           2.25,
           2.25,
           2.25,
           2.25,
           2.25,
           2.25,
           4.5,
           2.25,
           4.5,
           2.25,
           3.566165626622601,
           2.25,
           6.31654857462961,
           3.566165626622601,
           2.25,
           2.25,
           2.25,
           2.25,
           3.566165626622601,
           2.25,
           3.566165626622601,
           2.25,
           4.5,
           2.25,
           2.25,
           4.5,
           2.25,
           2.25,
           2.25,
           2.25,
           2.25,
           9,
           2.25,
           2.25,
           2.25,
           2.25,
           4.5,
           2.25,
           3.566165626622601,
           2.25,
           2.25,
           2.25,
           2.25,
           2.25,
           2.25,
           4.5,
           2.25,
           2.25,
           5.816165626622601,
           2.25,
           2.25,
           2.25,
           14.782175118744632,
           2.25,
           2.25,
           2.25,
           2.25,
           3.566165626622601,
           2.25,
           3.566165626622601,
           3.566165626622601,
           2.25,
           2.25,
           2.25,
           6.31654857462961,
           2.25,
           3.566165626622601,
           2.25,
           2.25,
           7.783721141933919,
           3.566165626622601,
           3.566165626622601,
           4.5,
           2.25,
           3.566165626622601,
           2.25,
           5.224338213496565,
           2.25,
           2.25,
           2.25,
           2.25,
           8.790503840119166,
           2.25,
           5.816165626622601,
           2.25,
           2.25,
           2.25,
           2.25,
           2.25,
           2.25,
           5.816165626622601,
           2.25,
           2.25,
           4.5,
           2.25,
           2.25,
           2.25,
           2.25,
           2.25,
           2.25,
           2.25,
           9.724338213496566,
           2.25,
           3.566165626622601,
           2.25,
           4.5,
           2.25,
           2.25,
           3.566165626622601,
           2.25,
           3.566165626622601,
           2.25,
           2.25,
           2.25,
           2.25,
           2.25,
           6.31654857462961,
           2.25,
           2.25,
           2.25,
           3.566165626622601,
           2.25,
           2.25,
           2.25,
           2.25,
           2.25,
           2.25,
           2.25,
           3.566165626622601,
           3.566165626622601,
           2.25,
           2.25,
           2.25,
           3.566165626622601,
           2.25,
           2.25,
           10.575989365817456,
           6.31654857462961,
           2.25,
           2.25,
           2.25,
           4.5,
           2.25,
           2.25,
           2.25,
           6.75,
           2.25,
           2.25,
           2.25,
           3.566165626622601,
           4.5,
           2.25,
           7.783721141933919,
           3.566165626622601,
           2.25,
           2.25,
           2.25,
           4.5,
           2.25,
           2.25,
           2.25,
           2.25,
           2.25,
           5.224338213496565,
           2.25,
           2.25,
           2.25,
           4.5,
           2.25,
           2.25,
           5.816165626622601,
           3.566165626622601,
           2.25,
           2.25,
           5.224338213496565,
           3.566165626622601,
           2.25,
           2.25,
           7.132331253245202,
           2.25,
           2.25,
           2.25,
           2.25,
           2.25,
           2.25,
           2.25,
           2.25,
           2.25,
           2.25,
           2.25,
           2.25,
           8.566548574629609,
           2.25,
           2.25,
           2.25,
           2.25,
           2.25,
           2.25,
           2.25,
           2.25,
           2.25,
           6.75,
           2.25,
           2.25,
           2.25,
           2.25,
           2.25,
           3.566165626622601,
           2.25,
           5.816165626622601,
           2.25,
           2.25,
           2.25,
           2.25,
           2.25,
           2.25,
           2.25,
           7.132331253245202,
           2.25,
           2.25,
           2.25,
           2.25,
           2.25,
           2.25,
           2.25,
           2.25,
           2.25,
           4.5,
           4.5,
           2.25,
           3.566165626622601,
           2.25,
           2.25,
           3.566165626622601,
           4.5,
           2.25,
           2.25,
           3.566165626622601,
           2.25,
           2.25,
           2.25,
           2.25,
           3.566165626622601,
           2.25,
           2.25,
           2.25,
           2.25,
           9.882714201252211
          ]
         },
         "mode": "markers",
         "showlegend": false,
         "text": [
          2,
          2,
          1,
          1,
          1,
          1,
          2,
          1,
          1,
          29,
          1,
          5,
          1,
          15,
          16,
          1,
          2,
          2,
          1,
          2,
          1,
          1,
          5,
          1,
          1,
          1,
          2,
          1,
          1,
          1,
          2,
          2,
          1,
          1,
          1,
          4,
          3,
          9,
          4,
          3,
          2,
          1,
          1,
          1,
          5,
          1,
          3,
          1,
          2,
          2,
          1,
          3,
          1,
          4,
          4,
          1,
          11,
          2,
          1,
          2,
          1,
          1,
          2,
          1,
          1,
          4,
          10,
          1,
          1,
          1,
          1,
          1,
          1,
          1,
          1,
          1,
          1,
          1,
          3,
          1,
          3,
          1,
          2,
          1,
          6,
          2,
          1,
          1,
          1,
          1,
          2,
          1,
          2,
          1,
          3,
          1,
          1,
          3,
          1,
          1,
          1,
          1,
          1,
          15,
          1,
          1,
          1,
          1,
          3,
          1,
          2,
          1,
          1,
          1,
          1,
          1,
          1,
          3,
          1,
          1,
          5,
          1,
          1,
          1,
          94,
          1,
          1,
          1,
          1,
          2,
          1,
          2,
          2,
          1,
          1,
          1,
          6,
          1,
          2,
          1,
          1,
          10,
          2,
          2,
          3,
          1,
          2,
          1,
          4,
          1,
          1,
          1,
          1,
          14,
          1,
          5,
          1,
          1,
          1,
          1,
          1,
          1,
          5,
          1,
          1,
          3,
          1,
          1,
          1,
          1,
          1,
          1,
          1,
          19,
          1,
          2,
          1,
          3,
          1,
          1,
          2,
          1,
          2,
          1,
          1,
          1,
          1,
          1,
          6,
          1,
          1,
          1,
          2,
          1,
          1,
          1,
          1,
          1,
          1,
          1,
          2,
          2,
          1,
          1,
          1,
          2,
          1,
          1,
          25,
          6,
          1,
          1,
          1,
          3,
          1,
          1,
          1,
          7,
          1,
          1,
          1,
          2,
          3,
          1,
          10,
          2,
          1,
          1,
          1,
          3,
          1,
          1,
          1,
          1,
          1,
          4,
          1,
          1,
          1,
          3,
          1,
          1,
          5,
          2,
          1,
          1,
          4,
          2,
          1,
          1,
          8,
          1,
          1,
          1,
          1,
          1,
          1,
          1,
          1,
          1,
          1,
          1,
          1,
          13,
          1,
          1,
          1,
          1,
          1,
          1,
          1,
          1,
          1,
          7,
          1,
          1,
          1,
          1,
          1,
          2,
          1,
          5,
          1,
          1,
          1,
          1,
          1,
          1,
          1,
          8,
          1,
          1,
          1,
          1,
          1,
          1,
          1,
          1,
          1,
          3,
          3,
          1,
          2,
          1,
          1,
          2,
          3,
          1,
          1,
          2,
          1,
          1,
          1,
          1,
          2,
          1,
          1,
          1,
          1,
          20
         ],
         "type": "scatter",
         "x": [
          4,
          4,
          5,
          6,
          6,
          8,
          9,
          9,
          9,
          9,
          9,
          9,
          9,
          9,
          9,
          9,
          9,
          12,
          12,
          12,
          13,
          15,
          16,
          16,
          16,
          16,
          18,
          18,
          18,
          18,
          20,
          21,
          24,
          24,
          25,
          25,
          25,
          25,
          25,
          27,
          27,
          27,
          28,
          30,
          30,
          30,
          32,
          32,
          33,
          35,
          35,
          35,
          36,
          36,
          36,
          36,
          36,
          36,
          40,
          42,
          45,
          45,
          45,
          45,
          48,
          49,
          49,
          50,
          50,
          51,
          52,
          54,
          54,
          55,
          56,
          56,
          56,
          56,
          60,
          60,
          63,
          63,
          64,
          64,
          64,
          65,
          65,
          70,
          72,
          75,
          75,
          76,
          77,
          78,
          80,
          81,
          81,
          81,
          81,
          81,
          81,
          81,
          81,
          81,
          87,
          88,
          90,
          90,
          90,
          91,
          91,
          96,
          96,
          98,
          99,
          99,
          99,
          99,
          100,
          100,
          100,
          100,
          100,
          100,
          100,
          100,
          105,
          105,
          108,
          108,
          110,
          110,
          117,
          119,
          120,
          120,
          120,
          121,
          121,
          121,
          121,
          121,
          126,
          130,
          130,
          132,
          132,
          136,
          140,
          143,
          144,
          144,
          144,
          144,
          150,
          150,
          152,
          153,
          154,
          154,
          156,
          156,
          156,
          160,
          160,
          168,
          169,
          169,
          169,
          169,
          169,
          169,
          169,
          169,
          170,
          176,
          180,
          182,
          187,
          190,
          192,
          195,
          195,
          195,
          195,
          196,
          196,
          196,
          196,
          198,
          200,
          204,
          208,
          210,
          210,
          210,
          216,
          221,
          221,
          221,
          221,
          221,
          224,
          224,
          225,
          225,
          225,
          225,
          225,
          228,
          234,
          238,
          240,
          240,
          242,
          247,
          247,
          247,
          250,
          252,
          252,
          256,
          256,
          256,
          256,
          264,
          270,
          270,
          272,
          285,
          286,
          288,
          288,
          289,
          289,
          289,
          299,
          306,
          306,
          306,
          312,
          320,
          323,
          324,
          336,
          342,
          342,
          352,
          360,
          361,
          361,
          374,
          378,
          378,
          380,
          391,
          391,
          396,
          396,
          399,
          400,
          400,
          400,
          400,
          414,
          418,
          425,
          437,
          437,
          440,
          441,
          441,
          441,
          441,
          456,
          460,
          468,
          480,
          483,
          483,
          484,
          484,
          506,
          510,
          525,
          529,
          529,
          529,
          529,
          529,
          532,
          550,
          567,
          575,
          575,
          576,
          576,
          576,
          576,
          576,
          600,
          621,
          621,
          624,
          625,
          625,
          644,
          667,
          672,
          729,
          754,
          784,
          810,
          841,
          841,
          900,
          900,
          900,
          900,
          900
         ],
         "y": [
          16,
          36,
          100,
          18,
          36,
          32,
          1,
          2,
          3,
          9,
          15,
          18,
          25,
          36,
          81,
          144,
          225,
          12,
          24,
          48,
          169,
          15,
          16,
          64,
          80,
          256,
          9,
          18,
          27,
          81,
          20,
          9,
          24,
          56,
          1,
          4,
          9,
          25,
          100,
          9,
          21,
          27,
          12,
          15,
          30,
          60,
          16,
          32,
          33,
          9,
          15,
          35,
          4,
          9,
          16,
          25,
          36,
          144,
          40,
          42,
          1,
          9,
          20,
          45,
          24,
          9,
          49,
          50,
          100,
          153,
          24,
          24,
          54,
          55,
          9,
          16,
          28,
          56,
          60,
          100,
          63,
          225,
          16,
          18,
          64,
          30,
          65,
          70,
          18,
          25,
          75,
          16,
          77,
          324,
          80,
          4,
          5,
          9,
          16,
          18,
          25,
          36,
          48,
          81,
          87,
          88,
          20,
          40,
          90,
          12,
          91,
          1,
          96,
          98,
          20,
          22,
          63,
          99,
          4,
          8,
          9,
          15,
          20,
          25,
          100,
          400,
          49,
          105,
          32,
          108,
          25,
          110,
          117,
          119,
          16,
          60,
          120,
          4,
          9,
          55,
          100,
          121,
          126,
          12,
          130,
          25,
          132,
          136,
          140,
          33,
          3,
          4,
          16,
          144,
          32,
          150,
          152,
          153,
          25,
          27,
          16,
          36,
          156,
          16,
          160,
          168,
          3,
          9,
          16,
          36,
          48,
          49,
          64,
          169,
          170,
          176,
          180,
          182,
          187,
          6,
          192,
          1,
          4,
          39,
          195,
          9,
          81,
          100,
          196,
          198,
          200,
          204,
          208,
          48,
          100,
          210,
          216,
          1,
          20,
          27,
          49,
          221,
          3,
          224,
          8,
          9,
          18,
          135,
          225,
          228,
          234,
          238,
          36,
          240,
          242,
          9,
          42,
          247,
          250,
          25,
          252,
          9,
          16,
          25,
          256,
          264,
          36,
          270,
          9,
          285,
          286,
          81,
          288,
          25,
          126,
          289,
          299,
          32,
          128,
          306,
          312,
          320,
          323,
          324,
          20,
          20,
          342,
          352,
          88,
          16,
          361,
          374,
          25,
          64,
          380,
          42,
          391,
          132,
          396,
          399,
          4,
          9,
          30,
          400,
          414,
          418,
          425,
          90,
          437,
          440,
          9,
          12,
          100,
          441,
          153,
          81,
          468,
          9,
          48,
          483,
          180,
          484,
          506,
          255,
          525,
          16,
          25,
          49,
          56,
          529,
          532,
          550,
          9,
          21,
          575,
          9,
          25,
          40,
          49,
          576,
          600,
          25,
          621,
          1,
          24,
          625,
          644,
          25,
          672,
          729,
          754,
          784,
          810,
          9,
          841,
          9,
          15,
          16,
          48,
          900
         ]
        }
       ],
       "layout": {
        "autosize": false,
        "dragmode": "zoom",
        "height": 500,
        "template": {
         "data": {
          "bar": [
           {
            "error_x": {
             "color": "#2a3f5f"
            },
            "error_y": {
             "color": "#2a3f5f"
            },
            "marker": {
             "line": {
              "color": "#E5ECF6",
              "width": 0.5
             },
             "pattern": {
              "fillmode": "overlay",
              "size": 10,
              "solidity": 0.2
             }
            },
            "type": "bar"
           }
          ],
          "barpolar": [
           {
            "marker": {
             "line": {
              "color": "#E5ECF6",
              "width": 0.5
             },
             "pattern": {
              "fillmode": "overlay",
              "size": 10,
              "solidity": 0.2
             }
            },
            "type": "barpolar"
           }
          ],
          "carpet": [
           {
            "aaxis": {
             "endlinecolor": "#2a3f5f",
             "gridcolor": "white",
             "linecolor": "white",
             "minorgridcolor": "white",
             "startlinecolor": "#2a3f5f"
            },
            "baxis": {
             "endlinecolor": "#2a3f5f",
             "gridcolor": "white",
             "linecolor": "white",
             "minorgridcolor": "white",
             "startlinecolor": "#2a3f5f"
            },
            "type": "carpet"
           }
          ],
          "choropleth": [
           {
            "colorbar": {
             "outlinewidth": 0,
             "ticks": ""
            },
            "type": "choropleth"
           }
          ],
          "contour": [
           {
            "colorbar": {
             "outlinewidth": 0,
             "ticks": ""
            },
            "colorscale": [
             [
              0,
              "#0d0887"
             ],
             [
              0.1111111111111111,
              "#46039f"
             ],
             [
              0.2222222222222222,
              "#7201a8"
             ],
             [
              0.3333333333333333,
              "#9c179e"
             ],
             [
              0.4444444444444444,
              "#bd3786"
             ],
             [
              0.5555555555555556,
              "#d8576b"
             ],
             [
              0.6666666666666666,
              "#ed7953"
             ],
             [
              0.7777777777777778,
              "#fb9f3a"
             ],
             [
              0.8888888888888888,
              "#fdca26"
             ],
             [
              1,
              "#f0f921"
             ]
            ],
            "type": "contour"
           }
          ],
          "contourcarpet": [
           {
            "colorbar": {
             "outlinewidth": 0,
             "ticks": ""
            },
            "type": "contourcarpet"
           }
          ],
          "heatmap": [
           {
            "colorbar": {
             "outlinewidth": 0,
             "ticks": ""
            },
            "colorscale": [
             [
              0,
              "#0d0887"
             ],
             [
              0.1111111111111111,
              "#46039f"
             ],
             [
              0.2222222222222222,
              "#7201a8"
             ],
             [
              0.3333333333333333,
              "#9c179e"
             ],
             [
              0.4444444444444444,
              "#bd3786"
             ],
             [
              0.5555555555555556,
              "#d8576b"
             ],
             [
              0.6666666666666666,
              "#ed7953"
             ],
             [
              0.7777777777777778,
              "#fb9f3a"
             ],
             [
              0.8888888888888888,
              "#fdca26"
             ],
             [
              1,
              "#f0f921"
             ]
            ],
            "type": "heatmap"
           }
          ],
          "heatmapgl": [
           {
            "colorbar": {
             "outlinewidth": 0,
             "ticks": ""
            },
            "colorscale": [
             [
              0,
              "#0d0887"
             ],
             [
              0.1111111111111111,
              "#46039f"
             ],
             [
              0.2222222222222222,
              "#7201a8"
             ],
             [
              0.3333333333333333,
              "#9c179e"
             ],
             [
              0.4444444444444444,
              "#bd3786"
             ],
             [
              0.5555555555555556,
              "#d8576b"
             ],
             [
              0.6666666666666666,
              "#ed7953"
             ],
             [
              0.7777777777777778,
              "#fb9f3a"
             ],
             [
              0.8888888888888888,
              "#fdca26"
             ],
             [
              1,
              "#f0f921"
             ]
            ],
            "type": "heatmapgl"
           }
          ],
          "histogram": [
           {
            "marker": {
             "pattern": {
              "fillmode": "overlay",
              "size": 10,
              "solidity": 0.2
             }
            },
            "type": "histogram"
           }
          ],
          "histogram2d": [
           {
            "colorbar": {
             "outlinewidth": 0,
             "ticks": ""
            },
            "colorscale": [
             [
              0,
              "#0d0887"
             ],
             [
              0.1111111111111111,
              "#46039f"
             ],
             [
              0.2222222222222222,
              "#7201a8"
             ],
             [
              0.3333333333333333,
              "#9c179e"
             ],
             [
              0.4444444444444444,
              "#bd3786"
             ],
             [
              0.5555555555555556,
              "#d8576b"
             ],
             [
              0.6666666666666666,
              "#ed7953"
             ],
             [
              0.7777777777777778,
              "#fb9f3a"
             ],
             [
              0.8888888888888888,
              "#fdca26"
             ],
             [
              1,
              "#f0f921"
             ]
            ],
            "type": "histogram2d"
           }
          ],
          "histogram2dcontour": [
           {
            "colorbar": {
             "outlinewidth": 0,
             "ticks": ""
            },
            "colorscale": [
             [
              0,
              "#0d0887"
             ],
             [
              0.1111111111111111,
              "#46039f"
             ],
             [
              0.2222222222222222,
              "#7201a8"
             ],
             [
              0.3333333333333333,
              "#9c179e"
             ],
             [
              0.4444444444444444,
              "#bd3786"
             ],
             [
              0.5555555555555556,
              "#d8576b"
             ],
             [
              0.6666666666666666,
              "#ed7953"
             ],
             [
              0.7777777777777778,
              "#fb9f3a"
             ],
             [
              0.8888888888888888,
              "#fdca26"
             ],
             [
              1,
              "#f0f921"
             ]
            ],
            "type": "histogram2dcontour"
           }
          ],
          "mesh3d": [
           {
            "colorbar": {
             "outlinewidth": 0,
             "ticks": ""
            },
            "type": "mesh3d"
           }
          ],
          "parcoords": [
           {
            "line": {
             "colorbar": {
              "outlinewidth": 0,
              "ticks": ""
             }
            },
            "type": "parcoords"
           }
          ],
          "pie": [
           {
            "automargin": true,
            "type": "pie"
           }
          ],
          "scatter": [
           {
            "fillpattern": {
             "fillmode": "overlay",
             "size": 10,
             "solidity": 0.2
            },
            "type": "scatter"
           }
          ],
          "scatter3d": [
           {
            "line": {
             "colorbar": {
              "outlinewidth": 0,
              "ticks": ""
             }
            },
            "marker": {
             "colorbar": {
              "outlinewidth": 0,
              "ticks": ""
             }
            },
            "type": "scatter3d"
           }
          ],
          "scattercarpet": [
           {
            "marker": {
             "colorbar": {
              "outlinewidth": 0,
              "ticks": ""
             }
            },
            "type": "scattercarpet"
           }
          ],
          "scattergeo": [
           {
            "marker": {
             "colorbar": {
              "outlinewidth": 0,
              "ticks": ""
             }
            },
            "type": "scattergeo"
           }
          ],
          "scattergl": [
           {
            "marker": {
             "colorbar": {
              "outlinewidth": 0,
              "ticks": ""
             }
            },
            "type": "scattergl"
           }
          ],
          "scattermapbox": [
           {
            "marker": {
             "colorbar": {
              "outlinewidth": 0,
              "ticks": ""
             }
            },
            "type": "scattermapbox"
           }
          ],
          "scatterpolar": [
           {
            "marker": {
             "colorbar": {
              "outlinewidth": 0,
              "ticks": ""
             }
            },
            "type": "scatterpolar"
           }
          ],
          "scatterpolargl": [
           {
            "marker": {
             "colorbar": {
              "outlinewidth": 0,
              "ticks": ""
             }
            },
            "type": "scatterpolargl"
           }
          ],
          "scatterternary": [
           {
            "marker": {
             "colorbar": {
              "outlinewidth": 0,
              "ticks": ""
             }
            },
            "type": "scatterternary"
           }
          ],
          "surface": [
           {
            "colorbar": {
             "outlinewidth": 0,
             "ticks": ""
            },
            "colorscale": [
             [
              0,
              "#0d0887"
             ],
             [
              0.1111111111111111,
              "#46039f"
             ],
             [
              0.2222222222222222,
              "#7201a8"
             ],
             [
              0.3333333333333333,
              "#9c179e"
             ],
             [
              0.4444444444444444,
              "#bd3786"
             ],
             [
              0.5555555555555556,
              "#d8576b"
             ],
             [
              0.6666666666666666,
              "#ed7953"
             ],
             [
              0.7777777777777778,
              "#fb9f3a"
             ],
             [
              0.8888888888888888,
              "#fdca26"
             ],
             [
              1,
              "#f0f921"
             ]
            ],
            "type": "surface"
           }
          ],
          "table": [
           {
            "cells": {
             "fill": {
              "color": "#EBF0F8"
             },
             "line": {
              "color": "white"
             }
            },
            "header": {
             "fill": {
              "color": "#C8D4E3"
             },
             "line": {
              "color": "white"
             }
            },
            "type": "table"
           }
          ]
         },
         "layout": {
          "annotationdefaults": {
           "arrowcolor": "#2a3f5f",
           "arrowhead": 0,
           "arrowwidth": 1
          },
          "autotypenumbers": "strict",
          "coloraxis": {
           "colorbar": {
            "outlinewidth": 0,
            "ticks": ""
           }
          },
          "colorscale": {
           "diverging": [
            [
             0,
             "#8e0152"
            ],
            [
             0.1,
             "#c51b7d"
            ],
            [
             0.2,
             "#de77ae"
            ],
            [
             0.3,
             "#f1b6da"
            ],
            [
             0.4,
             "#fde0ef"
            ],
            [
             0.5,
             "#f7f7f7"
            ],
            [
             0.6,
             "#e6f5d0"
            ],
            [
             0.7,
             "#b8e186"
            ],
            [
             0.8,
             "#7fbc41"
            ],
            [
             0.9,
             "#4d9221"
            ],
            [
             1,
             "#276419"
            ]
           ],
           "sequential": [
            [
             0,
             "#0d0887"
            ],
            [
             0.1111111111111111,
             "#46039f"
            ],
            [
             0.2222222222222222,
             "#7201a8"
            ],
            [
             0.3333333333333333,
             "#9c179e"
            ],
            [
             0.4444444444444444,
             "#bd3786"
            ],
            [
             0.5555555555555556,
             "#d8576b"
            ],
            [
             0.6666666666666666,
             "#ed7953"
            ],
            [
             0.7777777777777778,
             "#fb9f3a"
            ],
            [
             0.8888888888888888,
             "#fdca26"
            ],
            [
             1,
             "#f0f921"
            ]
           ],
           "sequentialminus": [
            [
             0,
             "#0d0887"
            ],
            [
             0.1111111111111111,
             "#46039f"
            ],
            [
             0.2222222222222222,
             "#7201a8"
            ],
            [
             0.3333333333333333,
             "#9c179e"
            ],
            [
             0.4444444444444444,
             "#bd3786"
            ],
            [
             0.5555555555555556,
             "#d8576b"
            ],
            [
             0.6666666666666666,
             "#ed7953"
            ],
            [
             0.7777777777777778,
             "#fb9f3a"
            ],
            [
             0.8888888888888888,
             "#fdca26"
            ],
            [
             1,
             "#f0f921"
            ]
           ]
          },
          "colorway": [
           "#636efa",
           "#EF553B",
           "#00cc96",
           "#ab63fa",
           "#FFA15A",
           "#19d3f3",
           "#FF6692",
           "#B6E880",
           "#FF97FF",
           "#FECB52"
          ],
          "font": {
           "color": "#2a3f5f"
          },
          "geo": {
           "bgcolor": "white",
           "lakecolor": "white",
           "landcolor": "#E5ECF6",
           "showlakes": true,
           "showland": true,
           "subunitcolor": "white"
          },
          "hoverlabel": {
           "align": "left"
          },
          "hovermode": "closest",
          "mapbox": {
           "style": "light"
          },
          "paper_bgcolor": "white",
          "plot_bgcolor": "#E5ECF6",
          "polar": {
           "angularaxis": {
            "gridcolor": "white",
            "linecolor": "white",
            "ticks": ""
           },
           "bgcolor": "#E5ECF6",
           "radialaxis": {
            "gridcolor": "white",
            "linecolor": "white",
            "ticks": ""
           }
          },
          "scene": {
           "xaxis": {
            "backgroundcolor": "#E5ECF6",
            "gridcolor": "white",
            "gridwidth": 2,
            "linecolor": "white",
            "showbackground": true,
            "ticks": "",
            "zerolinecolor": "white"
           },
           "yaxis": {
            "backgroundcolor": "#E5ECF6",
            "gridcolor": "white",
            "gridwidth": 2,
            "linecolor": "white",
            "showbackground": true,
            "ticks": "",
            "zerolinecolor": "white"
           },
           "zaxis": {
            "backgroundcolor": "#E5ECF6",
            "gridcolor": "white",
            "gridwidth": 2,
            "linecolor": "white",
            "showbackground": true,
            "ticks": "",
            "zerolinecolor": "white"
           }
          },
          "shapedefaults": {
           "line": {
            "color": "#2a3f5f"
           }
          },
          "ternary": {
           "aaxis": {
            "gridcolor": "white",
            "linecolor": "white",
            "ticks": ""
           },
           "baxis": {
            "gridcolor": "white",
            "linecolor": "white",
            "ticks": ""
           },
           "bgcolor": "#E5ECF6",
           "caxis": {
            "gridcolor": "white",
            "linecolor": "white",
            "ticks": ""
           }
          },
          "title": {
           "x": 0.05
          },
          "xaxis": {
           "automargin": true,
           "gridcolor": "white",
           "linecolor": "white",
           "ticks": "",
           "title": {
            "standoff": 15
           },
           "zerolinecolor": "white",
           "zerolinewidth": 2
          },
          "yaxis": {
           "automargin": true,
           "gridcolor": "white",
           "linecolor": "white",
           "ticks": "",
           "title": {
            "standoff": 15
           },
           "zerolinecolor": "white",
           "zerolinewidth": 2
          }
         }
        },
        "width": 690,
        "xaxis": {
         "range": [
          0.25,
          3.3
         ],
         "title": {
          "text": "size-in"
         },
         "type": "log"
        },
        "yaxis": {
         "range": [
          0.25,
          3.3
         ],
         "title": {
          "text": "size-out"
         },
         "type": "log"
        }
       }
      },
      "image/png": "[encoded data removed]",
      "text/html": [
       "<div>                            <div id=\"7e78fad8-3bcf-411b-aeee-ad4e141cf0dd\" class=\"plotly-graph-div\" style=\"height:500px; width:690px;\"></div>            <script type=\"text/javascript\">                require([\"plotly\"], function(Plotly) {                    window.PLOTLYENV=window.PLOTLYENV || {};                                    if (document.getElementById(\"7e78fad8-3bcf-411b-aeee-ad4e141cf0dd\")) {                    Plotly.newPlot(                        \"7e78fad8-3bcf-411b-aeee-ad4e141cf0dd\",                        [{\"fill\":\"toself\",\"marker\":{\"color\":\"rgba(64, 0, 0, .1)\"},\"mode\":\"lines\",\"name\":\"Extraction\",\"x\":[3,333,3,3],\"y\":[4,444,444,4],\"type\":\"scatter\"},{\"fill\":\"toself\",\"marker\":{\"color\":\"rgba(0, 16, 0, .1)\"},\"mode\":\"lines\",\"name\":\"Expansion\",\"x\":[3,999,999,3],\"y\":[2,666,2,2],\"type\":\"scatter\"},{\"mode\":\"text\",\"text\":[\"\\u003cb\\u003eExtraction\\u003c\\u002fb\\u003e\",\"\\u003cb\\u003eExpansion\\u003c\\u002fb\\u003e\"],\"textfont\":{\"color\":\"yellow\"},\"x\":[7,500],\"y\":[350,2.5],\"type\":\"scatter\"},{\"marker\":{\"color\":[\"red\",\"red\",\"red\",\"red\",\"red\",\"red\",\"green\",\"green\",\"green\",\"darkslategray\",\"red\",\"red\",\"red\",\"red\",\"red\",\"red\",\"red\",\"darkslategray\",\"red\",\"red\",\"red\",\"darkslategray\",\"darkslategray\",\"red\",\"red\",\"red\",\"green\",\"darkslategray\",\"red\",\"red\",\"darkslategray\",\"green\",\"darkslategray\",\"red\",\"green\",\"green\",\"green\",\"darkslategray\",\"red\",\"green\",\"green\",\"darkslategray\",\"green\",\"green\",\"darkslategray\",\"red\",\"green\",\"darkslategray\",\"darkslategray\",\"green\",\"green\",\"darkslategray\",\"green\",\"green\",\"green\",\"green\",\"darkslategray\",\"red\",\"darkslategray\",\"darkslategray\",\"green\",\"green\",\"green\",\"darkslategray\",\"green\",\"green\",\"darkslategray\",\"darkslategray\",\"red\",\"red\",\"green\",\"green\",\"darkslategray\",\"darkslategray\",\"green\",\"green\",\"green\",\"darkslategray\",\"darkslategray\",\"red\",\"darkslategray\",\"red\",\"green\",\"green\",\"darkslategray\",\"green\",\"darkslategray\",\"darkslategray\",\"green\",\"green\",\"darkslategray\",\"green\",\"darkslategray\",\"red\",\"darkslategray\",\"green\",\"green\",\"green\",\"green\",\"green\",\"green\",\"green\",\"green\",\"darkslategray\",\"darkslategray\",\"darkslategray\",\"green\",\"green\",\"darkslategray\",\"green\",\"darkslategray\",\"green\",\"darkslategray\",\"darkslategray\",\"green\",\"green\",\"green\",\"darkslategray\",\"green\",\"green\",\"green\",\"green\",\"green\",\"green\",\"darkslategray\",\"red\",\"green\",\"darkslategray\",\"green\",\"darkslategray\",\"green\",\"darkslategray\",\"darkslategray\",\"darkslategray\",\"green\",\"green\",\"darkslategray\",\"green\",\"green\",\"green\",\"green\",\"darkslategray\",\"darkslategray\",\"green\",\"darkslategray\",\"green\",\"darkslategray\",\"darkslategray\",\"darkslategray\",\"green\",\"green\",\"green\",\"green\",\"darkslategray\",\"green\",\"darkslategray\",\"darkslategray\",\"darkslategray\",\"green\",\"green\",\"green\",\"green\",\"darkslategray\",\"green\",\"darkslategray\",\"darkslategray\",\"green\",\"green\",\"green\",\"green\",\"green\",\"green\",\"green\",\"darkslategray\",\"darkslategray\",\"darkslategray\",\"darkslategray\",\"darkslategray\",\"darkslategray\",\"green\",\"darkslategray\",\"green\",\"green\",\"green\",\"darkslategray\",\"green\",\"green\",\"green\",\"darkslategray\",\"darkslategray\",\"darkslategray\",\"darkslategray\",\"darkslategray\",\"green\",\"green\",\"darkslategray\",\"darkslategray\",\"green\",\"green\",\"green\",\"green\",\"darkslategray\",\"green\",\"darkslategray\",\"green\",\"green\",\"green\",\"green\",\"darkslategray\",\"darkslategray\",\"darkslategray\",\"darkslategray\",\"green\",\"darkslategray\",\"darkslategray\",\"green\",\"green\",\"darkslategray\",\"darkslategray\",\"green\",\"darkslategray\",\"green\",\"green\",\"green\",\"darkslategray\",\"darkslategray\",\"green\",\"darkslategray\",\"green\",\"darkslategray\",\"darkslategray\",\"green\",\"darkslategray\",\"green\",\"green\",\"darkslategray\",\"darkslategray\",\"green\",\"green\",\"darkslategray\",\"darkslategray\",\"darkslategray\",\"darkslategray\",\"darkslategray\",\"green\",\"green\",\"darkslategray\",\"darkslategray\",\"green\",\"green\",\"darkslategray\",\"darkslategray\",\"green\",\"green\",\"darkslategray\",\"green\",\"darkslategray\",\"green\",\"darkslategray\",\"darkslategray\",\"green\",\"green\",\"green\",\"darkslategray\",\"darkslategray\",\"darkslategray\",\"darkslategray\",\"green\",\"darkslategray\",\"darkslategray\",\"green\",\"green\",\"green\",\"darkslategray\",\"green\",\"green\",\"darkslategray\",\"green\",\"green\",\"darkslategray\",\"green\",\"darkslategray\",\"darkslategray\",\"green\",\"darkslategray\",\"green\",\"green\",\"green\",\"green\",\"darkslategray\",\"darkslategray\",\"darkslategray\",\"green\",\"green\",\"darkslategray\",\"green\",\"green\",\"green\",\"green\",\"darkslategray\",\"darkslategray\",\"green\",\"darkslategray\",\"green\",\"green\",\"darkslategray\",\"darkslategray\",\"green\",\"darkslategray\",\"darkslategray\",\"darkslategray\",\"darkslategray\",\"darkslategray\",\"green\",\"darkslategray\",\"green\",\"green\",\"green\",\"green\",\"darkslategray\"],\"size\":[3.566165626622601,3.566165626622601,2.25,2.25,2.25,2.25,3.566165626622601,2.25,2.25,11.040503840119166,2.25,5.816165626622601,2.25,9.0,9.196791392813264,2.25,3.566165626622601,3.566165626622601,2.25,3.566165626622601,2.25,2.25,5.816165626622601,2.25,2.25,2.25,3.566165626622601,2.25,2.25,2.25,3.566165626622601,3.566165626622601,2.25,2.25,2.25,5.224338213496565,4.5,7.474338213496565,5.224338213496565,4.5,3.566165626622601,2.25,2.25,2.25,5.816165626622601,2.25,4.5,2.25,3.566165626622601,3.566165626622601,2.25,4.5,2.25,5.224338213496565,5.224338213496565,2.25,8.0661656266226,3.566165626622601,2.25,3.566165626622601,2.25,2.25,3.566165626622601,2.25,2.25,5.224338213496565,7.783721141933919,2.25,2.25,2.25,2.25,2.25,2.25,2.25,2.25,2.25,2.25,2.25,4.5,2.25,4.5,2.25,3.566165626622601,2.25,6.31654857462961,3.566165626622601,2.25,2.25,2.25,2.25,3.566165626622601,2.25,3.566165626622601,2.25,4.5,2.25,2.25,4.5,2.25,2.25,2.25,2.25,2.25,9.0,2.25,2.25,2.25,2.25,4.5,2.25,3.566165626622601,2.25,2.25,2.25,2.25,2.25,2.25,4.5,2.25,2.25,5.816165626622601,2.25,2.25,2.25,14.782175118744632,2.25,2.25,2.25,2.25,3.566165626622601,2.25,3.566165626622601,3.566165626622601,2.25,2.25,2.25,6.31654857462961,2.25,3.566165626622601,2.25,2.25,7.783721141933919,3.566165626622601,3.566165626622601,4.5,2.25,3.566165626622601,2.25,5.224338213496565,2.25,2.25,2.25,2.25,8.790503840119166,2.25,5.816165626622601,2.25,2.25,2.25,2.25,2.25,2.25,5.816165626622601,2.25,2.25,4.5,2.25,2.25,2.25,2.25,2.25,2.25,2.25,9.724338213496566,2.25,3.566165626622601,2.25,4.5,2.25,2.25,3.566165626622601,2.25,3.566165626622601,2.25,2.25,2.25,2.25,2.25,6.31654857462961,2.25,2.25,2.25,3.566165626622601,2.25,2.25,2.25,2.25,2.25,2.25,2.25,3.566165626622601,3.566165626622601,2.25,2.25,2.25,3.566165626622601,2.25,2.25,10.575989365817456,6.31654857462961,2.25,2.25,2.25,4.5,2.25,2.25,2.25,6.75,2.25,2.25,2.25,3.566165626622601,4.5,2.25,7.783721141933919,3.566165626622601,2.25,2.25,2.25,4.5,2.25,2.25,2.25,2.25,2.25,5.224338213496565,2.25,2.25,2.25,4.5,2.25,2.25,5.816165626622601,3.566165626622601,2.25,2.25,5.224338213496565,3.566165626622601,2.25,2.25,7.132331253245202,2.25,2.25,2.25,2.25,2.25,2.25,2.25,2.25,2.25,2.25,2.25,2.25,8.566548574629609,2.25,2.25,2.25,2.25,2.25,2.25,2.25,2.25,2.25,6.75,2.25,2.25,2.25,2.25,2.25,3.566165626622601,2.25,5.816165626622601,2.25,2.25,2.25,2.25,2.25,2.25,2.25,7.132331253245202,2.25,2.25,2.25,2.25,2.25,2.25,2.25,2.25,2.25,4.5,4.5,2.25,3.566165626622601,2.25,2.25,3.566165626622601,4.5,2.25,2.25,3.566165626622601,2.25,2.25,2.25,2.25,3.566165626622601,2.25,2.25,2.25,2.25,9.882714201252211]},\"mode\":\"markers\",\"showlegend\":false,\"text\":[2.0,2.0,1.0,1.0,1.0,1.0,2.0,1.0,1.0,29.0,1.0,5.0,1.0,15.0,16.0,1.0,2.0,2.0,1.0,2.0,1.0,1.0,5.0,1.0,1.0,1.0,2.0,1.0,1.0,1.0,2.0,2.0,1.0,1.0,1.0,4.0,3.0,9.0,4.0,3.0,2.0,1.0,1.0,1.0,5.0,1.0,3.0,1.0,2.0,2.0,1.0,3.0,1.0,4.0,4.0,1.0,11.0,2.0,1.0,2.0,1.0,1.0,2.0,1.0,1.0,4.0,10.0,1.0,1.0,1.0,1.0,1.0,1.0,1.0,1.0,1.0,1.0,1.0,3.0,1.0,3.0,1.0,2.0,1.0,6.0,2.0,1.0,1.0,1.0,1.0,2.0,1.0,2.0,1.0,3.0,1.0,1.0,3.0,1.0,1.0,1.0,1.0,1.0,15.0,1.0,1.0,1.0,1.0,3.0,1.0,2.0,1.0,1.0,1.0,1.0,1.0,1.0,3.0,1.0,1.0,5.0,1.0,1.0,1.0,94.0,1.0,1.0,1.0,1.0,2.0,1.0,2.0,2.0,1.0,1.0,1.0,6.0,1.0,2.0,1.0,1.0,10.0,2.0,2.0,3.0,1.0,2.0,1.0,4.0,1.0,1.0,1.0,1.0,14.0,1.0,5.0,1.0,1.0,1.0,1.0,1.0,1.0,5.0,1.0,1.0,3.0,1.0,1.0,1.0,1.0,1.0,1.0,1.0,19.0,1.0,2.0,1.0,3.0,1.0,1.0,2.0,1.0,2.0,1.0,1.0,1.0,1.0,1.0,6.0,1.0,1.0,1.0,2.0,1.0,1.0,1.0,1.0,1.0,1.0,1.0,2.0,2.0,1.0,1.0,1.0,2.0,1.0,1.0,25.0,6.0,1.0,1.0,1.0,3.0,1.0,1.0,1.0,7.0,1.0,1.0,1.0,2.0,3.0,1.0,10.0,2.0,1.0,1.0,1.0,3.0,1.0,1.0,1.0,1.0,1.0,4.0,1.0,1.0,1.0,3.0,1.0,1.0,5.0,2.0,1.0,1.0,4.0,2.0,1.0,1.0,8.0,1.0,1.0,1.0,1.0,1.0,1.0,1.0,1.0,1.0,1.0,1.0,1.0,13.0,1.0,1.0,1.0,1.0,1.0,1.0,1.0,1.0,1.0,7.0,1.0,1.0,1.0,1.0,1.0,2.0,1.0,5.0,1.0,1.0,1.0,1.0,1.0,1.0,1.0,8.0,1.0,1.0,1.0,1.0,1.0,1.0,1.0,1.0,1.0,3.0,3.0,1.0,2.0,1.0,1.0,2.0,3.0,1.0,1.0,2.0,1.0,1.0,1.0,1.0,2.0,1.0,1.0,1.0,1.0,20.0],\"x\":[4,4,5,6,6,8,9,9,9,9,9,9,9,9,9,9,9,12,12,12,13,15,16,16,16,16,18,18,18,18,20,21,24,24,25,25,25,25,25,27,27,27,28,30,30,30,32,32,33,35,35,35,36,36,36,36,36,36,40,42,45,45,45,45,48,49,49,50,50,51,52,54,54,55,56,56,56,56,60,60,63,63,64,64,64,65,65,70,72,75,75,76,77,78,80,81,81,81,81,81,81,81,81,81,87,88,90,90,90,91,91,96,96,98,99,99,99,99,100,100,100,100,100,100,100,100,105,105,108,108,110,110,117,119,120,120,120,121,121,121,121,121,126,130,130,132,132,136,140,143,144,144,144,144,150,150,152,153,154,154,156,156,156,160,160,168,169,169,169,169,169,169,169,169,170,176,180,182,187,190,192,195,195,195,195,196,196,196,196,198,200,204,208,210,210,210,216,221,221,221,221,221,224,224,225,225,225,225,225,228,234,238,240,240,242,247,247,247,250,252,252,256,256,256,256,264,270,270,272,285,286,288,288,289,289,289,299,306,306,306,312,320,323,324,336,342,342,352,360,361,361,374,378,378,380,391,391,396,396,399,400,400,400,400,414,418,425,437,437,440,441,441,441,441,456,460,468,480,483,483,484,484,506,510,525,529,529,529,529,529,532,550,567,575,575,576,576,576,576,576,600,621,621,624,625,625,644,667,672,729,754,784,810,841,841,900,900,900,900,900],\"y\":[16,36,100,18,36,32,1,2,3,9,15,18,25,36,81,144,225,12,24,48,169,15,16,64,80,256,9,18,27,81,20,9,24,56,1,4,9,25,100,9,21,27,12,15,30,60,16,32,33,9,15,35,4,9,16,25,36,144,40,42,1,9,20,45,24,9,49,50,100,153,24,24,54,55,9,16,28,56,60,100,63,225,16,18,64,30,65,70,18,25,75,16,77,324,80,4,5,9,16,18,25,36,48,81,87,88,20,40,90,12,91,1,96,98,20,22,63,99,4,8,9,15,20,25,100,400,49,105,32,108,25,110,117,119,16,60,120,4,9,55,100,121,126,12,130,25,132,136,140,33,3,4,16,144,32,150,152,153,25,27,16,36,156,16,160,168,3,9,16,36,48,49,64,169,170,176,180,182,187,6,192,1,4,39,195,9,81,100,196,198,200,204,208,48,100,210,216,1,20,27,49,221,3,224,8,9,18,135,225,228,234,238,36,240,242,9,42,247,250,25,252,9,16,25,256,264,36,270,9,285,286,81,288,25,126,289,299,32,128,306,312,320,323,324,20,20,342,352,88,16,361,374,25,64,380,42,391,132,396,399,4,9,30,400,414,418,425,90,437,440,9,12,100,441,153,81,468,9,48,483,180,484,506,255,525,16,25,49,56,529,532,550,9,21,575,9,25,40,49,576,600,25,621,1,24,625,644,25,672,729,754,784,810,9,841,9,15,16,48,900],\"type\":\"scatter\"}],                        {\"template\":{\"data\":{\"histogram2dcontour\":[{\"type\":\"histogram2dcontour\",\"colorbar\":{\"outlinewidth\":0,\"ticks\":\"\"},\"colorscale\":[[0.0,\"#0d0887\"],[0.1111111111111111,\"#46039f\"],[0.2222222222222222,\"#7201a8\"],[0.3333333333333333,\"#9c179e\"],[0.4444444444444444,\"#bd3786\"],[0.5555555555555556,\"#d8576b\"],[0.6666666666666666,\"#ed7953\"],[0.7777777777777778,\"#fb9f3a\"],[0.8888888888888888,\"#fdca26\"],[1.0,\"#f0f921\"]]}],\"choropleth\":[{\"type\":\"choropleth\",\"colorbar\":{\"outlinewidth\":0,\"ticks\":\"\"}}],\"histogram2d\":[{\"type\":\"histogram2d\",\"colorbar\":{\"outlinewidth\":0,\"ticks\":\"\"},\"colorscale\":[[0.0,\"#0d0887\"],[0.1111111111111111,\"#46039f\"],[0.2222222222222222,\"#7201a8\"],[0.3333333333333333,\"#9c179e\"],[0.4444444444444444,\"#bd3786\"],[0.5555555555555556,\"#d8576b\"],[0.6666666666666666,\"#ed7953\"],[0.7777777777777778,\"#fb9f3a\"],[0.8888888888888888,\"#fdca26\"],[1.0,\"#f0f921\"]]}],\"heatmap\":[{\"type\":\"heatmap\",\"colorbar\":{\"outlinewidth\":0,\"ticks\":\"\"},\"colorscale\":[[0.0,\"#0d0887\"],[0.1111111111111111,\"#46039f\"],[0.2222222222222222,\"#7201a8\"],[0.3333333333333333,\"#9c179e\"],[0.4444444444444444,\"#bd3786\"],[0.5555555555555556,\"#d8576b\"],[0.6666666666666666,\"#ed7953\"],[0.7777777777777778,\"#fb9f3a\"],[0.8888888888888888,\"#fdca26\"],[1.0,\"#f0f921\"]]}],\"heatmapgl\":[{\"type\":\"heatmapgl\",\"colorbar\":{\"outlinewidth\":0,\"ticks\":\"\"},\"colorscale\":[[0.0,\"#0d0887\"],[0.1111111111111111,\"#46039f\"],[0.2222222222222222,\"#7201a8\"],[0.3333333333333333,\"#9c179e\"],[0.4444444444444444,\"#bd3786\"],[0.5555555555555556,\"#d8576b\"],[0.6666666666666666,\"#ed7953\"],[0.7777777777777778,\"#fb9f3a\"],[0.8888888888888888,\"#fdca26\"],[1.0,\"#f0f921\"]]}],\"contourcarpet\":[{\"type\":\"contourcarpet\",\"colorbar\":{\"outlinewidth\":0,\"ticks\":\"\"}}],\"contour\":[{\"type\":\"contour\",\"colorbar\":{\"outlinewidth\":0,\"ticks\":\"\"},\"colorscale\":[[0.0,\"#0d0887\"],[0.1111111111111111,\"#46039f\"],[0.2222222222222222,\"#7201a8\"],[0.3333333333333333,\"#9c179e\"],[0.4444444444444444,\"#bd3786\"],[0.5555555555555556,\"#d8576b\"],[0.6666666666666666,\"#ed7953\"],[0.7777777777777778,\"#fb9f3a\"],[0.8888888888888888,\"#fdca26\"],[1.0,\"#f0f921\"]]}],\"surface\":[{\"type\":\"surface\",\"colorbar\":{\"outlinewidth\":0,\"ticks\":\"\"},\"colorscale\":[[0.0,\"#0d0887\"],[0.1111111111111111,\"#46039f\"],[0.2222222222222222,\"#7201a8\"],[0.3333333333333333,\"#9c179e\"],[0.4444444444444444,\"#bd3786\"],[0.5555555555555556,\"#d8576b\"],[0.6666666666666666,\"#ed7953\"],[0.7777777777777778,\"#fb9f3a\"],[0.8888888888888888,\"#fdca26\"],[1.0,\"#f0f921\"]]}],\"mesh3d\":[{\"type\":\"mesh3d\",\"colorbar\":{\"outlinewidth\":0,\"ticks\":\"\"}}],\"scatter\":[{\"fillpattern\":{\"fillmode\":\"overlay\",\"size\":10,\"solidity\":0.2},\"type\":\"scatter\"}],\"parcoords\":[{\"type\":\"parcoords\",\"line\":{\"colorbar\":{\"outlinewidth\":0,\"ticks\":\"\"}}}],\"scatterpolargl\":[{\"type\":\"scatterpolargl\",\"marker\":{\"colorbar\":{\"outlinewidth\":0,\"ticks\":\"\"}}}],\"bar\":[{\"error_x\":{\"color\":\"#2a3f5f\"},\"error_y\":{\"color\":\"#2a3f5f\"},\"marker\":{\"line\":{\"color\":\"#E5ECF6\",\"width\":0.5},\"pattern\":{\"fillmode\":\"overlay\",\"size\":10,\"solidity\":0.2}},\"type\":\"bar\"}],\"scattergeo\":[{\"type\":\"scattergeo\",\"marker\":{\"colorbar\":{\"outlinewidth\":0,\"ticks\":\"\"}}}],\"scatterpolar\":[{\"type\":\"scatterpolar\",\"marker\":{\"colorbar\":{\"outlinewidth\":0,\"ticks\":\"\"}}}],\"histogram\":[{\"marker\":{\"pattern\":{\"fillmode\":\"overlay\",\"size\":10,\"solidity\":0.2}},\"type\":\"histogram\"}],\"scattergl\":[{\"type\":\"scattergl\",\"marker\":{\"colorbar\":{\"outlinewidth\":0,\"ticks\":\"\"}}}],\"scatter3d\":[{\"type\":\"scatter3d\",\"line\":{\"colorbar\":{\"outlinewidth\":0,\"ticks\":\"\"}},\"marker\":{\"colorbar\":{\"outlinewidth\":0,\"ticks\":\"\"}}}],\"scattermapbox\":[{\"type\":\"scattermapbox\",\"marker\":{\"colorbar\":{\"outlinewidth\":0,\"ticks\":\"\"}}}],\"scatterternary\":[{\"type\":\"scatterternary\",\"marker\":{\"colorbar\":{\"outlinewidth\":0,\"ticks\":\"\"}}}],\"scattercarpet\":[{\"type\":\"scattercarpet\",\"marker\":{\"colorbar\":{\"outlinewidth\":0,\"ticks\":\"\"}}}],\"carpet\":[{\"aaxis\":{\"endlinecolor\":\"#2a3f5f\",\"gridcolor\":\"white\",\"linecolor\":\"white\",\"minorgridcolor\":\"white\",\"startlinecolor\":\"#2a3f5f\"},\"baxis\":{\"endlinecolor\":\"#2a3f5f\",\"gridcolor\":\"white\",\"linecolor\":\"white\",\"minorgridcolor\":\"white\",\"startlinecolor\":\"#2a3f5f\"},\"type\":\"carpet\"}],\"table\":[{\"cells\":{\"fill\":{\"color\":\"#EBF0F8\"},\"line\":{\"color\":\"white\"}},\"header\":{\"fill\":{\"color\":\"#C8D4E3\"},\"line\":{\"color\":\"white\"}},\"type\":\"table\"}],\"barpolar\":[{\"marker\":{\"line\":{\"color\":\"#E5ECF6\",\"width\":0.5},\"pattern\":{\"fillmode\":\"overlay\",\"size\":10,\"solidity\":0.2}},\"type\":\"barpolar\"}],\"pie\":[{\"automargin\":true,\"type\":\"pie\"}]},\"layout\":{\"autotypenumbers\":\"strict\",\"colorway\":[\"#636efa\",\"#EF553B\",\"#00cc96\",\"#ab63fa\",\"#FFA15A\",\"#19d3f3\",\"#FF6692\",\"#B6E880\",\"#FF97FF\",\"#FECB52\"],\"font\":{\"color\":\"#2a3f5f\"},\"hovermode\":\"closest\",\"hoverlabel\":{\"align\":\"left\"},\"paper_bgcolor\":\"white\",\"plot_bgcolor\":\"#E5ECF6\",\"polar\":{\"bgcolor\":\"#E5ECF6\",\"angularaxis\":{\"gridcolor\":\"white\",\"linecolor\":\"white\",\"ticks\":\"\"},\"radialaxis\":{\"gridcolor\":\"white\",\"linecolor\":\"white\",\"ticks\":\"\"}},\"ternary\":{\"bgcolor\":\"#E5ECF6\",\"aaxis\":{\"gridcolor\":\"white\",\"linecolor\":\"white\",\"ticks\":\"\"},\"baxis\":{\"gridcolor\":\"white\",\"linecolor\":\"white\",\"ticks\":\"\"},\"caxis\":{\"gridcolor\":\"white\",\"linecolor\":\"white\",\"ticks\":\"\"}},\"coloraxis\":{\"colorbar\":{\"outlinewidth\":0,\"ticks\":\"\"}},\"colorscale\":{\"sequential\":[[0.0,\"#0d0887\"],[0.1111111111111111,\"#46039f\"],[0.2222222222222222,\"#7201a8\"],[0.3333333333333333,\"#9c179e\"],[0.4444444444444444,\"#bd3786\"],[0.5555555555555556,\"#d8576b\"],[0.6666666666666666,\"#ed7953\"],[0.7777777777777778,\"#fb9f3a\"],[0.8888888888888888,\"#fdca26\"],[1.0,\"#f0f921\"]],\"sequentialminus\":[[0.0,\"#0d0887\"],[0.1111111111111111,\"#46039f\"],[0.2222222222222222,\"#7201a8\"],[0.3333333333333333,\"#9c179e\"],[0.4444444444444444,\"#bd3786\"],[0.5555555555555556,\"#d8576b\"],[0.6666666666666666,\"#ed7953\"],[0.7777777777777778,\"#fb9f3a\"],[0.8888888888888888,\"#fdca26\"],[1.0,\"#f0f921\"]],\"diverging\":[[0,\"#8e0152\"],[0.1,\"#c51b7d\"],[0.2,\"#de77ae\"],[0.3,\"#f1b6da\"],[0.4,\"#fde0ef\"],[0.5,\"#f7f7f7\"],[0.6,\"#e6f5d0\"],[0.7,\"#b8e186\"],[0.8,\"#7fbc41\"],[0.9,\"#4d9221\"],[1,\"#276419\"]]},\"xaxis\":{\"gridcolor\":\"white\",\"linecolor\":\"white\",\"ticks\":\"\",\"title\":{\"standoff\":15},\"zerolinecolor\":\"white\",\"automargin\":true,\"zerolinewidth\":2},\"yaxis\":{\"gridcolor\":\"white\",\"linecolor\":\"white\",\"ticks\":\"\",\"title\":{\"standoff\":15},\"zerolinecolor\":\"white\",\"automargin\":true,\"zerolinewidth\":2},\"scene\":{\"xaxis\":{\"backgroundcolor\":\"#E5ECF6\",\"gridcolor\":\"white\",\"linecolor\":\"white\",\"showbackground\":true,\"ticks\":\"\",\"zerolinecolor\":\"white\",\"gridwidth\":2},\"yaxis\":{\"backgroundcolor\":\"#E5ECF6\",\"gridcolor\":\"white\",\"linecolor\":\"white\",\"showbackground\":true,\"ticks\":\"\",\"zerolinecolor\":\"white\",\"gridwidth\":2},\"zaxis\":{\"backgroundcolor\":\"#E5ECF6\",\"gridcolor\":\"white\",\"linecolor\":\"white\",\"showbackground\":true,\"ticks\":\"\",\"zerolinecolor\":\"white\",\"gridwidth\":2}},\"shapedefaults\":{\"line\":{\"color\":\"#2a3f5f\"}},\"annotationdefaults\":{\"arrowcolor\":\"#2a3f5f\",\"arrowhead\":0,\"arrowwidth\":1},\"geo\":{\"bgcolor\":\"white\",\"landcolor\":\"#E5ECF6\",\"subunitcolor\":\"white\",\"showland\":true,\"showlakes\":true,\"lakecolor\":\"white\"},\"title\":{\"x\":0.05},\"mapbox\":{\"style\":\"light\"}}},\"xaxis\":{\"title\":{\"text\":\"size-in\"},\"type\":\"log\",\"range\":[0.25,3.3]},\"yaxis\":{\"title\":{\"text\":\"size-out\"},\"type\":\"log\",\"range\":[0.25,3.3]},\"width\":690,\"height\":500,\"autosize\":false},                        {\"responsive\": true}                    ).then(function(){\n",
       "                            \n",
       "var gd = document.getElementById('7e78fad8-3bcf-411b-aeee-ad4e141cf0dd');\n",
       "var x = new MutationObserver(function (mutations, observer) {{\n",
       "        var display = window.getComputedStyle(gd).display;\n",
       "        if (!display || display === 'none') {{\n",
       "            console.log([gd, 'removed!']);\n",
       "            Plotly.purge(gd);\n",
       "            observer.disconnect();\n",
       "        }}\n",
       "}});\n",
       "\n",
       "// Listen for the removal of the full notebook cells\n",
       "var notebookContainer = gd.closest('#notebook-container');\n",
       "if (notebookContainer) {{\n",
       "    x.observe(notebookContainer, {childList: true});\n",
       "}}\n",
       "\n",
       "// Listen for the clearing of the current output cell\n",
       "var outputEl = gd.closest('.output');\n",
       "if (outputEl) {{\n",
       "    x.observe(outputEl, {childList: true});\n",
       "}}\n",
       "\n",
       "                        })                };                });            </script>        </div>"
      ]
     },
     "metadata": {},
     "output_type": "display_data"
    }
   ],
   "source": [
    "# Distribution\n",
    "GridStatsDF = GridSizeDF.groupby(['size_in','size_out']).agg({'task_id': 'count', 'comparison': 'first',})\\\n",
    "                                             .rename(columns={'task_id': 'count'}).reset_index(drop=False)\n",
    "GridStatsDF['color'] = GridStatsDF['comparison'].replace(COMP_COLORS)\n",
    "# display(GridStatsDF.T)\n",
    "\n",
    "\n",
    "def plot_distribution(fig = None):\n",
    "\n",
    "    if fig is None:\n",
    "        fig = go.Figure()\n",
    "    \n",
    "    # Add distribution\n",
    "    fig.add_trace(\n",
    "        go.Scatter(x = GridStatsDF['size_in'], \n",
    "                   y = GridStatsDF['size_out'],\n",
    "                text = GridStatsDF['count'],\n",
    "         marker_size = GridStatsDF['count'].apply(lambda x: np.log2(x+1)*2.25), \n",
    "        marker_color = GridStatsDF['color'],\n",
    "                mode = 'markers', \n",
    "          showlegend = False)\n",
    "    )\n",
    "\n",
    "    fig.update_layout(width=690, height=500, autosize=False, \n",
    "                      xaxis=dict(title=\"size-in\", type=\"log\", range=[0.25, 3.3]), \n",
    "                      yaxis=dict(title=\"size-out\", type=\"log\", range=[0.25, 3.3]))\n",
    "\n",
    "    return fig\n",
    "\n",
    "\n",
    "\"\"\"\n",
    "Grid-size\n",
    "\"\"\"\n",
    "fig = plot_distribution()\n",
    "\n",
    "fig.add_shape(type=\"rect\", x0=9, y0=9, x1=36, y1=36, line=dict(width=1, color=\"MediumSlateBlue\"))\n",
    "fig.add_shape(type=\"rect\", x0=49, y0=49, x1=121, y1=121, line=dict(width=1, color=\"RoyalBlue\"))\n",
    "fig.add_shape(type=\"rect\", x0=144, y0=144, x1=576, y1=576, line=dict(width=1, color=\"BlueViolet\"))\n",
    "fig.add_shape(type=\"rect\", x0=625, y0=625, x1=1089, y1=1089, line=dict(width=1, color=\"MidnightBlue\"))\n",
    "fig.add_trace(\n",
    "    go.Scatter(x=[20, 70, 225, 950], \n",
    "               y=[44, 144, 666, 1269],\n",
    "            text=[\"Tiny\",\"Small\",\"Medium\",\"Large\"],\n",
    "            mode=\"text\",\n",
    "))\n",
    "\n",
    "fig.show()\n",
    "\n",
    "\"\"\"\n",
    "Extraction / Expansion\n",
    "\"\"\"\n",
    "fig = go.Figure()\n",
    "fig.add_trace(go.Scatter(x=[3,333,3,3], y=[4,444,444,4], fill=\"toself\", mode='lines', marker_color='rgba(64, 0, 0, .1)', name='Extraction'))\n",
    "fig.add_trace(go.Scatter(x=[3,999,999,3], y=[2,666,2,2], fill=\"toself\", mode='lines', marker_color='rgba(0, 16, 0, .1)', name='Expansion'))\n",
    "\n",
    "fig.add_trace(go.Scatter(x=[7, 500], y=[350, 2.5], text=[\"<b>Extraction</b>\",\"<b>Expansion</b>\"], textfont=dict(color='yellow'), mode=\"text\",))\n",
    "\n",
    "fig = plot_distribution(fig)\n",
    "\n",
    "fig.show()\n"
   ]
  },
  {
   "cell_type": "code",
   "execution_count": 28,
   "metadata": {},
   "outputs": [
    {
     "data": {
      "application/vnd.plotly.v1+json": {
       "config": {
        "plotlyServerURL": "https://plot.ly"
       },
       "data": [
        {
         "marker": {
          "color": "crimson"
         },
         "type": "bar",
         "x": [
          9,
          12,
          15,
          16,
          18,
          20,
          24,
          25,
          27,
          30,
          32,
          33,
          35,
          36,
          40,
          42,
          45,
          49,
          50,
          54,
          55,
          56,
          60,
          63,
          64,
          65,
          70,
          75,
          77,
          80,
          81,
          87,
          88,
          90,
          91,
          96,
          98,
          99,
          100,
          105,
          108,
          110,
          117,
          119,
          120,
          121,
          126,
          130,
          132,
          136,
          140,
          144,
          150,
          152,
          153,
          156,
          160,
          168,
          169,
          170,
          176,
          180,
          182,
          187,
          192,
          195,
          196,
          198,
          200,
          204,
          208,
          210,
          216,
          221,
          224,
          225,
          228,
          234,
          238,
          240,
          242,
          247,
          250,
          252,
          256,
          264,
          270,
          285,
          286,
          288,
          289,
          299,
          306,
          312,
          320,
          323,
          324,
          342,
          352,
          361,
          374,
          380,
          391,
          396,
          399,
          400,
          414,
          418,
          425,
          437,
          440,
          441,
          468,
          483,
          484,
          506,
          525,
          529,
          532,
          550,
          575,
          576,
          600,
          621,
          625,
          644,
          672,
          729,
          754,
          784,
          810,
          841,
          900
         ],
         "y": [
          29,
          2,
          1,
          5,
          1,
          2,
          1,
          9,
          1,
          5,
          1,
          2,
          3,
          11,
          1,
          2,
          1,
          10,
          1,
          1,
          1,
          1,
          3,
          3,
          6,
          1,
          1,
          2,
          2,
          3,
          15,
          1,
          1,
          3,
          2,
          1,
          1,
          3,
          94,
          1,
          2,
          2,
          2,
          1,
          6,
          10,
          2,
          3,
          2,
          1,
          4,
          14,
          5,
          1,
          1,
          5,
          1,
          3,
          19,
          1,
          2,
          1,
          3,
          1,
          2,
          1,
          6,
          1,
          1,
          1,
          2,
          1,
          1,
          2,
          1,
          25,
          6,
          1,
          1,
          3,
          1,
          7,
          1,
          1,
          10,
          2,
          1,
          3,
          1,
          1,
          4,
          1,
          3,
          1,
          1,
          5,
          2,
          4,
          2,
          8,
          1,
          1,
          1,
          1,
          1,
          13,
          1,
          1,
          1,
          1,
          1,
          7,
          1,
          2,
          5,
          1,
          1,
          8,
          1,
          1,
          1,
          3,
          3,
          2,
          2,
          3,
          1,
          2,
          1,
          1,
          1,
          2,
          20
         ]
        }
       ],
       "layout": {
        "autosize": false,
        "height": 400,
        "template": {
         "data": {
          "bar": [
           {
            "error_x": {
             "color": "#2a3f5f"
            },
            "error_y": {
             "color": "#2a3f5f"
            },
            "marker": {
             "line": {
              "color": "#E5ECF6",
              "width": 0.5
             },
             "pattern": {
              "fillmode": "overlay",
              "size": 10,
              "solidity": 0.2
             }
            },
            "type": "bar"
           }
          ],
          "barpolar": [
           {
            "marker": {
             "line": {
              "color": "#E5ECF6",
              "width": 0.5
             },
             "pattern": {
              "fillmode": "overlay",
              "size": 10,
              "solidity": 0.2
             }
            },
            "type": "barpolar"
           }
          ],
          "carpet": [
           {
            "aaxis": {
             "endlinecolor": "#2a3f5f",
             "gridcolor": "white",
             "linecolor": "white",
             "minorgridcolor": "white",
             "startlinecolor": "#2a3f5f"
            },
            "baxis": {
             "endlinecolor": "#2a3f5f",
             "gridcolor": "white",
             "linecolor": "white",
             "minorgridcolor": "white",
             "startlinecolor": "#2a3f5f"
            },
            "type": "carpet"
           }
          ],
          "choropleth": [
           {
            "colorbar": {
             "outlinewidth": 0,
             "ticks": ""
            },
            "type": "choropleth"
           }
          ],
          "contour": [
           {
            "colorbar": {
             "outlinewidth": 0,
             "ticks": ""
            },
            "colorscale": [
             [
              0,
              "#0d0887"
             ],
             [
              0.1111111111111111,
              "#46039f"
             ],
             [
              0.2222222222222222,
              "#7201a8"
             ],
             [
              0.3333333333333333,
              "#9c179e"
             ],
             [
              0.4444444444444444,
              "#bd3786"
             ],
             [
              0.5555555555555556,
              "#d8576b"
             ],
             [
              0.6666666666666666,
              "#ed7953"
             ],
             [
              0.7777777777777778,
              "#fb9f3a"
             ],
             [
              0.8888888888888888,
              "#fdca26"
             ],
             [
              1,
              "#f0f921"
             ]
            ],
            "type": "contour"
           }
          ],
          "contourcarpet": [
           {
            "colorbar": {
             "outlinewidth": 0,
             "ticks": ""
            },
            "type": "contourcarpet"
           }
          ],
          "heatmap": [
           {
            "colorbar": {
             "outlinewidth": 0,
             "ticks": ""
            },
            "colorscale": [
             [
              0,
              "#0d0887"
             ],
             [
              0.1111111111111111,
              "#46039f"
             ],
             [
              0.2222222222222222,
              "#7201a8"
             ],
             [
              0.3333333333333333,
              "#9c179e"
             ],
             [
              0.4444444444444444,
              "#bd3786"
             ],
             [
              0.5555555555555556,
              "#d8576b"
             ],
             [
              0.6666666666666666,
              "#ed7953"
             ],
             [
              0.7777777777777778,
              "#fb9f3a"
             ],
             [
              0.8888888888888888,
              "#fdca26"
             ],
             [
              1,
              "#f0f921"
             ]
            ],
            "type": "heatmap"
           }
          ],
          "heatmapgl": [
           {
            "colorbar": {
             "outlinewidth": 0,
             "ticks": ""
            },
            "colorscale": [
             [
              0,
              "#0d0887"
             ],
             [
              0.1111111111111111,
              "#46039f"
             ],
             [
              0.2222222222222222,
              "#7201a8"
             ],
             [
              0.3333333333333333,
              "#9c179e"
             ],
             [
              0.4444444444444444,
              "#bd3786"
             ],
             [
              0.5555555555555556,
              "#d8576b"
             ],
             [
              0.6666666666666666,
              "#ed7953"
             ],
             [
              0.7777777777777778,
              "#fb9f3a"
             ],
             [
              0.8888888888888888,
              "#fdca26"
             ],
             [
              1,
              "#f0f921"
             ]
            ],
            "type": "heatmapgl"
           }
          ],
          "histogram": [
           {
            "marker": {
             "pattern": {
              "fillmode": "overlay",
              "size": 10,
              "solidity": 0.2
             }
            },
            "type": "histogram"
           }
          ],
          "histogram2d": [
           {
            "colorbar": {
             "outlinewidth": 0,
             "ticks": ""
            },
            "colorscale": [
             [
              0,
              "#0d0887"
             ],
             [
              0.1111111111111111,
              "#46039f"
             ],
             [
              0.2222222222222222,
              "#7201a8"
             ],
             [
              0.3333333333333333,
              "#9c179e"
             ],
             [
              0.4444444444444444,
              "#bd3786"
             ],
             [
              0.5555555555555556,
              "#d8576b"
             ],
             [
              0.6666666666666666,
              "#ed7953"
             ],
             [
              0.7777777777777778,
              "#fb9f3a"
             ],
             [
              0.8888888888888888,
              "#fdca26"
             ],
             [
              1,
              "#f0f921"
             ]
            ],
            "type": "histogram2d"
           }
          ],
          "histogram2dcontour": [
           {
            "colorbar": {
             "outlinewidth": 0,
             "ticks": ""
            },
            "colorscale": [
             [
              0,
              "#0d0887"
             ],
             [
              0.1111111111111111,
              "#46039f"
             ],
             [
              0.2222222222222222,
              "#7201a8"
             ],
             [
              0.3333333333333333,
              "#9c179e"
             ],
             [
              0.4444444444444444,
              "#bd3786"
             ],
             [
              0.5555555555555556,
              "#d8576b"
             ],
             [
              0.6666666666666666,
              "#ed7953"
             ],
             [
              0.7777777777777778,
              "#fb9f3a"
             ],
             [
              0.8888888888888888,
              "#fdca26"
             ],
             [
              1,
              "#f0f921"
             ]
            ],
            "type": "histogram2dcontour"
           }
          ],
          "mesh3d": [
           {
            "colorbar": {
             "outlinewidth": 0,
             "ticks": ""
            },
            "type": "mesh3d"
           }
          ],
          "parcoords": [
           {
            "line": {
             "colorbar": {
              "outlinewidth": 0,
              "ticks": ""
             }
            },
            "type": "parcoords"
           }
          ],
          "pie": [
           {
            "automargin": true,
            "type": "pie"
           }
          ],
          "scatter": [
           {
            "fillpattern": {
             "fillmode": "overlay",
             "size": 10,
             "solidity": 0.2
            },
            "type": "scatter"
           }
          ],
          "scatter3d": [
           {
            "line": {
             "colorbar": {
              "outlinewidth": 0,
              "ticks": ""
             }
            },
            "marker": {
             "colorbar": {
              "outlinewidth": 0,
              "ticks": ""
             }
            },
            "type": "scatter3d"
           }
          ],
          "scattercarpet": [
           {
            "marker": {
             "colorbar": {
              "outlinewidth": 0,
              "ticks": ""
             }
            },
            "type": "scattercarpet"
           }
          ],
          "scattergeo": [
           {
            "marker": {
             "colorbar": {
              "outlinewidth": 0,
              "ticks": ""
             }
            },
            "type": "scattergeo"
           }
          ],
          "scattergl": [
           {
            "marker": {
             "colorbar": {
              "outlinewidth": 0,
              "ticks": ""
             }
            },
            "type": "scattergl"
           }
          ],
          "scattermapbox": [
           {
            "marker": {
             "colorbar": {
              "outlinewidth": 0,
              "ticks": ""
             }
            },
            "type": "scattermapbox"
           }
          ],
          "scatterpolar": [
           {
            "marker": {
             "colorbar": {
              "outlinewidth": 0,
              "ticks": ""
             }
            },
            "type": "scatterpolar"
           }
          ],
          "scatterpolargl": [
           {
            "marker": {
             "colorbar": {
              "outlinewidth": 0,
              "ticks": ""
             }
            },
            "type": "scatterpolargl"
           }
          ],
          "scatterternary": [
           {
            "marker": {
             "colorbar": {
              "outlinewidth": 0,
              "ticks": ""
             }
            },
            "type": "scatterternary"
           }
          ],
          "surface": [
           {
            "colorbar": {
             "outlinewidth": 0,
             "ticks": ""
            },
            "colorscale": [
             [
              0,
              "#0d0887"
             ],
             [
              0.1111111111111111,
              "#46039f"
             ],
             [
              0.2222222222222222,
              "#7201a8"
             ],
             [
              0.3333333333333333,
              "#9c179e"
             ],
             [
              0.4444444444444444,
              "#bd3786"
             ],
             [
              0.5555555555555556,
              "#d8576b"
             ],
             [
              0.6666666666666666,
              "#ed7953"
             ],
             [
              0.7777777777777778,
              "#fb9f3a"
             ],
             [
              0.8888888888888888,
              "#fdca26"
             ],
             [
              1,
              "#f0f921"
             ]
            ],
            "type": "surface"
           }
          ],
          "table": [
           {
            "cells": {
             "fill": {
              "color": "#EBF0F8"
             },
             "line": {
              "color": "white"
             }
            },
            "header": {
             "fill": {
              "color": "#C8D4E3"
             },
             "line": {
              "color": "white"
             }
            },
            "type": "table"
           }
          ]
         },
         "layout": {
          "annotationdefaults": {
           "arrowcolor": "#2a3f5f",
           "arrowhead": 0,
           "arrowwidth": 1
          },
          "autotypenumbers": "strict",
          "coloraxis": {
           "colorbar": {
            "outlinewidth": 0,
            "ticks": ""
           }
          },
          "colorscale": {
           "diverging": [
            [
             0,
             "#8e0152"
            ],
            [
             0.1,
             "#c51b7d"
            ],
            [
             0.2,
             "#de77ae"
            ],
            [
             0.3,
             "#f1b6da"
            ],
            [
             0.4,
             "#fde0ef"
            ],
            [
             0.5,
             "#f7f7f7"
            ],
            [
             0.6,
             "#e6f5d0"
            ],
            [
             0.7,
             "#b8e186"
            ],
            [
             0.8,
             "#7fbc41"
            ],
            [
             0.9,
             "#4d9221"
            ],
            [
             1,
             "#276419"
            ]
           ],
           "sequential": [
            [
             0,
             "#0d0887"
            ],
            [
             0.1111111111111111,
             "#46039f"
            ],
            [
             0.2222222222222222,
             "#7201a8"
            ],
            [
             0.3333333333333333,
             "#9c179e"
            ],
            [
             0.4444444444444444,
             "#bd3786"
            ],
            [
             0.5555555555555556,
             "#d8576b"
            ],
            [
             0.6666666666666666,
             "#ed7953"
            ],
            [
             0.7777777777777778,
             "#fb9f3a"
            ],
            [
             0.8888888888888888,
             "#fdca26"
            ],
            [
             1,
             "#f0f921"
            ]
           ],
           "sequentialminus": [
            [
             0,
             "#0d0887"
            ],
            [
             0.1111111111111111,
             "#46039f"
            ],
            [
             0.2222222222222222,
             "#7201a8"
            ],
            [
             0.3333333333333333,
             "#9c179e"
            ],
            [
             0.4444444444444444,
             "#bd3786"
            ],
            [
             0.5555555555555556,
             "#d8576b"
            ],
            [
             0.6666666666666666,
             "#ed7953"
            ],
            [
             0.7777777777777778,
             "#fb9f3a"
            ],
            [
             0.8888888888888888,
             "#fdca26"
            ],
            [
             1,
             "#f0f921"
            ]
           ]
          },
          "colorway": [
           "#636efa",
           "#EF553B",
           "#00cc96",
           "#ab63fa",
           "#FFA15A",
           "#19d3f3",
           "#FF6692",
           "#B6E880",
           "#FF97FF",
           "#FECB52"
          ],
          "font": {
           "color": "#2a3f5f"
          },
          "geo": {
           "bgcolor": "white",
           "lakecolor": "white",
           "landcolor": "#E5ECF6",
           "showlakes": true,
           "showland": true,
           "subunitcolor": "white"
          },
          "hoverlabel": {
           "align": "left"
          },
          "hovermode": "closest",
          "mapbox": {
           "style": "light"
          },
          "paper_bgcolor": "white",
          "plot_bgcolor": "#E5ECF6",
          "polar": {
           "angularaxis": {
            "gridcolor": "white",
            "linecolor": "white",
            "ticks": ""
           },
           "bgcolor": "#E5ECF6",
           "radialaxis": {
            "gridcolor": "white",
            "linecolor": "white",
            "ticks": ""
           }
          },
          "scene": {
           "xaxis": {
            "backgroundcolor": "#E5ECF6",
            "gridcolor": "white",
            "gridwidth": 2,
            "linecolor": "white",
            "showbackground": true,
            "ticks": "",
            "zerolinecolor": "white"
           },
           "yaxis": {
            "backgroundcolor": "#E5ECF6",
            "gridcolor": "white",
            "gridwidth": 2,
            "linecolor": "white",
            "showbackground": true,
            "ticks": "",
            "zerolinecolor": "white"
           },
           "zaxis": {
            "backgroundcolor": "#E5ECF6",
            "gridcolor": "white",
            "gridwidth": 2,
            "linecolor": "white",
            "showbackground": true,
            "ticks": "",
            "zerolinecolor": "white"
           }
          },
          "shapedefaults": {
           "line": {
            "color": "#2a3f5f"
           }
          },
          "ternary": {
           "aaxis": {
            "gridcolor": "white",
            "linecolor": "white",
            "ticks": ""
           },
           "baxis": {
            "gridcolor": "white",
            "linecolor": "white",
            "ticks": ""
           },
           "bgcolor": "#E5ECF6",
           "caxis": {
            "gridcolor": "white",
            "linecolor": "white",
            "ticks": ""
           }
          },
          "title": {
           "x": 0.05
          },
          "xaxis": {
           "automargin": true,
           "gridcolor": "white",
           "linecolor": "white",
           "ticks": "",
           "title": {
            "standoff": 15
           },
           "zerolinecolor": "white",
           "zerolinewidth": 2
          },
          "yaxis": {
           "automargin": true,
           "gridcolor": "white",
           "linecolor": "white",
           "ticks": "",
           "title": {
            "standoff": 15
           },
           "zerolinecolor": "white",
           "zerolinewidth": 2
          }
         }
        },
        "width": 690,
        "xaxis": {
         "range": [
          -10,
          1000
         ],
         "type": "linear"
        },
        "yaxis": {
         "range": [
          -1,
          2.1
         ],
         "type": "log"
        }
       }
      },
      "image/png": "[encoded data removed]",
      "text/html": [
       "<div>                            <div id=\"b6875c07-ec75-44e5-a661-1f77fa7cd8c9\" class=\"plotly-graph-div\" style=\"height:400px; width:690px;\"></div>            <script type=\"text/javascript\">                require([\"plotly\"], function(Plotly) {                    window.PLOTLYENV=window.PLOTLYENV || {};                                    if (document.getElementById(\"b6875c07-ec75-44e5-a661-1f77fa7cd8c9\")) {                    Plotly.newPlot(                        \"b6875c07-ec75-44e5-a661-1f77fa7cd8c9\",                        [{\"marker\":{\"color\":\"crimson\"},\"x\":[9,12,15,16,18,20,24,25,27,30,32,33,35,36,40,42,45,49,50,54,55,56,60,63,64,65,70,75,77,80,81,87,88,90,91,96,98,99,100,105,108,110,117,119,120,121,126,130,132,136,140,144,150,152,153,156,160,168,169,170,176,180,182,187,192,195,196,198,200,204,208,210,216,221,224,225,228,234,238,240,242,247,250,252,256,264,270,285,286,288,289,299,306,312,320,323,324,342,352,361,374,380,391,396,399,400,414,418,425,437,440,441,468,483,484,506,525,529,532,550,575,576,600,621,625,644,672,729,754,784,810,841,900],\"y\":[29,2,1,5,1,2,1,9,1,5,1,2,3,11,1,2,1,10,1,1,1,1,3,3,6,1,1,2,2,3,15,1,1,3,2,1,1,3,94,1,2,2,2,1,6,10,2,3,2,1,4,14,5,1,1,5,1,3,19,1,2,1,3,1,2,1,6,1,1,1,2,1,1,2,1,25,6,1,1,3,1,7,1,1,10,2,1,3,1,1,4,1,3,1,1,5,2,4,2,8,1,1,1,1,1,13,1,1,1,1,1,7,1,2,5,1,1,8,1,1,1,3,3,2,2,3,1,2,1,1,1,2,20],\"type\":\"bar\"}],                        {\"template\":{\"data\":{\"histogram2dcontour\":[{\"type\":\"histogram2dcontour\",\"colorbar\":{\"outlinewidth\":0,\"ticks\":\"\"},\"colorscale\":[[0.0,\"#0d0887\"],[0.1111111111111111,\"#46039f\"],[0.2222222222222222,\"#7201a8\"],[0.3333333333333333,\"#9c179e\"],[0.4444444444444444,\"#bd3786\"],[0.5555555555555556,\"#d8576b\"],[0.6666666666666666,\"#ed7953\"],[0.7777777777777778,\"#fb9f3a\"],[0.8888888888888888,\"#fdca26\"],[1.0,\"#f0f921\"]]}],\"choropleth\":[{\"type\":\"choropleth\",\"colorbar\":{\"outlinewidth\":0,\"ticks\":\"\"}}],\"histogram2d\":[{\"type\":\"histogram2d\",\"colorbar\":{\"outlinewidth\":0,\"ticks\":\"\"},\"colorscale\":[[0.0,\"#0d0887\"],[0.1111111111111111,\"#46039f\"],[0.2222222222222222,\"#7201a8\"],[0.3333333333333333,\"#9c179e\"],[0.4444444444444444,\"#bd3786\"],[0.5555555555555556,\"#d8576b\"],[0.6666666666666666,\"#ed7953\"],[0.7777777777777778,\"#fb9f3a\"],[0.8888888888888888,\"#fdca26\"],[1.0,\"#f0f921\"]]}],\"heatmap\":[{\"type\":\"heatmap\",\"colorbar\":{\"outlinewidth\":0,\"ticks\":\"\"},\"colorscale\":[[0.0,\"#0d0887\"],[0.1111111111111111,\"#46039f\"],[0.2222222222222222,\"#7201a8\"],[0.3333333333333333,\"#9c179e\"],[0.4444444444444444,\"#bd3786\"],[0.5555555555555556,\"#d8576b\"],[0.6666666666666666,\"#ed7953\"],[0.7777777777777778,\"#fb9f3a\"],[0.8888888888888888,\"#fdca26\"],[1.0,\"#f0f921\"]]}],\"heatmapgl\":[{\"type\":\"heatmapgl\",\"colorbar\":{\"outlinewidth\":0,\"ticks\":\"\"},\"colorscale\":[[0.0,\"#0d0887\"],[0.1111111111111111,\"#46039f\"],[0.2222222222222222,\"#7201a8\"],[0.3333333333333333,\"#9c179e\"],[0.4444444444444444,\"#bd3786\"],[0.5555555555555556,\"#d8576b\"],[0.6666666666666666,\"#ed7953\"],[0.7777777777777778,\"#fb9f3a\"],[0.8888888888888888,\"#fdca26\"],[1.0,\"#f0f921\"]]}],\"contourcarpet\":[{\"type\":\"contourcarpet\",\"colorbar\":{\"outlinewidth\":0,\"ticks\":\"\"}}],\"contour\":[{\"type\":\"contour\",\"colorbar\":{\"outlinewidth\":0,\"ticks\":\"\"},\"colorscale\":[[0.0,\"#0d0887\"],[0.1111111111111111,\"#46039f\"],[0.2222222222222222,\"#7201a8\"],[0.3333333333333333,\"#9c179e\"],[0.4444444444444444,\"#bd3786\"],[0.5555555555555556,\"#d8576b\"],[0.6666666666666666,\"#ed7953\"],[0.7777777777777778,\"#fb9f3a\"],[0.8888888888888888,\"#fdca26\"],[1.0,\"#f0f921\"]]}],\"surface\":[{\"type\":\"surface\",\"colorbar\":{\"outlinewidth\":0,\"ticks\":\"\"},\"colorscale\":[[0.0,\"#0d0887\"],[0.1111111111111111,\"#46039f\"],[0.2222222222222222,\"#7201a8\"],[0.3333333333333333,\"#9c179e\"],[0.4444444444444444,\"#bd3786\"],[0.5555555555555556,\"#d8576b\"],[0.6666666666666666,\"#ed7953\"],[0.7777777777777778,\"#fb9f3a\"],[0.8888888888888888,\"#fdca26\"],[1.0,\"#f0f921\"]]}],\"mesh3d\":[{\"type\":\"mesh3d\",\"colorbar\":{\"outlinewidth\":0,\"ticks\":\"\"}}],\"scatter\":[{\"fillpattern\":{\"fillmode\":\"overlay\",\"size\":10,\"solidity\":0.2},\"type\":\"scatter\"}],\"parcoords\":[{\"type\":\"parcoords\",\"line\":{\"colorbar\":{\"outlinewidth\":0,\"ticks\":\"\"}}}],\"scatterpolargl\":[{\"type\":\"scatterpolargl\",\"marker\":{\"colorbar\":{\"outlinewidth\":0,\"ticks\":\"\"}}}],\"bar\":[{\"error_x\":{\"color\":\"#2a3f5f\"},\"error_y\":{\"color\":\"#2a3f5f\"},\"marker\":{\"line\":{\"color\":\"#E5ECF6\",\"width\":0.5},\"pattern\":{\"fillmode\":\"overlay\",\"size\":10,\"solidity\":0.2}},\"type\":\"bar\"}],\"scattergeo\":[{\"type\":\"scattergeo\",\"marker\":{\"colorbar\":{\"outlinewidth\":0,\"ticks\":\"\"}}}],\"scatterpolar\":[{\"type\":\"scatterpolar\",\"marker\":{\"colorbar\":{\"outlinewidth\":0,\"ticks\":\"\"}}}],\"histogram\":[{\"marker\":{\"pattern\":{\"fillmode\":\"overlay\",\"size\":10,\"solidity\":0.2}},\"type\":\"histogram\"}],\"scattergl\":[{\"type\":\"scattergl\",\"marker\":{\"colorbar\":{\"outlinewidth\":0,\"ticks\":\"\"}}}],\"scatter3d\":[{\"type\":\"scatter3d\",\"line\":{\"colorbar\":{\"outlinewidth\":0,\"ticks\":\"\"}},\"marker\":{\"colorbar\":{\"outlinewidth\":0,\"ticks\":\"\"}}}],\"scattermapbox\":[{\"type\":\"scattermapbox\",\"marker\":{\"colorbar\":{\"outlinewidth\":0,\"ticks\":\"\"}}}],\"scatterternary\":[{\"type\":\"scatterternary\",\"marker\":{\"colorbar\":{\"outlinewidth\":0,\"ticks\":\"\"}}}],\"scattercarpet\":[{\"type\":\"scattercarpet\",\"marker\":{\"colorbar\":{\"outlinewidth\":0,\"ticks\":\"\"}}}],\"carpet\":[{\"aaxis\":{\"endlinecolor\":\"#2a3f5f\",\"gridcolor\":\"white\",\"linecolor\":\"white\",\"minorgridcolor\":\"white\",\"startlinecolor\":\"#2a3f5f\"},\"baxis\":{\"endlinecolor\":\"#2a3f5f\",\"gridcolor\":\"white\",\"linecolor\":\"white\",\"minorgridcolor\":\"white\",\"startlinecolor\":\"#2a3f5f\"},\"type\":\"carpet\"}],\"table\":[{\"cells\":{\"fill\":{\"color\":\"#EBF0F8\"},\"line\":{\"color\":\"white\"}},\"header\":{\"fill\":{\"color\":\"#C8D4E3\"},\"line\":{\"color\":\"white\"}},\"type\":\"table\"}],\"barpolar\":[{\"marker\":{\"line\":{\"color\":\"#E5ECF6\",\"width\":0.5},\"pattern\":{\"fillmode\":\"overlay\",\"size\":10,\"solidity\":0.2}},\"type\":\"barpolar\"}],\"pie\":[{\"automargin\":true,\"type\":\"pie\"}]},\"layout\":{\"autotypenumbers\":\"strict\",\"colorway\":[\"#636efa\",\"#EF553B\",\"#00cc96\",\"#ab63fa\",\"#FFA15A\",\"#19d3f3\",\"#FF6692\",\"#B6E880\",\"#FF97FF\",\"#FECB52\"],\"font\":{\"color\":\"#2a3f5f\"},\"hovermode\":\"closest\",\"hoverlabel\":{\"align\":\"left\"},\"paper_bgcolor\":\"white\",\"plot_bgcolor\":\"#E5ECF6\",\"polar\":{\"bgcolor\":\"#E5ECF6\",\"angularaxis\":{\"gridcolor\":\"white\",\"linecolor\":\"white\",\"ticks\":\"\"},\"radialaxis\":{\"gridcolor\":\"white\",\"linecolor\":\"white\",\"ticks\":\"\"}},\"ternary\":{\"bgcolor\":\"#E5ECF6\",\"aaxis\":{\"gridcolor\":\"white\",\"linecolor\":\"white\",\"ticks\":\"\"},\"baxis\":{\"gridcolor\":\"white\",\"linecolor\":\"white\",\"ticks\":\"\"},\"caxis\":{\"gridcolor\":\"white\",\"linecolor\":\"white\",\"ticks\":\"\"}},\"coloraxis\":{\"colorbar\":{\"outlinewidth\":0,\"ticks\":\"\"}},\"colorscale\":{\"sequential\":[[0.0,\"#0d0887\"],[0.1111111111111111,\"#46039f\"],[0.2222222222222222,\"#7201a8\"],[0.3333333333333333,\"#9c179e\"],[0.4444444444444444,\"#bd3786\"],[0.5555555555555556,\"#d8576b\"],[0.6666666666666666,\"#ed7953\"],[0.7777777777777778,\"#fb9f3a\"],[0.8888888888888888,\"#fdca26\"],[1.0,\"#f0f921\"]],\"sequentialminus\":[[0.0,\"#0d0887\"],[0.1111111111111111,\"#46039f\"],[0.2222222222222222,\"#7201a8\"],[0.3333333333333333,\"#9c179e\"],[0.4444444444444444,\"#bd3786\"],[0.5555555555555556,\"#d8576b\"],[0.6666666666666666,\"#ed7953\"],[0.7777777777777778,\"#fb9f3a\"],[0.8888888888888888,\"#fdca26\"],[1.0,\"#f0f921\"]],\"diverging\":[[0,\"#8e0152\"],[0.1,\"#c51b7d\"],[0.2,\"#de77ae\"],[0.3,\"#f1b6da\"],[0.4,\"#fde0ef\"],[0.5,\"#f7f7f7\"],[0.6,\"#e6f5d0\"],[0.7,\"#b8e186\"],[0.8,\"#7fbc41\"],[0.9,\"#4d9221\"],[1,\"#276419\"]]},\"xaxis\":{\"gridcolor\":\"white\",\"linecolor\":\"white\",\"ticks\":\"\",\"title\":{\"standoff\":15},\"zerolinecolor\":\"white\",\"automargin\":true,\"zerolinewidth\":2},\"yaxis\":{\"gridcolor\":\"white\",\"linecolor\":\"white\",\"ticks\":\"\",\"title\":{\"standoff\":15},\"zerolinecolor\":\"white\",\"automargin\":true,\"zerolinewidth\":2},\"scene\":{\"xaxis\":{\"backgroundcolor\":\"#E5ECF6\",\"gridcolor\":\"white\",\"linecolor\":\"white\",\"showbackground\":true,\"ticks\":\"\",\"zerolinecolor\":\"white\",\"gridwidth\":2},\"yaxis\":{\"backgroundcolor\":\"#E5ECF6\",\"gridcolor\":\"white\",\"linecolor\":\"white\",\"showbackground\":true,\"ticks\":\"\",\"zerolinecolor\":\"white\",\"gridwidth\":2},\"zaxis\":{\"backgroundcolor\":\"#E5ECF6\",\"gridcolor\":\"white\",\"linecolor\":\"white\",\"showbackground\":true,\"ticks\":\"\",\"zerolinecolor\":\"white\",\"gridwidth\":2}},\"shapedefaults\":{\"line\":{\"color\":\"#2a3f5f\"}},\"annotationdefaults\":{\"arrowcolor\":\"#2a3f5f\",\"arrowhead\":0,\"arrowwidth\":1},\"geo\":{\"bgcolor\":\"white\",\"landcolor\":\"#E5ECF6\",\"subunitcolor\":\"white\",\"showland\":true,\"showlakes\":true,\"lakecolor\":\"white\"},\"title\":{\"x\":0.05},\"mapbox\":{\"style\":\"light\"}}},\"xaxis\":{\"type\":\"linear\",\"range\":[-10,1000]},\"yaxis\":{\"type\":\"log\",\"range\":[-1,2.1]},\"autosize\":false,\"width\":690,\"height\":400},                        {\"responsive\": true}                    ).then(function(){\n",
       "                            \n",
       "var gd = document.getElementById('b6875c07-ec75-44e5-a661-1f77fa7cd8c9');\n",
       "var x = new MutationObserver(function (mutations, observer) {{\n",
       "        var display = window.getComputedStyle(gd).display;\n",
       "        if (!display || display === 'none') {{\n",
       "            console.log([gd, 'removed!']);\n",
       "            Plotly.purge(gd);\n",
       "            observer.disconnect();\n",
       "        }}\n",
       "}});\n",
       "\n",
       "// Listen for the removal of the full notebook cells\n",
       "var notebookContainer = gd.closest('#notebook-container');\n",
       "if (notebookContainer) {{\n",
       "    x.observe(notebookContainer, {childList: true});\n",
       "}}\n",
       "\n",
       "// Listen for the clearing of the current output cell\n",
       "var outputEl = gd.closest('.output');\n",
       "if (outputEl) {{\n",
       "    x.observe(outputEl, {childList: true});\n",
       "}}\n",
       "\n",
       "                        })                };                });            </script>        </div>"
      ]
     },
     "metadata": {},
     "output_type": "display_data"
    }
   ],
   "source": [
    "# Segmentation\n",
    "GridKeepDimDF = GridStatsDF[GridStatsDF['comparison'] == 'still'].reset_index(drop=True)\\\n",
    "                                                                 .rename(columns={'size_in': 'size'})\n",
    "# display(GridSquaredDF)\n",
    "\n",
    "fig = go.Figure()\n",
    "fig.add_trace(\n",
    "        go.Bar(x=GridKeepDimDF['size'],\n",
    "               y=GridKeepDimDF['count'],\n",
    "               marker_color='crimson',\n",
    "))\n",
    "fig.update_layout(autosize=False, width=690, height=400, \n",
    "                  xaxis=dict(type=\"linear\", range=[-10, 1000]),\n",
    "                  yaxis=dict(type=\"log\", range=[-1, 2.1]))\n",
    "fig.show()"
   ]
  },
  {
   "cell_type": "markdown",
   "metadata": {},
   "source": [
    "# Transformation as **Optical Flow**"
   ]
  },
  {
   "cell_type": "code",
   "execution_count": null,
   "metadata": {},
   "outputs": [],
   "source": [
    "task = deepcopy(train_set['05f2a901'])\n",
    "\n",
    "for sample_in, sample_out in task.train:\n",
    "\n",
    "    print(np.unique(sample_in))\n",
    "\n",
    "    for x in [2, 8]:\n",
    "        sample_in[sample_in == x] = 1 \n",
    "        sample_out[sample_out == x] = 1\n",
    "    sample_in[sample_in != 1] = 0 \n",
    "    sample_out[sample_out != 1] = 0 \n",
    "    sample_out[2,1] = 1\n",
    "\n",
    "    # sample_size = 50\n",
    "    # sample_in = np.array(Image.fromarray(sample_in).resize((sample_size, sample_size), Image.LANCZOS))\n",
    "    # sample_out = np.array(Image.fromarray(sample_out).resize((sample_size, sample_size), Image.LANCZOS))\n",
    "    \n",
    "    sample_in = (sample_in * 250).astype(np.uint8)\n",
    "    sample_out = (sample_out * 250).astype(np.uint8)\n",
    "    # print(sample_in, '\\n')\n",
    "    # print(sample_out, '\\n\\n')\n",
    "\n",
    "    sample_stack = np.stack([sample_in, sample_out], axis=0)\n",
    "    sample_flow = _calculate_optical_flow(sample_stack, method=\"Farneback\")\n",
    "    # print(sample_flow[..., 0], '\\n')\n",
    "    # print(sample_flow[..., 1], '\\n')\n",
    "\n",
    "    # Visualize\n",
    "    sample_in_img = sample_in.copy()\n",
    "    # sample_in_img[sample_in_img > 0] = 250\n",
    "    sample_flow_img = visualize_dense_flow(sample_flow, mode='color')\n",
    "    \n",
    "    display(Image.fromarray(sample_in_img.astype(np.uint8)).resize((500, 500)))\n",
    "    display(Image.fromarray(sample_flow_img.astype(np.uint8)).resize((500, 500)))\n",
    "    \n",
    "    break"
   ]
  },
  {
   "cell_type": "code",
   "execution_count": null,
   "metadata": {},
   "outputs": [],
   "source": []
  },
  {
   "cell_type": "code",
   "execution_count": null,
   "metadata": {},
   "outputs": [],
   "source": []
  },
  {
   "cell_type": "markdown",
   "metadata": {},
   "source": [
    "# Topic"
   ]
  },
  {
   "cell_type": "code",
   "execution_count": null,
   "metadata": {},
   "outputs": [],
   "source": []
  },
  {
   "cell_type": "code",
   "execution_count": null,
   "metadata": {},
   "outputs": [],
   "source": []
  },
  {
   "cell_type": "markdown",
   "metadata": {},
   "source": [
    "## <div style=\"color: #D35142; font-weight: bold; font-size: 100%; text-align :center; padding: 12.0px; background: #ffffff\"> Thank you for your reading! </div>\n",
    "### <div style=\"color: #D35142; font-weight: bold; font-size: 100%; text-align: center; padding: 12.0px; background: #ffffff\"> Please upvote this notebook if you consider it helpful. Your feedback is my motivation to contribute more ! </div>"
   ]
  }
 ],
 "metadata": {
  "kaggle": {
   "accelerator": "none",
   "dataSources": [
    {
     "databundleVersionId": 8951125,
     "sourceId": 67357,
     "sourceType": "competition"
    }
   ],
   "dockerImageVersionId": 30732,
   "isGpuEnabled": false,
   "isInternetEnabled": true,
   "language": "python",
   "sourceType": "notebook"
  },
  "kernelspec": {
   "display_name": "Python 3 (ipykernel)",
   "language": "python",
   "name": "python3"
  },
  "language_info": {
   "codemirror_mode": {
    "name": "ipython",
    "version": 3
   },
   "file_extension": ".py",
   "mimetype": "text/x-python",
   "name": "python",
   "nbconvert_exporter": "python",
   "pygments_lexer": "ipython3",
   "version": "3.12.2"
  }
 },
 "nbformat": 4,
 "nbformat_minor": 4
}
